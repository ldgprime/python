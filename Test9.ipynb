{
 "cells": [
  {
   "cell_type": "code",
   "execution_count": null,
   "metadata": {},
   "outputs": [],
   "source": [
    "#파일입출력\n",
    "f=open('data/yesterday.txt', 'r')\n",
    "contents = f.readline()\n",
    "print(contents)\n",
    "f.close()"
   ]
  },
  {
   "cell_type": "code",
   "execution_count": null,
   "metadata": {},
   "outputs": [],
   "source": [
    "#close 자동으로\n",
    "with open(\"data/yesterday.txt\",'r') as my_f:\n",
    "    contents = my_f.read()\n",
    "    print(contents)"
   ]
  },
  {
   "cell_type": "code",
   "execution_count": null,
   "metadata": {},
   "outputs": [],
   "source": [
    "f=open('data/corona.txt','r',encoding='utf-8')\n",
    "contents=f.read()\n",
    "print(contents)\n",
    "f.close()"
   ]
  },
  {
   "cell_type": "code",
   "execution_count": null,
   "metadata": {},
   "outputs": [],
   "source": [
    "with open(\"data/corona.txt\",'r',encoding = 'utf-8') as my_f:\n",
    "    contents_list = my_f.readlines()\n",
    "    print(contents_list)"
   ]
  },
  {
   "cell_type": "code",
   "execution_count": null,
   "metadata": {
    "scrolled": false
   },
   "outputs": [],
   "source": [
    "with open('data/yesterday.txt','r') as my_file:\n",
    "    i=0\n",
    "    while 1:\n",
    "        line = my_file.readline()\n",
    "        if not line:\n",
    "            break\n",
    "        print(str(i)+\"===\"+line.replace('\\n',\"\"))\n",
    "        i = i+1"
   ]
  },
  {
   "cell_type": "code",
   "execution_count": null,
   "metadata": {},
   "outputs": [],
   "source": [
    "with open('data/yesterday.txt','r') as my_file:\n",
    "    content_list=my_file.readlines()    \n",
    "    for i in range(len(content_list)):\n",
    "        if content_list[i] !='\\n':\n",
    "            print(i,'===',content_list[i])"
   ]
  },
  {
   "cell_type": "code",
   "execution_count": 5,
   "metadata": {},
   "outputs": [
    {
     "name": "stdout",
     "output_type": "stream",
     "text": [
      " 0 === Yesterday all my troubles\n",
      " 1 === seemed so far away.\n",
      " 2 === Now it looks\n",
      " 3 === as though they're here to stay.\n",
      " 4 === Oh, I believe in yesterday.\n",
      " 5 === Suddenly I'm not half\n",
      " 6 === the man I used to be.\n",
      " 7 === There's a shadow hanging over me.\n",
      " 8 === Oh, yesterday came suddenly.\n",
      " 9 === Why she had to go,\n",
      "10 === I don't know,\n",
      "11 === she wouldn't say.\n",
      "12 === I said something wrong,\n",
      "13 === now I long for yesterday.\n",
      "14 === Yesterday love was\n",
      "15 === such an easy game to play.\n",
      "16 === Now I need a place to hide away.\n",
      "17 === Oh, I believe in yesterday.\n",
      "18 === Why she had to go,\n",
      "19 === I don't know,\n",
      "20 === she wouldn't say.\n",
      "21 === I said something wrong,\n",
      "22 === now I long for yesterday.\n",
      "23 === Yesterday love was\n",
      "24 === such an easy game to play.\n",
      "25 === Now I need a place to hide away.\n",
      "26 === Oh, I believe in yesterday.\n",
      "27 === Mm mm mm mm mm mm mm\n",
      "28 === \n",
      "총 글자 수  663\n",
      "총 단어 수  133\n",
      "총 줄의 수  29\n"
     ]
    }
   ],
   "source": [
    "with open('data/yesterday.txt','r') as my_file:\n",
    "    contents=my_file.read()\n",
    "    contents=contents.replace('\\n\\n','\\n')\n",
    "    content_list=contents.split('\\n')\n",
    "    for i in range(len(content_list)):\n",
    "        if content_list[i] !='\\n':\n",
    "            print(\"%2d === %s\"%(i,content_list[i]))\n",
    "    print(\"총 글자 수 \",len(contents))\n",
    "    print(\"총 단어 수 \",len(contents.split()))\n",
    "    print(\"총 줄의 수 \",len(content_list))"
   ]
  },
  {
   "cell_type": "code",
   "execution_count": null,
   "metadata": {},
   "outputs": [],
   "source": [
    "f=open('data/count_log.txt','w',encoding='utf-8')\n",
    "for i in range(1,11):\n",
    "    data=\"%d번째 줄이다.\\n\"%i\n",
    "    f.write(data)\n",
    "f.close()"
   ]
  },
  {
   "cell_type": "code",
   "execution_count": null,
   "metadata": {},
   "outputs": [],
   "source": [
    "with open('data/count_log.txt','a',encoding='utf-8') as f:\n",
    "    for i in range(11,21):\n",
    "        data=\"%d번째 줄이다.\\n\"%i\n",
    "        f.write(data)"
   ]
  },
  {
   "cell_type": "code",
   "execution_count": null,
   "metadata": {},
   "outputs": [],
   "source": [
    "import os\n",
    "os.mkdir(\"log1\")"
   ]
  },
  {
   "cell_type": "code",
   "execution_count": null,
   "metadata": {},
   "outputs": [],
   "source": [
    "import os\n",
    "#없을 때만 만들어라\n",
    "if not os.path.isdir('log1'):\n",
    "    os.mkdir(\"log1\")\n",
    "    \n",
    "if not os.path.exists('log/count_log.txt'):\n",
    "    f=open('log/count_log.txt','w',encoding='utf-8')\n",
    "    f.write('기록이 시작됨!!!!\\n')\n",
    "    f.close()\n",
    "    \n",
    "with open(\"log/count_log.txt\",'a',encoding='utf-8') as f:\n",
    "    import random,datetime    \n",
    "    for i in range(1,11):\n",
    "        stamp=str(datetime.datetime.now())\n",
    "        value=random.random()*10000\n",
    "        log_line=stamp+'\\t'+str(value)+'값이 생성됨.\\n'        \n",
    "        f.write(log_line)\n",
    "    \n",
    "    "
   ]
  },
  {
   "cell_type": "code",
   "execution_count": null,
   "metadata": {},
   "outputs": [],
   "source": [
    "f=open(\"data/yesterday1.txt\",'w')\n",
    "for i in content_list:    \n",
    "    f.write(i)\n",
    "#스트링만 저장 가능하다\n",
    "#f.write(contents)\n",
    "f.close()"
   ]
  },
  {
   "cell_type": "code",
   "execution_count": null,
   "metadata": {},
   "outputs": [],
   "source": [
    "s='abcdef'\n",
    "a=list(s)\n",
    "print(a)\n",
    "f=open(\"data/yesterday1.txt\",'w')\n",
    "\n",
    "#f.write(content_list)\n",
    "#스트링만 저장 가능하다\n",
    "#f.write(contents)\n",
    "f.write(a)\n",
    "f.close()"
   ]
  },
  {
   "cell_type": "code",
   "execution_count": 2,
   "metadata": {},
   "outputs": [],
   "source": [
    "import pickle\n",
    "\n",
    "#바이러니 형태로 저장\n",
    "f=open('data/list.pickle','wb')\n",
    "test=[1,2,3,4,5]\n",
    "pickle.dump(test,f)\n",
    "f.close()"
   ]
  },
  {
   "cell_type": "code",
   "execution_count": null,
   "metadata": {},
   "outputs": [],
   "source": [
    "f=open('data/list.pickle','rb')\n",
    "test_pickle = pickle.load(f)\n",
    "print(test_pickle)\n",
    "f.close()"
   ]
  },
  {
   "cell_type": "code",
   "execution_count": 6,
   "metadata": {},
   "outputs": [],
   "source": [
    "f=open('data/yesterday_pickle.pickle','wb')\n",
    "pickle.dump(content_list,f)\n",
    "f.close()"
   ]
  },
  {
   "cell_type": "code",
   "execution_count": 7,
   "metadata": {},
   "outputs": [
    {
     "name": "stdout",
     "output_type": "stream",
     "text": [
      "['Yesterday all my troubles', 'seemed so far away.', 'Now it looks', \"as though they're here to stay.\", 'Oh, I believe in yesterday.', \"Suddenly I'm not half\", 'the man I used to be.', \"There's a shadow hanging over me.\", 'Oh, yesterday came suddenly.', 'Why she had to go,', \"I don't know,\", \"she wouldn't say.\", 'I said something wrong,', 'now I long for yesterday.', 'Yesterday love was', 'such an easy game to play.', 'Now I need a place to hide away.', 'Oh, I believe in yesterday.', 'Why she had to go,', \"I don't know,\", \"she wouldn't say.\", 'I said something wrong,', 'now I long for yesterday.', 'Yesterday love was', 'such an easy game to play.', 'Now I need a place to hide away.', 'Oh, I believe in yesterday.', 'Mm mm mm mm mm mm mm', '']\n"
     ]
    }
   ],
   "source": [
    "f=open('data/yesterday_pickle.pickle','rb')\n",
    "yesterday_pickle = pickle.load(f)\n",
    "print(yesterday_pickle)\n",
    "f.close()"
   ]
  },
  {
   "cell_type": "code",
   "execution_count": 9,
   "metadata": {},
   "outputs": [
    {
     "data": {
      "text/plain": [
       "50"
      ]
     },
     "execution_count": 9,
     "metadata": {},
     "output_type": "execute_result"
    }
   ],
   "source": [
    "class Multiply(object):\n",
    "    def __init__(self,multiplier):\n",
    "        self.multiplier=multiplier\n",
    "    def multiply(self,number):\n",
    "        return number*self.multiplier\n",
    "\n",
    "mulply=Multiply(5)\n",
    "mulply.multiply(10)"
   ]
  },
  {
   "cell_type": "code",
   "execution_count": 10,
   "metadata": {},
   "outputs": [],
   "source": [
    "import pickle\n",
    "\n",
    "#Multiply 객체의 multiplier 요소,변수 5가 저장된 객체를 pickle상태로 저장\n",
    "f=open('data/multiply_object.pickle','wb')\n",
    "pickle.dump(mulply,f)\n",
    "f.close()"
   ]
  },
  {
   "cell_type": "code",
   "execution_count": 12,
   "metadata": {},
   "outputs": [
    {
     "name": "stdout",
     "output_type": "stream",
     "text": [
      "25\n"
     ]
    }
   ],
   "source": [
    "#객체를 저장 후 불러옴\n",
    "f=open('data/multiply_object.pickle','rb')\n",
    "multiply_pickle=pickle.load(f)\n",
    "multiply_pickle.multiply(5)\n",
    "print(multiply_pickle.multiply(5))\n",
    "f.close()"
   ]
  }
 ],
 "metadata": {
  "kernelspec": {
   "display_name": "Python 3",
   "language": "python",
   "name": "python3"
  },
  "language_info": {
   "codemirror_mode": {
    "name": "ipython",
    "version": 3
   },
   "file_extension": ".py",
   "mimetype": "text/x-python",
   "name": "python",
   "nbconvert_exporter": "python",
   "pygments_lexer": "ipython3",
   "version": "3.7.4"
  }
 },
 "nbformat": 4,
 "nbformat_minor": 2
}
