{
 "cells": [
  {
   "cell_type": "code",
   "execution_count": 4,
   "metadata": {},
   "outputs": [
    {
     "name": "stdout",
     "output_type": "stream",
     "text": [
      "12\n",
      "10 2 (3, 1, 4, 6, 7)\n",
      "10 2 3 1 4 6 7\n"
     ]
    }
   ],
   "source": [
    "def func1(a,b,*c):\n",
    "    print(a+b)\n",
    "    print(a,b,c)\n",
    "    print(a,b,*c)\n",
    "    \n",
    "func1(10,2,3,1,4,6,7)"
   ]
  },
  {
   "cell_type": "code",
   "execution_count": 7,
   "metadata": {},
   "outputs": [
    {
     "name": "stdout",
     "output_type": "stream",
     "text": [
      "{'a': 10, 'b': 20}\n",
      "10,20\n"
     ]
    }
   ],
   "source": [
    "def func2(**args):\n",
    "    print(args)\n",
    "    print(\"{a},{b}\".format(**args))\n",
    "\n",
    "func2(a=10,b=20)\n",
    "    "
   ]
  },
  {
   "cell_type": "code",
   "execution_count": 17,
   "metadata": {},
   "outputs": [],
   "source": [
    "#객체지향 프로그래밍\n",
    "class SoccerPlayer(object):\n",
    "    def __init__(self,name,position,back_number):\n",
    "        self.name = name\n",
    "        self.position = position\n",
    "        self.back_number = back_number\n",
    "    def change_back_number(self, new_number):\n",
    "        print(\"선수의 등번호를 변경한다: From %d to %d\" %(self.back_number,new_number))\n",
    "        self.back_number = new_number\n",
    "    def __str__(self):\n",
    "        return \"Hello, My name is %s. I play in %s in center.\" %(self.name, self.position)"
   ]
  },
  {
   "cell_type": "code",
   "execution_count": 24,
   "metadata": {},
   "outputs": [
    {
     "name": "stdout",
     "output_type": "stream",
     "text": [
      "현재 선수의 등번호는: 10\n",
      "선수의 등번호를 변경한다: From 10 to 5\n",
      "현재 선수의 등번호는: 5\n",
      "Hello, My name is Jinhyun. I play in MF in center.\n",
      "Jinhyun\n",
      "MF\n",
      "5\n",
      "Hello, My name is Jinhyun. I play in MF in center.\n"
     ]
    }
   ],
   "source": [
    "jinhyun = SoccerPlayer(\"Jinhyun\",\"MF\",10)\n",
    "\n",
    "print(\"현재 선수의 등번호는:\",jinhyun.back_number)\n",
    "jinhyun.change_back_number(5)\n",
    "print(\"현재 선수의 등번호는:\",jinhyun.back_number)\n",
    "\n",
    "print(jinhyun)\n",
    "print(jinhyun.name)\n",
    "print(jinhyun.position)\n",
    "print(jinhyun.back_number)\n",
    "print(jinhyun.__str__())\n"
   ]
  },
  {
   "cell_type": "code",
   "execution_count": null,
   "metadata": {},
   "outputs": [],
   "source": [
    "# class : Student\n",
    "# 필드 : sno,name,major\n",
    "#__init__:모든 필드 초기화\n",
    "#setMajor(): 전공 변경\n",
    "#__str__: 모든 정보 출력"
   ]
  },
  {
   "cell_type": "code",
   "execution_count": 37,
   "metadata": {},
   "outputs": [],
   "source": [
    "class Student(object):\n",
    "    def __init__(self, sno, name, major):\n",
    "        self.sno=sno\n",
    "        self.name=name\n",
    "        self.major=major\n",
    "    def setMajor(self,new_major):\n",
    "        print(\"From %s to %s \" %(self.major,new_major))\n",
    "        self.major=new_major\n",
    "    def __str__(self): \n",
    "        return \"sno:{0}, name:{1}, major:{2}\" .format(self.sno,self.name, self.major)"
   ]
  },
  {
   "cell_type": "code",
   "execution_count": 39,
   "metadata": {},
   "outputs": [
    {
     "name": "stdout",
     "output_type": "stream",
     "text": [
      "sno:1, name:lee, majorcomputer\n",
      "From computer to math \n",
      "sno:1, name:lee, majormath\n"
     ]
    }
   ],
   "source": [
    "lee = Student(1,\"lee\",\"computer\")\n",
    "print(lee)\n",
    "lee.setMajor(\"math\")\n",
    "print(lee)"
   ]
  },
  {
   "cell_type": "code",
   "execution_count": 50,
   "metadata": {},
   "outputs": [
    {
     "name": "stdout",
     "output_type": "stream",
     "text": [
      "[['kim', 'park', 'lee'], ['MF', 'DF', 'CF'], [10, 3, 5, 4]]\n",
      "('kim', 'MF', 10)\n",
      "('park', 'DF', 3)\n",
      "('lee', 'CF', 5)\n",
      "[['kim', 'MF', 10], ['park', 'DF', 3], ['lee', 'CF', 5]]\n"
     ]
    }
   ],
   "source": [
    "#이차원 배열\n",
    "names=[\"kim\",\"park\",\"lee\"]\n",
    "positions=[\"MF\",\"DF\",\"CF\"]\n",
    "numbers=[10,3,5,4]\n",
    "\n",
    "players=[names,positions,numbers] \n",
    "print(players)\n",
    "\n",
    "p=zip(names,positions,numbers)\n",
    "for i in p:\n",
    "    print(i)\n",
    "\n",
    "players=[[name,position,number] for name,position,number in zip(names,positions,numbers)]\n",
    "print(players)"
   ]
  },
  {
   "cell_type": "code",
   "execution_count": 51,
   "metadata": {},
   "outputs": [
    {
     "name": "stdout",
     "output_type": "stream",
     "text": [
      "Hello, My name is kim. I play in MF in center.\n",
      "Hello, My name is park. I play in DF in center.\n",
      "Hello, My name is lee. I play in CF in center.\n"
     ]
    }
   ],
   "source": [
    "player_objects=[SoccerPlayer(name,position,number) for name,position,number in zip(names,positions,numbers)]\n",
    "for player in player_objects:\n",
    "    print(player)"
   ]
  },
  {
   "cell_type": "code",
   "execution_count": 2,
   "metadata": {},
   "outputs": [],
   "source": [
    "            #상속 받을 부모클래스 적어줌 파이썬 최상위 객체 object\n",
    "class Person(object):\n",
    "    #특별한 메소드 생성자\n",
    "    def __init__(self, name, age, gender):\n",
    "        self.name = name\n",
    "        self.age=age\n",
    "        self.gender=gender\n",
    "        \n",
    "    #객체를 스트링 화    \n",
    "    def __str__(self):\n",
    "        return \"%s, %d, %s\" %(self.name,self.age,self.gender)\n",
    "    \n",
    "    def display(self):\n",
    "        print(\"%s, %d, %s\" %(self.name,self.age,self.gender),end=\", \")"
   ]
  },
  {
   "cell_type": "code",
   "execution_count": 3,
   "metadata": {},
   "outputs": [],
   "source": [
    "class Empolyee(Person):\n",
    "    def __init__(self,name,age,gender,dept,salary,hire_date):\n",
    "        super().__init__(name,age,gender)\n",
    "        #가시성 제한\n",
    "        self.__dept=dept\n",
    "        self.salary=salary\n",
    "        self.hire_date=hire_date\n",
    "        \n",
    "    def setSalary(self, salary):\n",
    "        self.salary=salary\n",
    "    \n",
    "    #함수 오버라이딩 super함수 호출\n",
    "    def display(self):\n",
    "        super().display()\n",
    "        print(\"%s, %d, %s\" %(self.dept,self.salary,self.hire_date))"
   ]
  },
  {
   "cell_type": "code",
   "execution_count": 4,
   "metadata": {},
   "outputs": [
    {
     "name": "stdout",
     "output_type": "stream",
     "text": [
      "lee, 30, M, saler, 500, 2019-01-03\n",
      "lee, 30, M, saler, 1000, 2019-01-03\n"
     ]
    }
   ],
   "source": [
    "e1 = Empolyee('lee',30,'M','saler',500,'2019-01-03')\n",
    "e1.display()\n",
    "e1.setSalary(1000)\n",
    "e1.display()"
   ]
  },
  {
   "cell_type": "code",
   "execution_count": 5,
   "metadata": {},
   "outputs": [],
   "source": [
    "#empolyee 객체 pickle 저장하고 불러오기\n",
    "import pickle\n",
    "f=open('data/empolyee.pickle','wb')\n",
    "pickle.dump(e1,f)\n",
    "f.close()"
   ]
  },
  {
   "cell_type": "code",
   "execution_count": 6,
   "metadata": {},
   "outputs": [
    {
     "name": "stdout",
     "output_type": "stream",
     "text": [
      "lee, 30, M, saler, 1000, 2019-01-03\n",
      "lee, 30, M, saler, 10000, 2019-01-03\n"
     ]
    }
   ],
   "source": [
    "f=open('data/empolyee.pickle','rb')\n",
    "empolyee_pickle=pickle.load(f)\n",
    "empolyee_pickle.display()\n",
    "empolyee_pickle.setSalary(10000)\n",
    "empolyee_pickle.display()"
   ]
  },
  {
   "cell_type": "code",
   "execution_count": 82,
   "metadata": {},
   "outputs": [],
   "source": [
    "class Student(Person):\n",
    "    def __init__(self,name,age,gender, sno, major):\n",
    "        super().__init__(name,age,gender)\n",
    "        self.__sno=sno\n",
    "        self.major=major\n",
    "    def setMajor(self,new_major):\n",
    "        print(\"From %s to %s \" %(self.major,new_major))\n",
    "        self.major=new_major\n",
    "        \n",
    "    def getSno(self):\n",
    "        return self.__sno\n",
    "        \n",
    "    def display(self):\n",
    "        print(self.__sno, end=\", \")\n",
    "        super().display()\n",
    "        print(self.major)\n",
    "        \n",
    "    def __str__(self): \n",
    "        return \"sno:{0}, name:{1}, major:{2}\" .format(self.sno,self.name, self.major)"
   ]
  },
  {
   "cell_type": "code",
   "execution_count": 84,
   "metadata": {},
   "outputs": [
    {
     "name": "stdout",
     "output_type": "stream",
     "text": [
      "3, kim, 23, M, math\n",
      "kim\n",
      "math\n",
      "computer\n",
      "3\n"
     ]
    },
    {
     "ename": "AttributeError",
     "evalue": "'Student' object has no attribute '__sno'",
     "output_type": "error",
     "traceback": [
      "\u001b[1;31m---------------------------------------------------------------------------\u001b[0m",
      "\u001b[1;31mAttributeError\u001b[0m                            Traceback (most recent call last)",
      "\u001b[1;32m<ipython-input-84-d6d751314283>\u001b[0m in \u001b[0;36m<module>\u001b[1;34m\u001b[0m\n\u001b[0;32m      8\u001b[0m \u001b[1;31m#가시성? 접근지정자? setter,getter 필요 클래스 내부에서만 사용가능 __ private\u001b[0m\u001b[1;33m\u001b[0m\u001b[1;33m\u001b[0m\u001b[1;33m\u001b[0m\u001b[0m\n\u001b[0;32m      9\u001b[0m \u001b[0mprint\u001b[0m\u001b[1;33m(\u001b[0m\u001b[0ms1\u001b[0m\u001b[1;33m.\u001b[0m\u001b[0mgetSno\u001b[0m\u001b[1;33m(\u001b[0m\u001b[1;33m)\u001b[0m\u001b[1;33m)\u001b[0m\u001b[1;33m\u001b[0m\u001b[1;33m\u001b[0m\u001b[0m\n\u001b[1;32m---> 10\u001b[1;33m \u001b[0mprint\u001b[0m\u001b[1;33m(\u001b[0m\u001b[0ms1\u001b[0m\u001b[1;33m.\u001b[0m\u001b[0m__sno\u001b[0m\u001b[1;33m)\u001b[0m\u001b[1;33m\u001b[0m\u001b[1;33m\u001b[0m\u001b[0m\n\u001b[0m",
      "\u001b[1;31mAttributeError\u001b[0m: 'Student' object has no attribute '__sno'"
     ]
    }
   ],
   "source": [
    "s1=Student('kim',23,'M',3,'math')\n",
    "s1.display()\n",
    "\n",
    "print(s1.name)\n",
    "print(s1.major)\n",
    "#__사용하지 않으면 setter없이 값 변경 가능\n",
    "s1.major=\"computer\"\n",
    "print(s1.major)\n",
    "#가시성? 접근지정자? setter,getter 필요 클래스 내부에서만 사용가능 __ private\n",
    "print(s1.getSno())\n",
    "print(s1.__sno)"
   ]
  },
  {
   "cell_type": "code",
   "execution_count": null,
   "metadata": {},
   "outputs": [],
   "source": [
    "import random\n",
    "random.randint(1,100)"
   ]
  }
 ],
 "metadata": {
  "kernelspec": {
   "display_name": "Python 3",
   "language": "python",
   "name": "python3"
  },
  "language_info": {
   "codemirror_mode": {
    "name": "ipython",
    "version": 3
   },
   "file_extension": ".py",
   "mimetype": "text/x-python",
   "name": "python",
   "nbconvert_exporter": "python",
   "pygments_lexer": "ipython3",
   "version": "3.7.4"
  }
 },
 "nbformat": 4,
 "nbformat_minor": 2
}
