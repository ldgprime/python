{
 "cells": [
  {
   "cell_type": "code",
   "execution_count": null,
   "metadata": {},
   "outputs": [],
   "source": [
    "#복습\n",
    "kor_score=[49,80,20,100,80]\n",
    "math_score=[43,60,85,30,90]\n",
    "eng_score=[49,82,48,50,100]\n",
    "score=[kor_score,math_score,eng_score]\n",
    "print(score)"
   ]
  },
  {
   "cell_type": "code",
   "execution_count": null,
   "metadata": {},
   "outputs": [],
   "source": [
    "avg=[0,0,0,0,0]\n",
    "print(len(score))\n",
    "print(len(score[0]))\n",
    "for i in range(len(score)):\n",
    "    for j in range(len(score[i])):\n",
    "        avg[j]+=score[i][j]\n",
    "print(avg)\n",
    "for i in range(len(avg)):\n",
    "    avg[i]=avg[i]/3\n",
    "print(avg)"
   ]
  },
  {
   "cell_type": "code",
   "execution_count": null,
   "metadata": {},
   "outputs": [],
   "source": [
    "rank=[]\n",
    "for i in range(len(avg)):\n",
    "    r=1\n",
    "    for j in range(len(avg)):\n",
    "        if avg[j]>avg[i]:\n",
    "            r+=1\n",
    "    rank.append(r)\n",
    "    \n",
    "print(rank)"
   ]
  },
  {
   "cell_type": "code",
   "execution_count": null,
   "metadata": {},
   "outputs": [],
   "source": [
    "#문자열\n",
    "a='abcdefg'\n",
    "print(a[0:5])\n",
    "print(a[::-1])"
   ]
  },
  {
   "cell_type": "code",
   "execution_count": null,
   "metadata": {},
   "outputs": [],
   "source": [
    "b='가나다라'\n",
    "print(a+b)\n",
    "print(a*10)\n",
    "print(a+2)"
   ]
  },
  {
   "cell_type": "code",
   "execution_count": null,
   "metadata": {},
   "outputs": [],
   "source": [
    "int_value='2'\n",
    "print(\"결과는\"+int_value)\n",
    "\n",
    "int_value=2\n",
    "print(\"결과는\"+int_value)"
   ]
  },
  {
   "cell_type": "code",
   "execution_count": null,
   "metadata": {},
   "outputs": [],
   "source": [
    "title = \"aTeamlab x inflearn abc\"\n",
    "print(title.upper())\n",
    "print(title.lower())\n",
    "print(title.title())\n",
    "print(title.capitalize())\n",
    "print(title.count('a'))\n",
    "print(title.startswith('a'))\n",
    "print(title.endswith('abc'))"
   ]
  },
  {
   "cell_type": "code",
   "execution_count": null,
   "metadata": {},
   "outputs": [],
   "source": [
    "a=\"It's OK\"\n",
    "print(a)\n",
    "a='It\\'s OK'\n",
    "print(a)\n",
    "a=\"It\\'s OK\"\n",
    "print(a)\n",
    "a='It's OK'\n",
    "print(a)"
   ]
  },
  {
   "cell_type": "code",
   "execution_count": null,
   "metadata": {},
   "outputs": [],
   "source": [
    "a=\"It's Ok \\nI'm happy \\nSee you\"\n",
    "b=\"\"\"it's Ok\n",
    "I'm Happy\n",
    "See you\"\"\"\n",
    "print(a)\n",
    "print(b)"
   ]
  },
  {
   "cell_type": "code",
   "execution_count": null,
   "metadata": {
    "scrolled": true
   },
   "outputs": [],
   "source": [
    "f=open('data\\yesterday.txt','r', encoding='utf-8')\n",
    "yesterday_text=f.readlines() #한줄씩 리스트로\n",
    "f.close() #파일은 꼭 닫아줘야한다\n",
    "print(yesterday_text)\n",
    "print(yesterday_text[0])"
   ]
  },
  {
   "cell_type": "code",
   "execution_count": null,
   "metadata": {},
   "outputs": [],
   "source": [
    "contents=''\n",
    "for line in yesterday_text:\n",
    "    contents+=line.strip()+\"\\n\"\n",
    "print(contents)\n",
    "count_yesterday=contents.lower().count(\"yesterday\")\n",
    "print(\"Number of a word 'yesterday'\",count_yesterday)"
   ]
  },
  {
   "cell_type": "code",
   "execution_count": null,
   "metadata": {},
   "outputs": [],
   "source": [
    "f=open(\"data\\corona.txt\",'r',encoding='utf-8')\n",
    "corona_text=f.readlines()\n",
    "f.close()\n",
    "corona_text"
   ]
  },
  {
   "cell_type": "code",
   "execution_count": null,
   "metadata": {},
   "outputs": [],
   "source": [
    "content=\"\"\n",
    "for line in corona_text:\n",
    "    content+=line.strip()\n",
    "count_test=content.count('코로나')\n",
    "print(count_test)\n"
   ]
  },
  {
   "cell_type": "code",
   "execution_count": null,
   "metadata": {},
   "outputs": [],
   "source": [
    "name=\"홍길동\"\n",
    "age=20\n",
    "weight=75.2\n",
    "height=180.5\n",
    "\n",
    "print(\"이름: %-5s, 나이: %5d, 키: %.1f, 몸무게:%.1f\" %(name,age,height,weight))\n",
    "        #전체 5자리, 좌측정렬\n",
    "print(\"나이: {1}, 이름: {0:>10s}, 키: {2:.5f}, 이름: {0:<10s},몸무게: {3:3.5f}\".format(name,age,height,weight) )    "
   ]
  },
  {
   "cell_type": "code",
   "execution_count": null,
   "metadata": {},
   "outputs": [],
   "source": [
    "a=\"{name},{age},{gender}\".format(name=\"홍길동\",age=20,gender='남자')\n",
    "print(a)\n",
    "b=\"%s, %d\"%(name,age)\n",
    "print(b)"
   ]
  },
  {
   "cell_type": "code",
   "execution_count": null,
   "metadata": {},
   "outputs": [],
   "source": [
    "#자료구조\n",
    "#pop list에서 꺼내고 없어짐\n",
    "a=[1,2,3,4]\n",
    "a.append(10)\n",
    "a.append(15)\n",
    "a.pop()\n",
    "a.pop()\n",
    "a"
   ]
  },
  {
   "cell_type": "code",
   "execution_count": null,
   "metadata": {},
   "outputs": [],
   "source": [
    "s=\"abcdef\"\n",
    "s1=s[::-1]\n",
    "s1\n",
    "\n",
    "s=\"abcdef\"\n",
    "print(s)\n",
    "s_list=list(s)\n",
    "print(s_list)\n",
    "result=[]\n",
    "for _ in range(len(s_list)):\n",
    "    result.append(s_list.pop())\n",
    "print(result)"
   ]
  },
  {
   "cell_type": "code",
   "execution_count": null,
   "metadata": {
    "scrolled": true
   },
   "outputs": [],
   "source": [
    "a=[1,2,3,4]\n",
    "a.append(10)\n",
    "a.append(20)\n",
    "print(a)\n",
    "a.pop(0)\n",
    "a.pop(0)\n",
    "print(a)"
   ]
  },
  {
   "cell_type": "code",
   "execution_count": null,
   "metadata": {},
   "outputs": [],
   "source": [
    "#튜플 값이 바뀌지 않는다. 대괄호[]가 아닌 ()를 이용한다.\n",
    "t=(1,2,3)\n",
    "#t[0]=10\n",
    "a,b,c=t\n",
    "print(a,b,c)\n",
    "print(t+t,t*2)"
   ]
  },
  {
   "cell_type": "code",
   "execution_count": null,
   "metadata": {},
   "outputs": [],
   "source": [
    "a=[1,2,3,4]\n",
    "s=set(a)\n",
    "s1={10,20,30}\n",
    "print(s,s1)\n",
    "a1='abcde'\n",
    "l=list(a1)\n",
    "print(l)\n",
    "t1=(1,2,3)\n",
    "t2=tuple(a)\n",
    "print(t1,t2)\n",
    "s1={1,2,3,4}\n",
    "s2=set(a)\n",
    "print(s1,s2)\n",
    "s1.add(10)\n",
    "print(s1)\n",
    "s1.update([20,30,40])\n",
    "print(s1)\n",
    "s1.remove(30) #remove(value) value없으면 에러남\n",
    "s1.discard(20) #discard(value) value없으면 그냥 넘어감\n",
    "print(s1)\n",
    "s1.clear()\n",
    "s1"
   ]
  },
  {
   "cell_type": "code",
   "execution_count": null,
   "metadata": {},
   "outputs": [],
   "source": [
    "s1={1,2,3,4,5}\n",
    "s2={3,4,5,6,7}\n",
    "\n",
    "print(s1.union(s2))\n",
    "print(s1 | s2)\n",
    "print(s1.intersection(s2))\n",
    "print(s1 & s2)\n",
    "print(s1.difference(s2))\n",
    "print(s1 - s2)"
   ]
  },
  {
   "cell_type": "code",
   "execution_count": null,
   "metadata": {},
   "outputs": [],
   "source": [
    "\n",
    "score={'이이이':85,'이동동':90,'이관관':87}\n",
    "print(score['이이이'])\n",
    "score['이이이']=75\n",
    "print(score)\n",
    "score['동동동']=65\n",
    "print(score)\n",
    "d=dict()\n",
    "print(d)\n",
    "d[1]=100\n",
    "d[2]=300\n",
    "print(d)\n",
    "d1={}\n",
    "print(d1)\n",
    "d1['kim']=200\n",
    "d1['lee']=300\n",
    "print(d1)"
   ]
  },
  {
   "cell_type": "code",
   "execution_count": null,
   "metadata": {},
   "outputs": [],
   "source": [
    "print(score.keys())\n",
    "print(score.values())"
   ]
  },
  {
   "cell_type": "code",
   "execution_count": null,
   "metadata": {},
   "outputs": [],
   "source": [
    "s=[]\n",
    "for i in score.keys():\n",
    "    s.append(score[i])\n",
    "print(s)"
   ]
  },
  {
   "cell_type": "code",
   "execution_count": null,
   "metadata": {},
   "outputs": [],
   "source": [
    "score.items()#튜플로 한쌍씩 만들어준다"
   ]
  },
  {
   "cell_type": "code",
   "execution_count": null,
   "metadata": {},
   "outputs": [],
   "source": [
    "for k,v in score.items():\n",
    "    print(k,\":\",v)"
   ]
  },
  {
   "cell_type": "code",
   "execution_count": null,
   "metadata": {},
   "outputs": [],
   "source": [
    "print('이동관' in score.keys())\n",
    "print('이이이' in score.keys())\n",
    "print(90 in score.values())\n"
   ]
  },
  {
   "cell_type": "code",
   "execution_count": null,
   "metadata": {},
   "outputs": [],
   "source": [
    "#collections 모듈\n",
    "#스택 형태\n",
    "from collections import deque\n",
    "deque_list=deque()\n",
    "for i in range(1,11):\n",
    "    deque_list.append(i)\n",
    "print(deque_list)"
   ]
  },
  {
   "cell_type": "code",
   "execution_count": null,
   "metadata": {},
   "outputs": [],
   "source": [
    "#큐 형태\n",
    "from collections import deque\n",
    "deque_list_left=deque()\n",
    "for i in range(1,11):\n",
    "    deque_list_left.appendleft(i)\n",
    "print(deque_list_left)"
   ]
  },
  {
   "cell_type": "code",
   "execution_count": null,
   "metadata": {},
   "outputs": [],
   "source": [
    "deque_list.pop()\n",
    "print(deque_list)\n",
    "# deque_list.pop(0) 에러 난다\n",
    "# print(deque_list)"
   ]
  },
  {
   "cell_type": "code",
   "execution_count": null,
   "metadata": {},
   "outputs": [],
   "source": [
    "deque_list.rotate(2)\n",
    "print(deque_list)"
   ]
  },
  {
   "cell_type": "code",
   "execution_count": null,
   "metadata": {},
   "outputs": [],
   "source": [
    "r_deque=deque(reversed(deque_list))\n",
    "r_deque"
   ]
  },
  {
   "cell_type": "code",
   "execution_count": null,
   "metadata": {},
   "outputs": [],
   "source": [
    "deque_list.extend([11,12,13]) # 리스트 값을 넣어줄 때 extend\n",
    "deque_list"
   ]
  },
  {
   "cell_type": "code",
   "execution_count": null,
   "metadata": {},
   "outputs": [],
   "source": [
    "deque_list.extendleft([11,12,13])\n",
    "deque_list"
   ]
  },
  {
   "cell_type": "code",
   "execution_count": null,
   "metadata": {},
   "outputs": [],
   "source": [
    "\n",
    "d={}\n",
    "d['x']=100\n",
    "d['l']=500\n",
    "d['y']=200\n",
    "d['z']=300\n",
    "\n",
    "for k,v in d.items():\n",
    "    print(k,v)"
   ]
  },
  {
   "cell_type": "code",
   "execution_count": null,
   "metadata": {},
   "outputs": [],
   "source": [
    "def sort_by_key(t):\n",
    "    return t[0] #(k,v) k=0 v=1"
   ]
  },
  {
   "cell_type": "code",
   "execution_count": null,
   "metadata": {},
   "outputs": [],
   "source": [
    "from collections import OrderedDict\n",
    "#d=OrderedDict()\n",
    "d=dict()\n",
    "d['x']=100\n",
    "d['l']=500\n",
    "d['y']=200\n",
    "d['z']=300\n",
    "\n",
    "for k,v in OrderedDict(sorted(d.items(), key=sort_by_key)).items():\n",
    "    print(k,v)"
   ]
  },
  {
   "cell_type": "code",
   "execution_count": 1,
   "metadata": {},
   "outputs": [
    {
     "name": "stdout",
     "output_type": "stream",
     "text": [
      "['g', 'a', 'l', 'l', 'a', 'h', 'a', 'd']\n",
      "Counter({'a': 3, 'l': 2, 'g': 1, 'h': 1, 'd': 1})\n"
     ]
    }
   ],
   "source": [
    "from collections import Counter\n",
    "text=list('gallahad')\n",
    "print(text)\n",
    "c=Counter(text)\n",
    "print(c)"
   ]
  },
  {
   "cell_type": "code",
   "execution_count": 2,
   "metadata": {},
   "outputs": [
    {
     "name": "stdout",
     "output_type": "stream",
     "text": [
      "['BigData', 'with', 'python']\n"
     ]
    }
   ],
   "source": [
    "s1=\"BigData with python\"\n",
    "s1_list=s1.split()\n",
    "print(s1_list)"
   ]
  },
  {
   "cell_type": "code",
   "execution_count": 8,
   "metadata": {},
   "outputs": [
    {
     "name": "stdout",
     "output_type": "stream",
     "text": [
      "['Yesterday all my troubles\\n', 'seemed so far away.\\n', 'Now it looks\\n', \"as though they're here to stay.\\n\", 'Oh, I believe in yesterday.\\n', '\\n', \"Suddenly I'm not half\\n\", 'the man I used to be.\\n', \"There's a shadow hanging over me.\\n\", 'Oh, yesterday came suddenly.\\n', '\\n', 'Why she had to go,\\n', \"I don't know,\\n\", \"she wouldn't say.\\n\", 'I said something wrong,\\n', 'now I long for yesterday.\\n', '\\n', 'Yesterday love was\\n', 'such an easy game to play.\\n', 'Now I need a place to hide away.\\n', 'Oh, I believe in yesterday.\\n', '\\n', 'Why she had to go,\\n', \"I don't know,\\n\", \"she wouldn't say.\\n\", 'I said something wrong,\\n', 'now I long for yesterday.\\n', '\\n', 'Yesterday love was\\n', 'such an easy game to play.\\n', 'Now I need a place to hide away.\\n', 'Oh, I believe in yesterday.\\n', '\\n', 'Mm mm mm mm mm mm mm\\n']\n",
      "yesterday all my troubles\n",
      "seemed so far away.\n",
      "now it looks\n",
      "as though they're here to stay.\n",
      "oh, i believe in yesterday.\n",
      "\n",
      "suddenly i'm not half\n",
      "the man i used to be.\n",
      "there's a shadow hanging over me.\n",
      "oh, yesterday came suddenly.\n",
      "\n",
      "why she had to go,\n",
      "i don't know,\n",
      "she wouldn't say.\n",
      "i said something wrong,\n",
      "now i long for yesterday.\n",
      "\n",
      "yesterday love was\n",
      "such an easy game to play.\n",
      "now i need a place to hide away.\n",
      "oh, i believe in yesterday.\n",
      "\n",
      "why she had to go,\n",
      "i don't know,\n",
      "she wouldn't say.\n",
      "i said something wrong,\n",
      "now i long for yesterday.\n",
      "\n",
      "yesterday love was\n",
      "such an easy game to play.\n",
      "now i need a place to hide away.\n",
      "oh, i believe in yesterday.\n",
      "\n",
      "mm mm mm mm mm mm mm\n",
      "\n",
      "['yesterday', 'all', 'my', 'troubles', 'seemed', 'so', 'far', 'away.', 'now', 'it', 'looks', 'as', 'though', \"they're\", 'here', 'to', 'stay.', 'oh,', 'i', 'believe', 'in', 'yesterday.', 'suddenly', \"i'm\", 'not', 'half', 'the', 'man', 'i', 'used', 'to', 'be.', \"there's\", 'a', 'shadow', 'hanging', 'over', 'me.', 'oh,', 'yesterday', 'came', 'suddenly.', 'why', 'she', 'had', 'to', 'go,', 'i', \"don't\", 'know,', 'she', \"wouldn't\", 'say.', 'i', 'said', 'something', 'wrong,', 'now', 'i', 'long', 'for', 'yesterday.', 'yesterday', 'love', 'was', 'such', 'an', 'easy', 'game', 'to', 'play.', 'now', 'i', 'need', 'a', 'place', 'to', 'hide', 'away.', 'oh,', 'i', 'believe', 'in', 'yesterday.', 'why', 'she', 'had', 'to', 'go,', 'i', \"don't\", 'know,', 'she', \"wouldn't\", 'say.', 'i', 'said', 'something', 'wrong,', 'now', 'i', 'long', 'for', 'yesterday.', 'yesterday', 'love', 'was', 'such', 'an', 'easy', 'game', 'to', 'play.', 'now', 'i', 'need', 'a', 'place', 'to', 'hide', 'away.', 'oh,', 'i', 'believe', 'in', 'yesterday.', 'mm', 'mm', 'mm', 'mm', 'mm', 'mm', 'mm']\n",
      "\n",
      "Counter({'i': 12, 'to': 8, 'mm': 7, 'now': 5, 'yesterday.': 5, 'yesterday': 4, 'oh,': 4, 'she': 4, 'away.': 3, 'believe': 3, 'in': 3, 'a': 3, 'why': 2, 'had': 2, 'go,': 2, \"don't\": 2, 'know,': 2, \"wouldn't\": 2, 'say.': 2, 'said': 2, 'something': 2, 'wrong,': 2, 'long': 2, 'for': 2, 'love': 2, 'was': 2, 'such': 2, 'an': 2, 'easy': 2, 'game': 2, 'play.': 2, 'need': 2, 'place': 2, 'hide': 2, 'all': 1, 'my': 1, 'troubles': 1, 'seemed': 1, 'so': 1, 'far': 1, 'it': 1, 'looks': 1, 'as': 1, 'though': 1, \"they're\": 1, 'here': 1, 'stay.': 1, 'suddenly': 1, \"i'm\": 1, 'not': 1, 'half': 1, 'the': 1, 'man': 1, 'used': 1, 'be.': 1, \"there's\": 1, 'shadow': 1, 'hanging': 1, 'over': 1, 'me.': 1, 'came': 1, 'suddenly.': 1})\n"
     ]
    }
   ],
   "source": [
    "f=open('data\\yesterday.txt','r')\n",
    "yesterday_text=f.readlines()\n",
    "f.close()\n",
    "\n",
    "print(yesterday_text)\n",
    "contents=\"\"\n",
    "for line in yesterday_text:\n",
    "    contents = contents + line.strip() + \"\\n\"\n",
    "yesterday_lower=contents.lower()\n",
    "print(yesterday_lower)\n",
    "\n",
    "yesterday_list=yesterday_lower.split()\n",
    "print(yesterday_list)\n",
    "c=Counter(yesterday_list)\n",
    "print()\n",
    "print(c)"
   ]
  },
  {
   "cell_type": "code",
   "execution_count": 18,
   "metadata": {},
   "outputs": [
    {
     "name": "stdout",
     "output_type": "stream",
     "text": [
      "Counter({'i': 12, 'yesterday': 9, 'to': 8, 'mm': 7, 'now': 5, 'oh,': 4, 'she': 4, 'away': 3, 'believe': 3, 'in': 3, 'a': 3, 'suddenly': 2, 'why': 2, 'had': 2, 'go,': 2, \"don't\": 2, 'know,': 2, \"wouldn't\": 2, 'say': 2, 'said': 2, 'something': 2, 'wrong,': 2, 'long': 2, 'for': 2, 'love': 2, 'was': 2, 'such': 2, 'an': 2, 'easy': 2, 'game': 2, 'play': 2, 'need': 2, 'place': 2, 'hide': 2, 'all': 1, 'my': 1, 'troubles': 1, 'seemed': 1, 'so': 1, 'far': 1, 'it': 1, 'looks': 1, 'as': 1, 'though': 1, \"they're\": 1, 'here': 1, 'stay': 1, \"i'm\": 1, 'not': 1, 'half': 1, 'the': 1, 'man': 1, 'used': 1, 'be': 1, \"there's\": 1, 'shadow': 1, 'hanging': 1, 'over': 1, 'me': 1, 'came': 1})\n"
     ]
    }
   ],
   "source": [
    "f=open('data\\yesterday.txt','r')\n",
    "text=f.readlines()\n",
    "f.close()\n",
    "contents=\"\"\n",
    "for i in text:\n",
    "    #i=i.replace(\".\",\" \")\n",
    "    contents += i.strip()+\" \"\n",
    "    contents = contents.replace(\".\",\" \")\n",
    "    contents = contents.lower()\n",
    "text_list=contents.split()\n",
    "c=Counter(text_list)\n",
    "print(c)"
   ]
  },
  {
   "cell_type": "code",
   "execution_count": 22,
   "metadata": {},
   "outputs": [
    {
     "name": "stdout",
     "output_type": "stream",
     "text": [
      "Counter({'코로나바이러스': 2, '사인은': 2, '이': 2, '환자는': 2, '지난달': 2, '중앙방역대책본부': 1, '\"기저질환은': 1, '확인': 1, '안': 1, '돼…67세로': 1, '고령\"': 1, '(서울=연합뉴스)': 1, '신선미': 1, '기자': 1, '=': 1, '국내': 1, '33번째': 1, '신종': 1, '감염증(코로나19)': 1, '사망자의': 1, '코로나19와': 1, '관련한': 1, '폐렴': 1, '악화라는': 1, '방역': 1, '당국의': 1, '판단이': 1, '나왔다': 1, '정은경': 1, '중앙방역대책본부(방대본)': 1, '본부장은': 1, '4일': 1, '충북': 1, '오송': 1, '질병관리본부에서': 1, '열린': 1, '정례브리핑에서': 1, '\"직접적인': 1, '감염증으로': 1, '인한': 1, '폐렴\"이라고': 1, '말했다': 1, '곽진': 1, '방대본': 1, '역학조사': 1, '1팀장은': 1, '\"다른': 1, '기저질환(지병)은': 1, '확인되고': 1, '있지': 1, '않지만,': 1, '67세로': 1, '고령\"이라고': 1, '덧붙였다': 1, '방대본과': 1, '대구시': 1, '등에': 1, '따르면': 1, '60대': 1, '여성': 1, '이날': 1, '오전': 1, '1시': 1, '50분께': 1, '칠곡경북대병원': 1, '음압격리': 1, '병동에서': 1, '숨졌다': 1, '25일': 1, '기침과': 1, '오한': 1, '증세를': 1, '보여': 1, '대구가톨릭대병원': 1, '선별진료소에서': 1, '코로나19': 1, '검사를': 1, '했고': 1, '다음': 1, '날': 1, '확진': 1, '판정을': 1, '받았다': 1, '29일': 1, '호흡곤란': 1, '증상으로': 1, '칠곡경북대병원에': 1, '입원해': 1, '치료를': 1, '받아왔다': 1})\n"
     ]
    }
   ],
   "source": [
    "contents=\"\"\"\n",
    "중앙방역대책본부 \"기저질환은 확인 안 돼…67세로 고령\"\n",
    "\n",
    "(서울=연합뉴스) 신선미 기자 = 국내 33번째 신종 코로나바이러스 감염증(코로나19) 사망자의 사인은 코로나19와 관련한 폐렴 악화라는 방역 당국의 판단이 나왔다.\n",
    "\n",
    "정은경 중앙방역대책본부(방대본) 본부장은 4일 충북 오송 질병관리본부에서 열린 정례브리핑에서 \"직접적인 사인은 코로나바이러스 감염증으로 인한 폐렴\"이라고 말했다.\n",
    "\n",
    "곽진 방대본 역학조사 1팀장은 \"다른 기저질환(지병)은 확인되고 있지 않지만, 67세로 고령\"이라고 덧붙였다.\n",
    "\n",
    "방대본과 대구시 등에 따르면 이 60대 여성 환자는 이날 오전 1시 50분께 칠곡경북대병원 음압격리 병동에서 숨졌다.\n",
    "\n",
    "이 환자는 지난달 25일 기침과 오한 증세를 보여 대구가톨릭대병원 선별진료소에서 코로나19 검사를 했고 다음 날 확진 판정을 받았다. 지난달 29일 호흡곤란 증상으로 칠곡경북대병원에 입원해 치료를 받아왔다\n",
    "\n",
    "\"\"\"\n",
    "\n",
    "contents = contents.replace(\".\",\" \").replace(\"?\",\" \")\n",
    "list_content=contents.split()\n",
    "count_list=Counter(list_content)\n",
    "print(count_list)"
   ]
  },
  {
   "cell_type": "code",
   "execution_count": 24,
   "metadata": {},
   "outputs": [
    {
     "name": "stdout",
     "output_type": "stream",
     "text": [
      "Counter({'red': 3, 'blue': 3, 'green': 2})\n",
      "['red', 'red', 'red', 'green', 'green', 'blue', 'blue', 'blue']\n"
     ]
    }
   ],
   "source": [
    "c=Counter(red=3,green=2,blue=3)\n",
    "print(c)\n",
    "c_list=list(c.elements())\n",
    "print(c_list)"
   ]
  },
  {
   "cell_type": "code",
   "execution_count": null,
   "metadata": {},
   "outputs": [],
   "source": []
  },
  {
   "cell_type": "code",
   "execution_count": null,
   "metadata": {},
   "outputs": [],
   "source": []
  },
  {
   "cell_type": "code",
   "execution_count": null,
   "metadata": {},
   "outputs": [],
   "source": []
  }
 ],
 "metadata": {
  "kernelspec": {
   "display_name": "Python 3",
   "language": "python",
   "name": "python3"
  },
  "language_info": {
   "codemirror_mode": {
    "name": "ipython",
    "version": 3
   },
   "file_extension": ".py",
   "mimetype": "text/x-python",
   "name": "python",
   "nbconvert_exporter": "python",
   "pygments_lexer": "ipython3",
   "version": "3.7.4"
  }
 },
 "nbformat": 4,
 "nbformat_minor": 2
}
