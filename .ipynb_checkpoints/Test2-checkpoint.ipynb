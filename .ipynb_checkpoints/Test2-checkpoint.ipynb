{
 "cells": [
  {
   "cell_type": "code",
   "execution_count": null,
   "metadata": {},
   "outputs": [],
   "source": [
    "a=10\n",
    "b=10\n",
    "a+b\n",
    "# 정수,실수,문자형(문자열),boolean\n",
    "c='가나다'\n",
    "d=\"가'나'다\"\n",
    "e=True #(=1)\n",
    "f=False #(=0)\n",
    "f==0"
   ]
  },
  {
   "cell_type": "code",
   "execution_count": null,
   "metadata": {},
   "outputs": [],
   "source": [
    "a=10\n",
    "b=3 \n",
    "a/b #나눈 결과가 실수면 실수가 나타남 자동형변환\n",
    "a//b #몫만\n",
    "a%b #나머지"
   ]
  },
  {
   "cell_type": "code",
   "execution_count": null,
   "metadata": {},
   "outputs": [],
   "source": [
    "print(\"안녕하세요\")\n",
    "print(4)\n",
    "print(True)\n",
    "a=10\n",
    "b=2.5\n",
    "c=True\n",
    "d='python'\n",
    "print(a,c,c,d) #줄바꿈 실행\n",
    "print(b)\n",
    "print(a, end=\", \") #줄바꿈 실행 x\n",
    "print(c)\n",
    "str(a)+\"점\" #정수와 문자열 + 안됨\n"
   ]
  },
  {
   "cell_type": "code",
   "execution_count": null,
   "metadata": {},
   "outputs": [],
   "source": [
    "a='3.5'\n",
    "b=float(a) #문자열 실수로\n",
    "c=int(a) #문자열 정수로\n",
    "d=str(b)"
   ]
  },
  {
   "cell_type": "code",
   "execution_count": null,
   "metadata": {},
   "outputs": [],
   "source": [
    "age=20\n",
    "name=\"홍길동\"\n",
    "gender='남자'\n",
    "print('나는',name,'입니다')\n",
    "print('나는',name+'입니다')\n",
    "print('내 이름은 %s이고 내 나이는 %d이고 성별은 %s입니다' %(name,age,gender))\n",
    "print('%o, %x, %s' %(15,15,15))\n"
   ]
  },
  {
   "cell_type": "code",
   "execution_count": null,
   "metadata": {},
   "outputs": [],
   "source": [
    "num1=input(\"숫자를 입력하세요\")"
   ]
  },
  {
   "cell_type": "code",
   "execution_count": 4,
   "metadata": {},
   "outputs": [
    {
     "name": "stdout",
     "output_type": "stream",
     "text": [
      "이름을 입력하세요홍길동\n",
      "나이를 입력하세요20\n",
      "성별을 입력하세요남자\n",
      "내 이름은 홍길동이고 내 나이는 20이고 성별은 남자입니다\n"
     ]
    }
   ],
   "source": [
    "name=input(\"이름을 입력하세요\")\n",
    "age=int(input(\"나이를 입력하세요\"))\n",
    "gender=input(\"성별을 입력하세요\")\n",
    "print('내 이름은 %s이고 내 나이는 %d이고 성별은 %s입니다' %(name,age,gender))"
   ]
  },
  {
   "cell_type": "code",
   "execution_count": 10,
   "metadata": {},
   "outputs": [
    {
     "name": "stdout",
     "output_type": "stream",
     "text": [
      "본 프로그램은 섭씨온도를 화씨온도로 변환하는 프로그램입니다\n",
      "변환하고 싶은 섭씨온도를 입력하세요.32.5\n",
      "섭씨온도: 32.5\n",
      "화씨온도: 90.500\n",
      "화씨온도: 90.50\n"
     ]
    }
   ],
   "source": [
    "print('본 프로그램은 섭씨온도를 화씨온도로 변환하는 프로그램입니다')\n",
    "c=float(input('변환하고 싶은 섭씨온도를 입력하세요.'))\n",
    "f=c*1.8+32\n",
    "print('섭씨온도:',c)\n",
    "print('화씨온도: %5.3f' %f)\n",
    "print('화씨온도: %.2f' %f)"
   ]
  },
  {
   "cell_type": "code",
   "execution_count": 23,
   "metadata": {},
   "outputs": [
    {
     "name": "stdout",
     "output_type": "stream",
     "text": [
      "10\n",
      "[2, 3, 4]\n",
      "[5, 6, 7, 8]\n",
      "[0, 1, 2, 3, 4, 5, 6, 7, 8]\n",
      "[0, 1, 2, 3, 4, 5, 6, 7, 8, 9]\n",
      "[2, 3, 4, 5, 6, 7, 8, 9]\n",
      "[0, 1, 2, 3, 4, 5, 6, 7, 8]\n",
      "[0, 1, 2, 3, 4, 5, 6, 7, 8, 9]\n",
      "[0, 1, 2, 3, 4, 5, 6, 7, 8, 9]\n",
      "[0, 2, 4, 6, 8]\n"
     ]
    }
   ],
   "source": [
    "num=[0,1,2,3,4,5,6,7,8,9]\n",
    "print(len(num))\n",
    "print(num[2:5])\n",
    "print(num[-5:-1])\n",
    "print(num[0:-1])\n",
    "print(num[0:])\n",
    "print(num[2:])\n",
    "print(num[:-1])\n",
    "print(num[:])\n",
    "print(num[-50:50]) # 인덱스 범위를 넘어가면 전부다 보여줌\n",
    "print(num[0:9:2])  # num[start:end:step]\n"
   ]
  },
  {
   "cell_type": "code",
   "execution_count": null,
   "metadata": {},
   "outputs": [],
   "source": [
    "num=[[1,2,3],[4,5,6]]\n",
    "print(num)"
   ]
  },
  {
   "cell_type": "code",
   "execution_count": null,
   "metadata": {},
   "outputs": [],
   "source": [
    "num1=[1,2,3]\n",
    "num2=[4,5,6]\n",
    "print(num1+num2) #결합\n",
    "print(num1*3)\n",
    "print(1 in num1) #존재여부를 boolean 값으로 리턴\n",
    "print(10 in num1)"
   ]
  },
  {
   "cell_type": "code",
   "execution_count": 28,
   "metadata": {},
   "outputs": [
    {
     "name": "stdout",
     "output_type": "stream",
     "text": [
      "[10, 20]\n"
     ]
    }
   ],
   "source": [
    "list=[]\n",
    "list.append(10)\n",
    "list.append(20)\n",
    "print(list)"
   ]
  },
  {
   "cell_type": "code",
   "execution_count": 32,
   "metadata": {},
   "outputs": [
    {
     "name": "stdout",
     "output_type": "stream",
     "text": [
      "[1, 2, 3, 4, 5, 6]\n",
      "[1, 2, 3, 4, 5, 6, 4, 5, 6]\n"
     ]
    }
   ],
   "source": [
    "num1=[1,2,3]\n",
    "num2=[4,5,6]\n",
    "num1.extend(num2) #num1에 num2를 덭붙이는 것\n",
    "print(num1)\n",
    "num3 = num1+num2 #새로운 변수가 하나 필요함 아님 num1에 다시 넣어줘야함\n",
    "print(num3)"
   ]
  },
  {
   "cell_type": "code",
   "execution_count": 47,
   "metadata": {},
   "outputs": [
    {
     "name": "stdout",
     "output_type": "stream",
     "text": [
      "[1, 10, 2, 3, 4, 5, 6]\n",
      "[1, 2, 3, 4, 5, 6]\n"
     ]
    }
   ],
   "source": [
    "num1.insert(1,10)\n",
    "print(num1)\n",
    "num1.remove(10) #첫번 째 10을 지움\n",
    "print(num1)"
   ]
  },
  {
   "cell_type": "code",
   "execution_count": 48,
   "metadata": {},
   "outputs": [
    {
     "name": "stdout",
     "output_type": "stream",
     "text": [
      "[1, 3, 4, 5, 6]\n"
     ]
    }
   ],
   "source": [
    "del num1[1]\n",
    "print(num1)"
   ]
  },
  {
   "cell_type": "code",
   "execution_count": 50,
   "metadata": {},
   "outputs": [
    {
     "name": "stdout",
     "output_type": "stream",
     "text": [
      "1 2 3\n",
      "1 2 [3, 4, 5]\n"
     ]
    }
   ],
   "source": [
    "t=[1,2,3]\n",
    "a,b,c = t\n",
    "print(a,b,c)\n",
    "\n",
    "v=[1,2,3,4,5]\n",
    "a,b,*c = v\n",
    "print(a,b,c)"
   ]
  },
  {
   "cell_type": "code",
   "execution_count": 51,
   "metadata": {},
   "outputs": [
    {
     "name": "stdout",
     "output_type": "stream",
     "text": [
      "[[1, 2, 3], [4, 5, 6]]\n"
     ]
    }
   ],
   "source": [
    "a=[1,2,3]\n",
    "b=[4,5,6]\n",
    "list=[a,b]\n",
    "print(list)"
   ]
  },
  {
   "cell_type": "code",
   "execution_count": 53,
   "metadata": {},
   "outputs": [
    {
     "name": "stdout",
     "output_type": "stream",
     "text": [
      "3\n",
      "5\n"
     ]
    }
   ],
   "source": [
    "print(list[0][2])\n",
    "print(list[1][1])"
   ]
  },
  {
   "cell_type": "code",
   "execution_count": 58,
   "metadata": {},
   "outputs": [
    {
     "name": "stdout",
     "output_type": "stream",
     "text": [
      "[[49, 79, 20, 10, 80], [43, 59, 85, 30, 90], [49, 79, 48, 60, 100]]\n",
      "20\n",
      "[1000, 59, 85, 30, 90]\n",
      "[[49, 79, 20, 10, 80], [1000, 59, 85, 30, 90], [49, 79, 48, 60, 100]]\n",
      "[10000, 59, 85, 30, 90]\n",
      "[[49, 79, 20, 10, 80], [10000, 59, 85, 30, 90], [49, 79, 48, 60, 100]]\n",
      "[10000, 59, 85, 30, 90]\n",
      "[[49, 79, 20, 10, 80], 10000, [49, 79, 48, 60, 100]]\n"
     ]
    }
   ],
   "source": [
    "kor_score=[49,79,20,10,80]\n",
    "math_score=[43,59,85,30,90]\n",
    "eng_score=[49,79,48,60,100]\n",
    "midterm_score=[kor_score,math_score,eng_score]\n",
    "print(midterm_score)\n",
    "print(midterm_score[0][2])\n",
    "\n",
    "math_score[0]=1000\n",
    "print(math_score)\n",
    "print(midterm_score)\n",
    "midterm_score[1][0]=10000\n",
    "print(math_score)\n",
    "print(midterm_score)\n",
    "midterm_score[1]=10000\n",
    "print(math_score)\n",
    "print(midterm_score)\n"
   ]
  },
  {
   "cell_type": "code",
   "execution_count": 59,
   "metadata": {},
   "outputs": [
    {
     "name": "stdout",
     "output_type": "stream",
     "text": [
      "True\n",
      "True\n"
     ]
    }
   ],
   "source": [
    "a=10\n",
    "b=10\n",
    "print(a==b) #값이 같은가?\n",
    "print(a is b) #메모리가 같은가? java String 같은 것"
   ]
  },
  {
   "cell_type": "code",
   "execution_count": 60,
   "metadata": {},
   "outputs": [
    {
     "name": "stdout",
     "output_type": "stream",
     "text": [
      "True\n",
      "False\n"
     ]
    }
   ],
   "source": [
    "a=300\n",
    "b=300\n",
    "print(a==b)\n",
    "print(a is b)"
   ]
  }
 ],
 "metadata": {
  "kernelspec": {
   "display_name": "Python 3",
   "language": "python",
   "name": "python3"
  },
  "language_info": {
   "codemirror_mode": {
    "name": "ipython",
    "version": 3
   },
   "file_extension": ".py",
   "mimetype": "text/x-python",
   "name": "python",
   "nbconvert_exporter": "python",
   "pygments_lexer": "ipython3",
   "version": "3.7.4"
  }
 },
 "nbformat": 4,
 "nbformat_minor": 2
}
