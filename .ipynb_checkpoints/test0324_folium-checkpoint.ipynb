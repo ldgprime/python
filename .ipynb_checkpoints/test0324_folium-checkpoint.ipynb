{
 "cells": [
  {
   "cell_type": "code",
   "execution_count": 2,
   "metadata": {},
   "outputs": [
    {
     "name": "stdout",
     "output_type": "stream",
     "text": [
      "0.10.1\n"
     ]
    }
   ],
   "source": [
    "import folium\n",
    "import numpy as np\n",
    "import os\n",
    "import pandas as pd\n",
    "from folium import plugins\n",
    "print(folium.__version__)"
   ]
  },
  {
   "cell_type": "code",
   "execution_count": 3,
   "metadata": {},
   "outputs": [],
   "source": [
    "m=folium.Map(location=[35.17944,129.07556], zoom_start=12)\n",
    "#plugins.ScrollZoomToggler().add_to(m)\n",
    "folium.Marker([35.17944,129.07556],popup=\"부산시청\").add_to(m)\n",
    "m.save('data/map1.html')"
   ]
  },
  {
   "cell_type": "code",
   "execution_count": 4,
   "metadata": {},
   "outputs": [],
   "source": [
    "m=folium.Map(location=[37.566345, 126.977893], zoom_start=17)\n",
    "folium.Marker([37.566345, 126.977893], popup='서울특별시청',icon=folium.Icon(color='red',icon='info sign')). add_to(m)\n",
    "folium.CircleMarker([37.5658859, 126.9754788], radius=100,color='#3186cc', fill_color ='#3186cc', popup='덕수궁').add_to(m)\n",
    "m.save('data/map6.html')"
   ]
  },
  {
   "cell_type": "code",
   "execution_count": null,
   "metadata": {},
   "outputs": [],
   "source": [
    "N = 100 \n",
    "data = np.array( \n",
    "    [\n",
    "        np.random.uniform(low=35, high=38, size=N), # Random latitudes in Europe. \n",
    "        np.random.uniform(low=125, high=129, size=N), # Random longitudes in Europe. \n",
    "    ] ).T \n",
    "popups = [str(i) for i in range(N)] # Popups texts are simple numbers. \n",
    "m = folium.Map([37.566345, 126.977893], zoom_start=8) \n",
    "plugins.MarkerCluster(data, popups=popups).add_to(m) \n",
    "m.save(os.path.join('results', 'Plugins_1.html')) \n",
    "m"
   ]
  },
  {
   "cell_type": "code",
   "execution_count": null,
   "metadata": {},
   "outputs": [],
   "source": [
    "m = folium.Map([37.566345, 126.977893], zoom_start=1)\n",
    "plugins.Terminator().add_to(m)\n",
    "m.save(os.path.join('results', 'Plugins_2.html'))\n",
    "m"
   ]
  },
  {
   "cell_type": "code",
   "execution_count": null,
   "metadata": {},
   "outputs": [],
   "source": [
    "m = folium.Map([30, 0], zoom_start=3) \n",
    "plugins.BoatMarker( location=(34, -43), heading=90, wind_heading=150, wind_speed=45, color='#8f8' ).add_to(m)\n",
    "plugins.BoatMarker( location=(46, -30), heading=-50, wind_heading=46, wind_speed=25, color='#88f' ).add_to(m)\n",
    "m.save(os.path.join('results', 'Plugins_3.html')) \n",
    "m"
   ]
  },
  {
   "cell_type": "code",
   "execution_count": null,
   "metadata": {},
   "outputs": [],
   "source": [
    "m = folium.Map([45.5, -122], zoom_start=3) \n",
    "icon_plane = plugins.BeautifyIcon( \n",
    "    icon='plane', \n",
    "    border_color='#b3334f', \n",
    "    text_color='#b3334f', \n",
    "    icon_shape='triangle')\n",
    "\n",
    "icon_number = plugins.BeautifyIcon(\n",
    "    border_color='#00ABDC', \n",
    "    text_color='#00ABDC', \n",
    "    number=10, \n",
    "    inner_icon_style='margin-top:0;') \n",
    "folium.Marker(\n",
    "    location=[46, -122], \n",
    "    popup='Portland, OR', \n",
    "    icon=icon_plane ).add_to(m)\n",
    "folium.Marker(\n",
    "    location=[50, -122], \n",
    "    popup='Portland, OR', icon=icon_number ).add_to(m) \n",
    "m.save(os.path.join('results', 'Plugins_4.html')) \n",
    "m"
   ]
  },
  {
   "cell_type": "code",
   "execution_count": null,
   "metadata": {},
   "outputs": [],
   "source": [
    "m = folium.Map(location=[35.68159659061569, 139.76451516151428], zoom_start=16) \n",
    "# Lon, Lat order.\n",
    "lines = [ { 'coordinates': [ \n",
    "            [139.76451516151428, 35.68159659061569], \n",
    "            [139.75964426994324, 35.682590062684206],\n",
    "        ], \n",
    "        'dates': [ '2017-06-02T00:00:00', '2017-06-02T00:10:00' ],\n",
    "        'color': 'red'\n",
    "    }, \n",
    "    { \n",
    "        'coordinates': [ \n",
    "            [139.75964426994324, 35.682590062684206], \n",
    "            [139.7575843334198, 35.679505030038506], \n",
    "        ], \n",
    "        'dates': [ '2017-06-02T00:10:00', '2017-06-02T00:20:00' ], \n",
    "        'color': 'blue' \n",
    "    }, \n",
    "    { \n",
    "    'coordinates': [ \n",
    "            [139.7575843334198, 35.679505030038506], \n",
    "            [139.76337790489197, 35.678040905014065], \n",
    "        ], \n",
    "        'dates': [ '2017-06-02T00:20:00', '2017-06-02T00:30:00' ], \n",
    "        'color': 'green', 'weight': 15, \n",
    "    }, \n",
    "    {\n",
    "        'coordinates': [\n",
    "            [139.76337790489197, 35.678040905014065],\n",
    "            [139.76451516151428, 35.68159659061569], \n",
    "        ],\n",
    "        'dates': [ '2017-06-02T00:30:00', '2017-06-02T00:40:00' ], \n",
    "        'color': '#FFFFFF', \n",
    "    },\n",
    " ] \n",
    "features = [ \n",
    "    { \n",
    "        'type': 'Feature', \n",
    "        'geometry': {\n",
    "        'type': 'LineString', 'coordinates': line['coordinates'], }, \n",
    "        'properties': {\n",
    "        'times': line['dates'], \n",
    "            'style': { 'color': line['color'], 'weight': line['weight'] if 'weight' in line else 5} \n",
    "        }\n",
    "    } \n",
    "    for line in lines\n",
    "] \n",
    "plugins.TimestampedGeoJson({ 'type': 'FeatureCollection', 'features': features, }, period='PT1M', add_last_point=True).add_to(m) \n",
    "m.save(os.path.join('results', 'Plugins_6.html'))\n",
    "m"
   ]
  },
  {
   "cell_type": "code",
   "execution_count": 10,
   "metadata": {},
   "outputs": [],
   "source": [
    "# 부산진구 CCTV 위치 지도에 표시\n",
    "# 주소, 위도, 경도을 사용하여 지도를 마크를 표시하라\n",
    "# 조건 : 카메라 대수가 1 이상인 것만 표시한다.\n",
    "\n",
    "df=pd.read_csv('data/cctv/CCTV_20190917.csv',encoding='utf-8')\n",
    "popup=[]\n",
    "data_lat_log=[]\n",
    "for data in df.values:\n",
    "    if data[4]>0:\n",
    "        popup.append(data[1])\n",
    "        data_lat_log.append([data[10],data[11]])\n",
    "\n",
    "m=folium.Map([35.16242332, 129.0441629],zoom_start=12)\n",
    "plugins.MarkerCluster(data_lat_log,popups=popup).add_to(m)\n",
    "m.save(os.path.join('results','cctv_map.html'))"
   ]
  }
 ],
 "metadata": {
  "kernelspec": {
   "display_name": "Python 3",
   "language": "python",
   "name": "python3"
  },
  "language_info": {
   "codemirror_mode": {
    "name": "ipython",
    "version": 3
   },
   "file_extension": ".py",
   "mimetype": "text/x-python",
   "name": "python",
   "nbconvert_exporter": "python",
   "pygments_lexer": "ipython3",
   "version": "3.7.4"
  }
 },
 "nbformat": 4,
 "nbformat_minor": 2
}
