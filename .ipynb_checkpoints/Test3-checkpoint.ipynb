{
 "cells": [
  {
   "cell_type": "code",
   "execution_count": null,
   "metadata": {},
   "outputs": [],
   "source": [
    "print(\"Tell me your age?\")\n",
    "myage = int(input())\n",
    "if 20< myage <30:\n",
    "    print(\"Welcome to the Club.\")\n",
    "else:\n",
    "    print(\"Oh! No.You are not accepted.\")    \n",
    "print((3>5)<10)    "
   ]
  },
  {
   "cell_type": "code",
   "execution_count": null,
   "metadata": {},
   "outputs": [],
   "source": [
    "score=int(input(\"Enter your score: \"))\n",
    "\n",
    "if score >= 90:\n",
    "    grade = 'A'\n",
    "elif score >= 80:\n",
    "    grade = 'B'\n",
    "elif score >= 70:\n",
    "    grade = 'C'\n",
    "else:\n",
    "    grade = 'F'\n",
    "\n",
    "print(grade)"
   ]
  },
  {
   "cell_type": "code",
   "execution_count": null,
   "metadata": {},
   "outputs": [],
   "source": [
    "b=int(input('당신이 태어난 연도를 입력하세요.'))\n",
    "age=2020-b+1\n",
    "student='ㅇ'\n",
    "if 20<=age<=26:\n",
    "    student = '대학생'\n",
    "elif 17<=age<20:\n",
    "    student = '고등학생'\n",
    "elif 14<=age<17:\n",
    "    student = '중학생'\n",
    "elif 8<=age<14:\n",
    "    student = '초등학생'\n",
    "else:\n",
    "    student = '학생이 아닙니다.'\n",
    "\n",
    "print(student)    "
   ]
  },
  {
   "cell_type": "code",
   "execution_count": null,
   "metadata": {},
   "outputs": [],
   "source": [
    "year=int(input('당신이 태어난 연도를 입력하세요.'))\n",
    "age=2020-year\n",
    "\n",
    "if 20<=age<=26:print('대학생')\n",
    "elif 17<=age<20:print('고등학생')\n",
    "elif 14<=age<17:print('중학생')\n",
    "elif 8<=age<14:print('초등학생')\n",
    "else:print('학생이 아닙니다.')"
   ]
  },
  {
   "cell_type": "code",
   "execution_count": null,
   "metadata": {},
   "outputs": [],
   "source": [
    "a=[1,2,3,4,5]\n",
    "for i in a:\n",
    "    print(i)"
   ]
  },
  {
   "cell_type": "code",
   "execution_count": null,
   "metadata": {},
   "outputs": [],
   "source": [
    "sum=0\n",
    "for i in range(100):\n",
    "    sum+=i\n",
    "    print(i,sum)\n",
    " "
   ]
  },
  {
   "cell_type": "code",
   "execution_count": null,
   "metadata": {},
   "outputs": [],
   "source": [
    "sum=0\n",
    "for i in range(0,10,1):\n",
    "    sum+=i\n",
    "    print(i,sum)  "
   ]
  },
  {
   "cell_type": "code",
   "execution_count": null,
   "metadata": {},
   "outputs": [],
   "source": [
    "sum=0\n",
    "for i in range(1,100,2):\n",
    "    sum+=i\n",
    "    print(i,sum)"
   ]
  },
  {
   "cell_type": "code",
   "execution_count": null,
   "metadata": {},
   "outputs": [],
   "source": [
    "score=[98,37,16,86,71,63]\n",
    "grade=''\n",
    "for s in score:\n",
    "    if s >= 90: grade = 'A'\n",
    "    elif s >= 80: grade = 'B'\n",
    "    elif s >= 70: grade = 'C'\n",
    "    else: grade = 'F'\n",
    "    print(s,grade)"
   ]
  },
  {
   "cell_type": "code",
   "execution_count": null,
   "metadata": {},
   "outputs": [],
   "source": [
    "scores=[98,37,16,86,71,63]\n",
    "grades=[]\n",
    "\n",
    "for i in range(len(scores)):\n",
    "    if scores[i]>=90:\n",
    "        grades.append('A')\n",
    "    elif score[i]>=80:\n",
    "        grades.append('B')  \n",
    "    elif score[i]>=70:\n",
    "        grades.append('C')\n",
    "    else:\n",
    "        grades.append('F')  \n",
    "print(grades)        "
   ]
  },
  {
   "cell_type": "code",
   "execution_count": null,
   "metadata": {},
   "outputs": [],
   "source": [
    "for 변수 in list:\n",
    "    문장\n",
    "    \n",
    "for 변수 in range(start,end,step):\n",
    "    문장"
   ]
  },
  {
   "cell_type": "code",
   "execution_count": null,
   "metadata": {},
   "outputs": [],
   "source": [
    "for i in 'abcdef':\n",
    "    print(i)"
   ]
  },
  {
   "cell_type": "code",
   "execution_count": null,
   "metadata": {},
   "outputs": [],
   "source": [
    "for i in ['aaa','bbb','cccc']:\n",
    "    for j in i:\n",
    "        print(j, end=\" \")\n",
    "    print()    "
   ]
  },
  {
   "cell_type": "code",
   "execution_count": null,
   "metadata": {},
   "outputs": [],
   "source": [
    "for i in range(1, 10, 2):\n",
    "    print(i)\n",
    "for i in range(10, 0, -1):\n",
    "    print(i)    "
   ]
  },
  {
   "cell_type": "code",
   "execution_count": null,
   "metadata": {},
   "outputs": [],
   "source": [
    "while 조건:\n",
    "    문장"
   ]
  },
  {
   "cell_type": "code",
   "execution_count": null,
   "metadata": {},
   "outputs": [],
   "source": [
    "i=1\n",
    "while i<=10:\n",
    "    print(i)\n",
    "    i+=1"
   ]
  },
  {
   "cell_type": "code",
   "execution_count": null,
   "metadata": {},
   "outputs": [],
   "source": [
    "#break : 반복문 빠져 나감\n",
    "#continue: 다음 반복문으로 넘어감"
   ]
  },
  {
   "cell_type": "code",
   "execution_count": null,
   "metadata": {},
   "outputs": [],
   "source": [
    "sum=0;\n",
    "for i in range(1,100):\n",
    "    if i%2==1:\n",
    "        continue\n",
    "    sum+=i\n",
    "    if(sum>100):\n",
    "        break\n",
    "    print(i,sum)"
   ]
  },
  {
   "cell_type": "code",
   "execution_count": null,
   "metadata": {},
   "outputs": [],
   "source": [
    "for i in range(10):\n",
    "    print(i)\n",
    "else:\n",
    "    print(\"end\")"
   ]
  },
  {
   "cell_type": "code",
   "execution_count": null,
   "metadata": {},
   "outputs": [],
   "source": [
    "sentence = \"I love you\"\n",
    "reverse_sentence=\"\"\n",
    "\n",
    "for i in sentence:\n",
    "    reverse_sentence=i+reverse_sentence\n",
    "\n",
    "print(reverse_sentence)"
   ]
  },
  {
   "cell_type": "code",
   "execution_count": null,
   "metadata": {},
   "outputs": [],
   "source": [
    "sentence = \"I love you\"\n",
    "for i in sentence:\n",
    "    sentence=sentence[1:]+i\n",
    "    print(sentence)"
   ]
  },
  {
   "cell_type": "code",
   "execution_count": null,
   "metadata": {},
   "outputs": [],
   "source": [
    "num=int(input('숫자를 입력하세요'))\n",
    "binary=''\n",
    "        \n",
    "while num>0:\n",
    "    binary=str(num%2)+binary\n",
    "    num=num//2    \n",
    "print(binary) "
   ]
  },
  {
   "cell_type": "code",
   "execution_count": null,
   "metadata": {},
   "outputs": [],
   "source": [
    "import random\n",
    "guess_number = random.randint(1,100)\n",
    "print(\"숫자를 맞혀 보세요. (1~100)\",guess_number)\n",
    "users_input = int (input())\n",
    "while (users_input is not guess_number):\n",
    "    if users_input > guess_number:\n",
    "        print(\"숫자가 너무 큽니다.\")\n",
    "    else:\n",
    "        print(\"숫자가 너무 작습니다.\")\n",
    "    users_input = int(input())\n",
    "else:\n",
    "    print(\"정답입니다.\",\"입력한 숫자는\",users_input,\"입니다.\")"
   ]
  },
  {
   "cell_type": "code",
   "execution_count": null,
   "metadata": {},
   "outputs": [],
   "source": [
    "kor_score=[49,80,20,100,80]\n",
    "math_score=[43,60,85,30,90]\n",
    "english_score=[49,82,48,50,100]\n",
    "sums=[]\n",
    "for i in range(len(kor_score)):\n",
    "    sum = (kor_score[i]+math_score[i]+english_score[i])/3\n",
    "    sums.append(sum)\n",
    "print(sums)"
   ]
  },
  {
   "cell_type": "code",
   "execution_count": null,
   "metadata": {
    "scrolled": true
   },
   "outputs": [],
   "source": [
    "kor_score=[49,80,20,100,80]\n",
    "math_score=[43,60,85,30,90]\n",
    "english_score=[49,82,48,50,100]\n",
    "midterm_score=[kor_score,math_score,english_score]\n",
    "avg=[0,0,0,0,0]\n",
    "\n",
    "for i in range(len(midterm_score)):\n",
    "    for j in range(len(midterm_score[i])):\n",
    "        avg[j]+=midterm_score[i][j]\n",
    "for i in range(len(avg)):\n",
    "    avg[i]=avg[i]/3\n",
    "print(avg)\n",
    "        \n",
    "    "
   ]
  },
  {
   "cell_type": "code",
   "execution_count": 2,
   "metadata": {},
   "outputs": [],
   "source": [
    "def calculate_ractangle_area(x,y):\n",
    "    return x*y"
   ]
  },
  {
   "cell_type": "code",
   "execution_count": 3,
   "metadata": {},
   "outputs": [
    {
     "name": "stdout",
     "output_type": "stream",
     "text": [
      "사각형 x의 길이: 10\n",
      "사각형 y의 길이: 20\n",
      "사각형의 넓이: 200\n"
     ]
    }
   ],
   "source": [
    "x=10\n",
    "y=20\n",
    "print('사각형 x의 길이:',x)\n",
    "print('사각형 y의 길이:',y)\n",
    "print('사각형의 넓이:',calculate_ractangle_area(x,y))"
   ]
  }
 ],
 "metadata": {
  "kernelspec": {
   "display_name": "Python 3",
   "language": "python",
   "name": "python3"
  },
  "language_info": {
   "codemirror_mode": {
    "name": "ipython",
    "version": 3
   },
   "file_extension": ".py",
   "mimetype": "text/x-python",
   "name": "python",
   "nbconvert_exporter": "python",
   "pygments_lexer": "ipython3",
   "version": "3.7.4"
  }
 },
 "nbformat": 4,
 "nbformat_minor": 2
}
