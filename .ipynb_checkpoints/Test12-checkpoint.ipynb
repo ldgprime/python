{
 "cells": [
  {
   "cell_type": "code",
   "execution_count": 1,
   "metadata": {},
   "outputs": [],
   "source": [
    "import numpy as np\n",
    "import pandas as pd\n",
    "import matplotlib"
   ]
  },
  {
   "cell_type": "code",
   "execution_count": null,
   "metadata": {},
   "outputs": [],
   "source": [
    "java=[80,70,60,85,90]\n",
    "db=[75,65,60,80,95]\n",
    "python=[90,75,70,80,100]"
   ]
  },
  {
   "cell_type": "code",
   "execution_count": null,
   "metadata": {},
   "outputs": [],
   "source": [
    "arr_java=np.array(java)"
   ]
  },
  {
   "cell_type": "code",
   "execution_count": null,
   "metadata": {},
   "outputs": [],
   "source": [
    "print(np.mean(arr_java))\n",
    "print(arr_java.mean())"
   ]
  },
  {
   "cell_type": "code",
   "execution_count": 33,
   "metadata": {},
   "outputs": [
    {
     "data": {
      "text/plain": [
       "[[80, 70, 60, 85, 90], [75, 65, 60, 80, 95], [90, 75, 70, 80, 100]]"
      ]
     },
     "execution_count": 33,
     "metadata": {},
     "output_type": "execute_result"
    }
   ],
   "source": [
    "score=[java,db,python]\n",
    "score"
   ]
  },
  {
   "cell_type": "code",
   "execution_count": 99,
   "metadata": {},
   "outputs": [
    {
     "name": "stdout",
     "output_type": "stream",
     "text": [
      "[[ 80  70  60  85  90]\n",
      " [ 75  65  60  80  95]\n",
      " [ 90  75  70  80 100]]\n",
      "60\n",
      "[60 60 70]\n",
      "[75 65 60 80 95]\n",
      "[[ 80  60  90]\n",
      " [ 75  60  95]\n",
      " [ 90  70 100]]\n",
      "1175\n",
      "[385 375 415]\n",
      "[245 210 190 245 285]\n",
      "[60 60 70]\n"
     ]
    }
   ],
   "source": [
    "arr_score=np.array(score)\n",
    "#numpy는 [1차원요소,2차원요소] 바로 찾을 수 있다. [start,end,step]\n",
    "print(arr_score)\n",
    "print(arr_score[1,2])\n",
    "print(arr_score[:,2])\n",
    "print(arr_score[1,:])\n",
    "print(arr_score[:,::2])\n",
    "print(np.sum(arr_score))\n",
    "print(np.sum(arr_score, axis=1)) #1=True y축??\n",
    "print(np.sum(arr_score, axis=0)) #0=False x축??\n",
    "print(np.min(arr_score, axis=1))"
   ]
  },
  {
   "cell_type": "code",
   "execution_count": 34,
   "metadata": {},
   "outputs": [
    {
     "name": "stdout",
     "output_type": "stream",
     "text": [
      "65\n",
      "[90, 75, 70, 80, 100]\n"
     ]
    }
   ],
   "source": [
    "print(score[1][1])\n",
    "#1차원 요소를 먼저 선언해주어야한다\n",
    "print(score[:][2]) #1차원요소가 없어 [:]를 무시하고 1차원요소 [2]를 찾는다."
   ]
  },
  {
   "cell_type": "code",
   "execution_count": null,
   "metadata": {},
   "outputs": [],
   "source": [
    "add=[0,0,0,0,0]\n",
    "for i in range(len(score)):\n",
    "    for j in range(len(score[i])):\n",
    "        add[j] += score[i][j]\n",
    "\n",
    "print(add)"
   ]
  },
  {
   "cell_type": "code",
   "execution_count": null,
   "metadata": {},
   "outputs": [],
   "source": [
    "score=zip(java,db,python)\n",
    "sum=[]\n",
    "for i in score:\n",
    "    add=0\n",
    "    for j in i:\n",
    "        add+=j\n",
    "    sum.append(add)\n",
    "\n",
    "print(sum)\n",
    "\n"
   ]
  },
  {
   "cell_type": "code",
   "execution_count": 125,
   "metadata": {},
   "outputs": [
    {
     "name": "stdout",
     "output_type": "stream",
     "text": [
      "    0   1   2   3    4\n",
      "0  80  70  60  85   90\n",
      "1  75  65  60  80   95\n",
      "2  90  75  70  80  100\n",
      "0    245\n",
      "1    210\n",
      "2    190\n",
      "3    245\n",
      "4    285\n",
      "dtype: int64\n",
      "0    385\n",
      "1    375\n",
      "2    415\n",
      "dtype: int64\n"
     ]
    }
   ],
   "source": [
    "score2=[java,db,python]\n",
    "data5=pd.DataFrame(score2)\n",
    "print(data5)\n",
    "print(data5.sum(axis=0))\n",
    "print(data5.sum(axis=1))"
   ]
  },
  {
   "cell_type": "code",
   "execution_count": null,
   "metadata": {},
   "outputs": [],
   "source": [
    "seri=pd.Series(java)\n",
    "print(seri)\n",
    "print(seri[::])\n",
    "print(seri[::2])\n",
    "print(seri[::-1])\n",
    "seri.index=['a','b','c','d','e']\n",
    "print(seri)\n",
    "seri['a']=100\n",
    "print(seri)\n",
    "seri['a':'d']=100\n",
    "print(seri)"
   ]
  },
  {
   "cell_type": "code",
   "execution_count": 74,
   "metadata": {},
   "outputs": [
    {
     "data": {
      "text/html": [
       "<div>\n",
       "<style scoped>\n",
       "    .dataframe tbody tr th:only-of-type {\n",
       "        vertical-align: middle;\n",
       "    }\n",
       "\n",
       "    .dataframe tbody tr th {\n",
       "        vertical-align: top;\n",
       "    }\n",
       "\n",
       "    .dataframe thead th {\n",
       "        text-align: right;\n",
       "    }\n",
       "</style>\n",
       "<table border=\"1\" class=\"dataframe\">\n",
       "  <thead>\n",
       "    <tr style=\"text-align: right;\">\n",
       "      <th></th>\n",
       "      <th>name</th>\n",
       "      <th>java</th>\n",
       "      <th>db</th>\n",
       "      <th>python</th>\n",
       "    </tr>\n",
       "  </thead>\n",
       "  <tbody>\n",
       "    <tr>\n",
       "      <td>0</td>\n",
       "      <td>홍길동</td>\n",
       "      <td>80</td>\n",
       "      <td>75</td>\n",
       "      <td>90</td>\n",
       "    </tr>\n",
       "    <tr>\n",
       "      <td>1</td>\n",
       "      <td>노현진</td>\n",
       "      <td>70</td>\n",
       "      <td>65</td>\n",
       "      <td>75</td>\n",
       "    </tr>\n",
       "    <tr>\n",
       "      <td>2</td>\n",
       "      <td>권윤정</td>\n",
       "      <td>60</td>\n",
       "      <td>60</td>\n",
       "      <td>70</td>\n",
       "    </tr>\n",
       "    <tr>\n",
       "      <td>3</td>\n",
       "      <td>강서하</td>\n",
       "      <td>85</td>\n",
       "      <td>80</td>\n",
       "      <td>80</td>\n",
       "    </tr>\n",
       "    <tr>\n",
       "      <td>4</td>\n",
       "      <td>이동관</td>\n",
       "      <td>90</td>\n",
       "      <td>95</td>\n",
       "      <td>100</td>\n",
       "    </tr>\n",
       "  </tbody>\n",
       "</table>\n",
       "</div>"
      ],
      "text/plain": [
       "  name  java  db  python\n",
       "0  홍길동    80  75      90\n",
       "1  노현진    70  65      75\n",
       "2  권윤정    60  60      70\n",
       "3  강서하    85  80      80\n",
       "4  이동관    90  95     100"
      ]
     },
     "execution_count": 74,
     "metadata": {},
     "output_type": "execute_result"
    }
   ],
   "source": [
    "#리스트 그대로 행으로 삽입된다. 우리가 데이터를 볼 때 zip or 딕셔녀리 자료형이 편리하다\n",
    "df=pd.DataFrame(score)\n",
    "df\n",
    "\n",
    "name=['홍길동','노현진','권윤정','강서하','이동관']\n",
    "data={'name':name,'java':java,'db':db,'python':python}\n",
    "df=pd.DataFrame(data)\n",
    "df"
   ]
  },
  {
   "cell_type": "code",
   "execution_count": 45,
   "metadata": {},
   "outputs": [
    {
     "name": "stdout",
     "output_type": "stream",
     "text": [
      "[80, 70, 60, 85, 90]\n"
     ]
    }
   ],
   "source": [
    "java=[80,70,60,85,90]\n",
    "db=[75,65,60,80,95]\n",
    "python=[90,75,70,80,100]\n",
    "score=[java,db,python]\n",
    "name=['홍길동','노현진','권윤정','강서하','이동관']\n",
    "print(score[0])\n",
    "data1=zip(name,score[0],score[1],score[2])\n"
   ]
  },
  {
   "cell_type": "code",
   "execution_count": 46,
   "metadata": {},
   "outputs": [],
   "source": [
    "df1=pd.DataFrame(data1,\n",
    "                 columns=['name','java','db','python'],\n",
    "                 index=['a','b','c','d','e'])\n"
   ]
  },
  {
   "cell_type": "code",
   "execution_count": 58,
   "metadata": {
    "scrolled": true
   },
   "outputs": [
    {
     "name": "stdout",
     "output_type": "stream",
     "text": [
      "  name  java  db  python  add\n",
      "a  홍길동    80  75      90  245\n",
      "b  노현진    70  65      75  210\n",
      "c  권윤정    60  60      70  190\n",
      "d  강서하    85  80      80  245\n",
      "e  이동관    90  95     100  285\n",
      "  name  python\n",
      "a  홍길동      90\n",
      "b  노현진      75\n",
      "c  권윤정      70\n",
      "d  강서하      80\n",
      "e  이동관     100\n",
      "a    75\n",
      "b    65\n",
      "c    60\n",
      "d    80\n",
      "e    95\n",
      "Name: db, dtype: int64\n",
      "  name  java  db  python  add        avg\n",
      "a  홍길동    80  75      90  245  81.666667\n",
      "b  노현진    70  65      75  210  70.000000\n",
      "c  권윤정    60  60      70  190  63.333333\n",
      "d  강서하    85  80      80  245  81.666667\n",
      "e  이동관    90  95     100  285  95.000000\n"
     ]
    }
   ],
   "source": [
    "print(df1)\n",
    "print(df1[['name','python']])\n",
    "print(df1.db)\n",
    "df1['add']=df1.java+df1.db+df1.python\n",
    "df1['avg']=df1['add']/3\n",
    "print(df1)"
   ]
  },
  {
   "cell_type": "code",
   "execution_count": 59,
   "metadata": {},
   "outputs": [
    {
     "data": {
      "text/plain": [
       "a    홍길동\n",
       "b    노현진\n",
       "c    권윤정\n",
       "d    강서하\n",
       "e    이동관\n",
       "Name: name, dtype: object"
      ]
     },
     "execution_count": 59,
     "metadata": {},
     "output_type": "execute_result"
    }
   ],
   "source": [
    "df1.name"
   ]
  },
  {
   "cell_type": "code",
   "execution_count": 69,
   "metadata": {},
   "outputs": [
    {
     "name": "stdout",
     "output_type": "stream",
     "text": [
      "  name  java\n",
      "a  홍길동    80\n",
      "b  노현진    70\n",
      "c  권윤정    60\n",
      "  name  java  db  python\n",
      "a  홍길동    80  75      90\n",
      "c  권윤정    60  60      70\n",
      "  name  java  db\n",
      "a  홍길동    80  75\n",
      "b  노현진    70  65\n",
      "c  권윤정    60  60\n",
      "d  강서하    85  80\n",
      "e  이동관    90  95\n",
      "  name  java  db  python  add        avg\n",
      "a  홍길동    80  75      90  245  81.666667\n",
      "d  강서하    85  80      80  245  81.666667\n",
      "e  이동관    90  95     100  285  95.000000 ['name', 'avg']\n",
      "  name  java  db  python  add        avg\n",
      "a  홍길동    80  75      90  245  81.666667\n",
      "d  강서하    85  80      80  245  81.666667\n",
      "e  이동관    90  95     100  285  95.000000 ['name', 'avg']\n"
     ]
    }
   ],
   "source": [
    "#df.loc[행,렬] 행=1차원요소 렬=2차원요소 행과 열을 기준으로 함, \n",
    "#열만 보고 싶다하더라도 행에 : 꼭 넣어주여야함! \n",
    "#[] 안에 조건식도 가능함!!!!!!!!!\n",
    "\n",
    "print(df1.loc['a':'c',['name','java']])\n",
    "print(df1.loc[['a','c'],'name':'python'])\n",
    "print(df1.loc[:,'name':'db'])\n",
    "print(df1.loc[df1.avg>=80],['name','avg'])\n",
    "print(df1.loc[(df1.avg>=80)&(df1.python>=80)],['name','avg'])"
   ]
  },
  {
   "cell_type": "code",
   "execution_count": 71,
   "metadata": {},
   "outputs": [
    {
     "data": {
      "text/html": [
       "<div>\n",
       "<style scoped>\n",
       "    .dataframe tbody tr th:only-of-type {\n",
       "        vertical-align: middle;\n",
       "    }\n",
       "\n",
       "    .dataframe tbody tr th {\n",
       "        vertical-align: top;\n",
       "    }\n",
       "\n",
       "    .dataframe thead th {\n",
       "        text-align: right;\n",
       "    }\n",
       "</style>\n",
       "<table border=\"1\" class=\"dataframe\">\n",
       "  <thead>\n",
       "    <tr style=\"text-align: right;\">\n",
       "      <th></th>\n",
       "      <th>name</th>\n",
       "      <th>java</th>\n",
       "      <th>db</th>\n",
       "      <th>python</th>\n",
       "      <th>add</th>\n",
       "      <th>avg</th>\n",
       "    </tr>\n",
       "  </thead>\n",
       "  <tbody>\n",
       "    <tr>\n",
       "      <td>a</td>\n",
       "      <td>홍길동</td>\n",
       "      <td>80.0</td>\n",
       "      <td>75.0</td>\n",
       "      <td>90.0</td>\n",
       "      <td>245.0</td>\n",
       "      <td>81.666667</td>\n",
       "    </tr>\n",
       "    <tr>\n",
       "      <td>b</td>\n",
       "      <td>노현진</td>\n",
       "      <td>70.0</td>\n",
       "      <td>65.0</td>\n",
       "      <td>75.0</td>\n",
       "      <td>210.0</td>\n",
       "      <td>70.000000</td>\n",
       "    </tr>\n",
       "    <tr>\n",
       "      <td>c</td>\n",
       "      <td>권윤정</td>\n",
       "      <td>60.0</td>\n",
       "      <td>60.0</td>\n",
       "      <td>70.0</td>\n",
       "      <td>190.0</td>\n",
       "      <td>63.333333</td>\n",
       "    </tr>\n",
       "    <tr>\n",
       "      <td>d</td>\n",
       "      <td>강서하</td>\n",
       "      <td>85.0</td>\n",
       "      <td>80.0</td>\n",
       "      <td>80.0</td>\n",
       "      <td>245.0</td>\n",
       "      <td>81.666667</td>\n",
       "    </tr>\n",
       "    <tr>\n",
       "      <td>e</td>\n",
       "      <td>이동관</td>\n",
       "      <td>90.0</td>\n",
       "      <td>95.0</td>\n",
       "      <td>100.0</td>\n",
       "      <td>285.0</td>\n",
       "      <td>95.000000</td>\n",
       "    </tr>\n",
       "    <tr>\n",
       "      <td>f</td>\n",
       "      <td>kim</td>\n",
       "      <td>85.0</td>\n",
       "      <td>75.0</td>\n",
       "      <td>90.0</td>\n",
       "      <td>NaN</td>\n",
       "      <td>NaN</td>\n",
       "    </tr>\n",
       "  </tbody>\n",
       "</table>\n",
       "</div>"
      ],
      "text/plain": [
       "  name  java    db  python    add        avg\n",
       "a  홍길동  80.0  75.0    90.0  245.0  81.666667\n",
       "b  노현진  70.0  65.0    75.0  210.0  70.000000\n",
       "c  권윤정  60.0  60.0    70.0  190.0  63.333333\n",
       "d  강서하  85.0  80.0    80.0  245.0  81.666667\n",
       "e  이동관  90.0  95.0   100.0  285.0  95.000000\n",
       "f  kim  85.0  75.0    90.0    NaN        NaN"
      ]
     },
     "execution_count": 71,
     "metadata": {},
     "output_type": "execute_result"
    }
   ],
   "source": [
    "#추가\n",
    "df1.loc['f',['name','java','db','python']]=['kim',85,75,90]\n",
    "df1"
   ]
  },
  {
   "cell_type": "code",
   "execution_count": 78,
   "metadata": {},
   "outputs": [
    {
     "name": "stdout",
     "output_type": "stream",
     "text": [
      "  name  java  db  python\n",
      "0  홍길동    80  75      90\n",
      "1  노현진    70  65      75\n",
      "2  권윤정    60  60      70\n",
      "3  강서하    85  80      80\n",
      "4  이동관    90  95     100\n",
      "  name  java  db\n",
      "1  노현진    70  65\n",
      "2  권윤정    60  60\n",
      "   java  python\n",
      "0    80      90\n",
      "2    60      70\n",
      "4    90     100\n"
     ]
    }
   ],
   "source": [
    "print(df)\n",
    "#iloc는 숫자 일때 사용 3보다 1작은 2까지 max값에서 -1해줌 시작은 0\n",
    "#컬럼 검색은 렬 숫자로\n",
    "print(df.iloc[1:3,0:3])\n",
    "print(df.iloc[[0,2,4],[1,3]])\n"
   ]
  },
  {
   "cell_type": "code",
   "execution_count": 82,
   "metadata": {},
   "outputs": [
    {
     "data": {
      "text/html": [
       "<div>\n",
       "<style scoped>\n",
       "    .dataframe tbody tr th:only-of-type {\n",
       "        vertical-align: middle;\n",
       "    }\n",
       "\n",
       "    .dataframe tbody tr th {\n",
       "        vertical-align: top;\n",
       "    }\n",
       "\n",
       "    .dataframe thead th {\n",
       "        text-align: right;\n",
       "    }\n",
       "</style>\n",
       "<table border=\"1\" class=\"dataframe\">\n",
       "  <thead>\n",
       "    <tr style=\"text-align: right;\">\n",
       "      <th></th>\n",
       "      <th>name</th>\n",
       "      <th>java</th>\n",
       "      <th>db</th>\n",
       "      <th>python</th>\n",
       "    </tr>\n",
       "  </thead>\n",
       "  <tbody>\n",
       "    <tr>\n",
       "      <td>a</td>\n",
       "      <td>홍길동</td>\n",
       "      <td>80.0</td>\n",
       "      <td>75.0</td>\n",
       "      <td>90.0</td>\n",
       "    </tr>\n",
       "    <tr>\n",
       "      <td>b</td>\n",
       "      <td>노현진</td>\n",
       "      <td>70.0</td>\n",
       "      <td>65.0</td>\n",
       "      <td>75.0</td>\n",
       "    </tr>\n",
       "    <tr>\n",
       "      <td>c</td>\n",
       "      <td>권윤정</td>\n",
       "      <td>60.0</td>\n",
       "      <td>60.0</td>\n",
       "      <td>70.0</td>\n",
       "    </tr>\n",
       "    <tr>\n",
       "      <td>d</td>\n",
       "      <td>강서하</td>\n",
       "      <td>85.0</td>\n",
       "      <td>80.0</td>\n",
       "      <td>80.0</td>\n",
       "    </tr>\n",
       "    <tr>\n",
       "      <td>e</td>\n",
       "      <td>이동관</td>\n",
       "      <td>90.0</td>\n",
       "      <td>95.0</td>\n",
       "      <td>100.0</td>\n",
       "    </tr>\n",
       "    <tr>\n",
       "      <td>f</td>\n",
       "      <td>kim</td>\n",
       "      <td>85.0</td>\n",
       "      <td>75.0</td>\n",
       "      <td>90.0</td>\n",
       "    </tr>\n",
       "  </tbody>\n",
       "</table>\n",
       "</div>"
      ],
      "text/plain": [
       "  name  java    db  python\n",
       "a  홍길동  80.0  75.0    90.0\n",
       "b  노현진  70.0  65.0    75.0\n",
       "c  권윤정  60.0  60.0    70.0\n",
       "d  강서하  85.0  80.0    80.0\n",
       "e  이동관  90.0  95.0   100.0\n",
       "f  kim  85.0  75.0    90.0"
      ]
     },
     "execution_count": 82,
     "metadata": {},
     "output_type": "execute_result"
    }
   ],
   "source": [
    "#df1.loc[문자 index, 문자열]\n",
    "#df1.iloc[숫자 index, 숫자]\n",
    "df1.iloc[:,0:4]"
   ]
  },
  {
   "cell_type": "code",
   "execution_count": 85,
   "metadata": {},
   "outputs": [
    {
     "name": "stdout",
     "output_type": "stream",
     "text": [
      "DatetimeIndex(['2020-01-01', '2020-01-02', '2020-01-03', '2020-01-04',\n",
      "               '2020-01-05', '2020-01-06'],\n",
      "              dtype='datetime64[ns]', freq='D')\n"
     ]
    }
   ],
   "source": [
    "df2=pd.DataFrame(np.random.randn(6,4))\n",
    "df2.columns=['A','B','C','D']\n",
    "df2.index=pd.date_range('20200101',periods=6)\n",
    "print(df2.index)"
   ]
  },
  {
   "cell_type": "code",
   "execution_count": 89,
   "metadata": {},
   "outputs": [
    {
     "data": {
      "text/html": [
       "<div>\n",
       "<style scoped>\n",
       "    .dataframe tbody tr th:only-of-type {\n",
       "        vertical-align: middle;\n",
       "    }\n",
       "\n",
       "    .dataframe tbody tr th {\n",
       "        vertical-align: top;\n",
       "    }\n",
       "\n",
       "    .dataframe thead th {\n",
       "        text-align: right;\n",
       "    }\n",
       "</style>\n",
       "<table border=\"1\" class=\"dataframe\">\n",
       "  <thead>\n",
       "    <tr style=\"text-align: right;\">\n",
       "      <th></th>\n",
       "      <th>name</th>\n",
       "      <th>java</th>\n",
       "      <th>db</th>\n",
       "      <th>python</th>\n",
       "      <th>add</th>\n",
       "      <th>avg</th>\n",
       "    </tr>\n",
       "  </thead>\n",
       "  <tbody>\n",
       "    <tr>\n",
       "      <td>a</td>\n",
       "      <td>홍길동</td>\n",
       "      <td>80.0</td>\n",
       "      <td>75.0</td>\n",
       "      <td>90.0</td>\n",
       "      <td>245.0</td>\n",
       "      <td>81.666667</td>\n",
       "    </tr>\n",
       "    <tr>\n",
       "      <td>b</td>\n",
       "      <td>노현진</td>\n",
       "      <td>70.0</td>\n",
       "      <td>65.0</td>\n",
       "      <td>75.0</td>\n",
       "      <td>210.0</td>\n",
       "      <td>70.000000</td>\n",
       "    </tr>\n",
       "    <tr>\n",
       "      <td>c</td>\n",
       "      <td>권윤정</td>\n",
       "      <td>60.0</td>\n",
       "      <td>60.0</td>\n",
       "      <td>70.0</td>\n",
       "      <td>190.0</td>\n",
       "      <td>63.333333</td>\n",
       "    </tr>\n",
       "    <tr>\n",
       "      <td>d</td>\n",
       "      <td>강서하</td>\n",
       "      <td>85.0</td>\n",
       "      <td>80.0</td>\n",
       "      <td>80.0</td>\n",
       "      <td>245.0</td>\n",
       "      <td>81.666667</td>\n",
       "    </tr>\n",
       "    <tr>\n",
       "      <td>e</td>\n",
       "      <td>이동관</td>\n",
       "      <td>90.0</td>\n",
       "      <td>95.0</td>\n",
       "      <td>100.0</td>\n",
       "      <td>285.0</td>\n",
       "      <td>95.000000</td>\n",
       "    </tr>\n",
       "  </tbody>\n",
       "</table>\n",
       "</div>"
      ],
      "text/plain": [
       "  name  java    db  python    add        avg\n",
       "a  홍길동  80.0  75.0    90.0  245.0  81.666667\n",
       "b  노현진  70.0  65.0    75.0  210.0  70.000000\n",
       "c  권윤정  60.0  60.0    70.0  190.0  63.333333\n",
       "d  강서하  85.0  80.0    80.0  245.0  81.666667\n",
       "e  이동관  90.0  95.0   100.0  285.0  95.000000"
      ]
     },
     "execution_count": 89,
     "metadata": {},
     "output_type": "execute_result"
    }
   ],
   "source": [
    "df1.loc['h',['name','java','db','python']]=['park',85,95,75]\n",
    "#drop 후 변수에 담아주어야 저장됨 df1은 변함 없음 새로운 객체에 넣어준다!\n",
    "df3=df1.dropna(how='any')\n",
    "df3"
   ]
  },
  {
   "cell_type": "code",
   "execution_count": 94,
   "metadata": {},
   "outputs": [
    {
     "data": {
      "text/html": [
       "<div>\n",
       "<style scoped>\n",
       "    .dataframe tbody tr th:only-of-type {\n",
       "        vertical-align: middle;\n",
       "    }\n",
       "\n",
       "    .dataframe tbody tr th {\n",
       "        vertical-align: top;\n",
       "    }\n",
       "\n",
       "    .dataframe thead th {\n",
       "        text-align: right;\n",
       "    }\n",
       "</style>\n",
       "<table border=\"1\" class=\"dataframe\">\n",
       "  <thead>\n",
       "    <tr style=\"text-align: right;\">\n",
       "      <th></th>\n",
       "      <th>name</th>\n",
       "      <th>java</th>\n",
       "      <th>db</th>\n",
       "      <th>python</th>\n",
       "      <th>add</th>\n",
       "      <th>avg</th>\n",
       "    </tr>\n",
       "  </thead>\n",
       "  <tbody>\n",
       "    <tr>\n",
       "      <td>f</td>\n",
       "      <td>kim</td>\n",
       "      <td>85.0</td>\n",
       "      <td>75.0</td>\n",
       "      <td>90.0</td>\n",
       "      <td>NaN</td>\n",
       "      <td>NaN</td>\n",
       "    </tr>\n",
       "    <tr>\n",
       "      <td>h</td>\n",
       "      <td>park</td>\n",
       "      <td>85.0</td>\n",
       "      <td>95.0</td>\n",
       "      <td>75.0</td>\n",
       "      <td>NaN</td>\n",
       "      <td>NaN</td>\n",
       "    </tr>\n",
       "  </tbody>\n",
       "</table>\n",
       "</div>"
      ],
      "text/plain": [
       "   name  java    db  python  add  avg\n",
       "f   kim  85.0  75.0    90.0  NaN  NaN\n",
       "h  park  85.0  95.0    75.0  NaN  NaN"
      ]
     },
     "execution_count": 94,
     "metadata": {},
     "output_type": "execute_result"
    }
   ],
   "source": [
    "df1.fillna(value=0.5)\n",
    "df1\n",
    "df1.isnull()\n",
    "df1.loc[df1.isnull()['add'],:]"
   ]
  },
  {
   "cell_type": "code",
   "execution_count": 104,
   "metadata": {},
   "outputs": [
    {
     "name": "stdout",
     "output_type": "stream",
     "text": [
      "   name  java    db  python\n",
      "a   홍길동  80.0  75.0    90.0\n",
      "b   노현진  70.0  65.0    75.0\n",
      "c   권윤정  60.0  60.0    70.0\n",
      "d   강서하  85.0  80.0    80.0\n",
      "e   이동관  90.0  95.0   100.0\n",
      "f   kim  85.0  75.0    90.0\n",
      "h  park  85.0  95.0    75.0\n",
      "   name  java    db  python    add        avg\n",
      "a   홍길동  80.0  75.0    90.0  245.0  81.666667\n",
      "b   노현진  70.0  65.0    75.0  210.0  70.000000\n",
      "c   권윤정  60.0  60.0    70.0  190.0  63.333333\n",
      "d   강서하  85.0  80.0    80.0  245.0  81.666667\n",
      "e   이동관  90.0  95.0   100.0  285.0  95.000000\n",
      "f   kim  85.0  75.0    90.0    NaN        NaN\n",
      "h  park  85.0  95.0    75.0    NaN        NaN\n"
     ]
    }
   ],
   "source": [
    "df3=df1.drop(['add','avg'],axis=1) #특정 열 삭제하기\n",
    "print(df3)\n",
    "print(df1)"
   ]
  },
  {
   "cell_type": "code",
   "execution_count": 116,
   "metadata": {},
   "outputs": [
    {
     "name": "stdout",
     "output_type": "stream",
     "text": [
      "   name  java    db  python    add        avg\n",
      "a   홍길동  80.0  75.0    90.0  245.0  81.666667\n",
      "b   노현진  70.0  65.0    75.0  210.0  70.000000\n",
      "c   권윤정  60.0  60.0    70.0  190.0  63.333333\n",
      "d   강서하  85.0  80.0    80.0  245.0  81.666667\n",
      "e   이동관  90.0  95.0   100.0  285.0  95.000000\n",
      "f   kim  85.0  75.0    90.0    NaN        NaN\n",
      "h  park  85.0  95.0    75.0    NaN        NaN\n",
      "   name  java    db  python    add        avg\n",
      "b   노현진  70.0  65.0    75.0  210.0  70.000000\n",
      "c   권윤정  60.0  60.0    70.0  190.0  63.333333\n",
      "d   강서하  85.0  80.0    80.0  245.0  81.666667\n",
      "e   이동관  90.0  95.0   100.0  285.0  95.000000\n",
      "f   kim  85.0  75.0    90.0    NaN        NaN\n",
      "h  park  85.0  95.0    75.0    NaN        NaN\n",
      "  name  java  db  python\n",
      "0  홍길동    80  75      90\n",
      "1  노현진    70  65      75\n",
      "2  권윤정    60  60      70\n",
      "3  강서하    85  80      80\n",
      "4  이동관    90  95     100\n",
      "  name  java  db  python\n",
      "1  노현진    70  65      75\n",
      "2  권윤정    60  60      70\n",
      "3  강서하    85  80      80\n",
      "4  이동관    90  95     100\n"
     ]
    }
   ],
   "source": [
    "#df.drop(row or coloumn, 방향 0 :(행방향,x축)or 1 :(열방향,y축))\n",
    "print(df1)\n",
    "df4=df1.drop('a') \n",
    "print(df4)\n",
    "print(df)\n",
    "df4=df.drop(0)\n",
    "print(df4)"
   ]
  },
  {
   "cell_type": "code",
   "execution_count": 128,
   "metadata": {
    "scrolled": true
   },
   "outputs": [
    {
     "name": "stdout",
     "output_type": "stream",
     "text": [
      "  name  java  db  python\n",
      "0  홍길동    80  75      90\n",
      "1  노현진    70  65      75\n",
      "2  권윤정    60  60      70\n",
      "3  강서하    85  80      80\n",
      "4  이동관    90  95     100\n",
      "name      홍길동노현진권윤정강서하이동관\n",
      "java                  385\n",
      "db                    375\n",
      "python                415\n",
      "dtype: object\n",
      "0    245\n",
      "1    210\n",
      "2    190\n",
      "3    245\n",
      "4    285\n",
      "dtype: int64\n",
      "java      77.0\n",
      "db        75.0\n",
      "python    83.0\n",
      "dtype: float64\n",
      "0    81.666667\n",
      "1    70.000000\n",
      "2    63.333333\n",
      "3    81.666667\n",
      "4    95.000000\n",
      "dtype: float64\n",
      "   name  java    db  python    add        avg\n",
      "a   홍길동  80.0  75.0    90.0  245.0  81.666667\n",
      "b   노현진  70.0  65.0    75.0  210.0  70.000000\n",
      "c   권윤정  60.0  60.0    70.0  190.0  63.333333\n",
      "d   강서하  85.0  80.0    80.0  245.0  81.666667\n",
      "e   이동관  90.0  95.0   100.0  285.0  95.000000\n",
      "f   kim  85.0  75.0    90.0    NaN        NaN\n",
      "h  park  85.0  95.0    75.0    NaN        NaN\n",
      "a    571.666667\n",
      "b    490.000000\n",
      "c    443.333333\n",
      "d    571.666667\n",
      "e    665.000000\n",
      "f    250.000000\n",
      "h    255.000000\n",
      "dtype: float64\n",
      "a    571.666667\n",
      "b    490.000000\n",
      "c    443.333333\n",
      "d    571.666667\n",
      "e    665.000000\n",
      "f           NaN\n",
      "h           NaN\n",
      "dtype: float64\n"
     ]
    }
   ],
   "source": [
    "\n",
    "print(df)\n",
    "print(df.sum(axis=0))\n",
    "print(df.sum(axis=1))\n",
    "print(df.mean(axis=0))\n",
    "print(df.mean(axis=1))\n",
    "print(df1)\n",
    "print(df1.sum(axis=1))\n",
    "print(df1.sum(axis=1,skipna=False))"
   ]
  },
  {
   "cell_type": "code",
   "execution_count": 139,
   "metadata": {},
   "outputs": [
    {
     "name": "stdout",
     "output_type": "stream",
     "text": [
      "<bound method DataFrame.cumprod of    name  java    db  python    add        avg\n",
      "a   홍길동  80.0  75.0    90.0  245.0  81.666667\n",
      "b   노현진  70.0  65.0    75.0  210.0  70.000000\n",
      "c   권윤정  60.0  60.0    70.0  190.0  63.333333\n",
      "d   강서하  85.0  80.0    80.0  245.0  81.666667\n",
      "e   이동관  90.0  95.0   100.0  285.0  95.000000\n",
      "f   kim  85.0  75.0    90.0    NaN        NaN\n",
      "h  park  85.0  95.0    75.0    NaN        NaN>\n"
     ]
    },
    {
     "data": {
      "text/plain": [
       "a    80.0\n",
       "b    70.0\n",
       "c    60.0\n",
       "d    85.0\n",
       "e    90.0\n",
       "f    85.0\n",
       "h    85.0\n",
       "Name: java, dtype: float64"
      ]
     },
     "execution_count": 139,
     "metadata": {},
     "output_type": "execute_result"
    }
   ],
   "source": [
    "print(df1.cumprod)\n",
    "df1['java']"
   ]
  },
  {
   "cell_type": "code",
   "execution_count": 142,
   "metadata": {},
   "outputs": [
    {
     "data": {
      "text/plain": [
       "0.853448275862069"
      ]
     },
     "execution_count": 142,
     "metadata": {},
     "output_type": "execute_result"
    }
   ],
   "source": [
    "df=pd.DataFrame(data)\n",
    "# 상관관계 거의 없음 0.2 중간 0.8 상관관계 밀접\n",
    "df.java.corr(df.db)\n",
    "df.java.corr(df.python)"
   ]
  },
  {
   "cell_type": "code",
   "execution_count": 146,
   "metadata": {},
   "outputs": [
    {
     "data": {
      "text/html": [
       "<div>\n",
       "<style scoped>\n",
       "    .dataframe tbody tr th:only-of-type {\n",
       "        vertical-align: middle;\n",
       "    }\n",
       "\n",
       "    .dataframe tbody tr th {\n",
       "        vertical-align: top;\n",
       "    }\n",
       "\n",
       "    .dataframe thead th {\n",
       "        text-align: right;\n",
       "    }\n",
       "</style>\n",
       "<table border=\"1\" class=\"dataframe\">\n",
       "  <thead>\n",
       "    <tr style=\"text-align: right;\">\n",
       "      <th></th>\n",
       "      <th>name</th>\n",
       "      <th>java</th>\n",
       "      <th>db</th>\n",
       "      <th>python</th>\n",
       "    </tr>\n",
       "  </thead>\n",
       "  <tbody>\n",
       "    <tr>\n",
       "      <td>0</td>\n",
       "      <td>홍길동</td>\n",
       "      <td>80</td>\n",
       "      <td>75</td>\n",
       "      <td>90</td>\n",
       "    </tr>\n",
       "    <tr>\n",
       "      <td>1</td>\n",
       "      <td>노현진</td>\n",
       "      <td>70</td>\n",
       "      <td>65</td>\n",
       "      <td>75</td>\n",
       "    </tr>\n",
       "    <tr>\n",
       "      <td>2</td>\n",
       "      <td>권윤정</td>\n",
       "      <td>60</td>\n",
       "      <td>60</td>\n",
       "      <td>70</td>\n",
       "    </tr>\n",
       "    <tr>\n",
       "      <td>3</td>\n",
       "      <td>강서하</td>\n",
       "      <td>85</td>\n",
       "      <td>80</td>\n",
       "      <td>80</td>\n",
       "    </tr>\n",
       "    <tr>\n",
       "      <td>4</td>\n",
       "      <td>이동관</td>\n",
       "      <td>90</td>\n",
       "      <td>95</td>\n",
       "      <td>100</td>\n",
       "    </tr>\n",
       "    <tr>\n",
       "      <td>5</td>\n",
       "      <td>lee</td>\n",
       "      <td>10</td>\n",
       "      <td>75</td>\n",
       "      <td>100</td>\n",
       "    </tr>\n",
       "  </tbody>\n",
       "</table>\n",
       "</div>"
      ],
      "text/plain": [
       "  name  java  db  python\n",
       "0  홍길동    80  75      90\n",
       "1  노현진    70  65      75\n",
       "2  권윤정    60  60      70\n",
       "3  강서하    85  80      80\n",
       "4  이동관    90  95     100\n",
       "5  lee    10  75     100"
      ]
     },
     "execution_count": 146,
     "metadata": {},
     "output_type": "execute_result"
    }
   ],
   "source": [
    "df.loc[5]=['lee',10,75,100]\n",
    "df"
   ]
  },
  {
   "cell_type": "code",
   "execution_count": 147,
   "metadata": {},
   "outputs": [
    {
     "data": {
      "text/plain": [
       "-0.2411592955983084"
      ]
     },
     "execution_count": 147,
     "metadata": {},
     "output_type": "execute_result"
    }
   ],
   "source": [
    "df.java.corr(df.db)\n",
    "df.java.corr(df.python)"
   ]
  },
  {
   "cell_type": "code",
   "execution_count": 148,
   "metadata": {},
   "outputs": [
    {
     "data": {
      "text/plain": [
       "125.0"
      ]
     },
     "execution_count": 148,
     "metadata": {},
     "output_type": "execute_result"
    }
   ],
   "source": [
    "df.java.cov(df.db)"
   ]
  },
  {
   "cell_type": "code",
   "execution_count": 150,
   "metadata": {},
   "outputs": [
    {
     "data": {
      "text/html": [
       "<div>\n",
       "<style scoped>\n",
       "    .dataframe tbody tr th:only-of-type {\n",
       "        vertical-align: middle;\n",
       "    }\n",
       "\n",
       "    .dataframe tbody tr th {\n",
       "        vertical-align: top;\n",
       "    }\n",
       "\n",
       "    .dataframe thead th {\n",
       "        text-align: right;\n",
       "    }\n",
       "</style>\n",
       "<table border=\"1\" class=\"dataframe\">\n",
       "  <thead>\n",
       "    <tr style=\"text-align: right;\">\n",
       "      <th></th>\n",
       "      <th>java</th>\n",
       "      <th>db</th>\n",
       "      <th>python</th>\n",
       "    </tr>\n",
       "    <tr>\n",
       "      <th>major</th>\n",
       "      <th></th>\n",
       "      <th></th>\n",
       "      <th></th>\n",
       "    </tr>\n",
       "  </thead>\n",
       "  <tbody>\n",
       "    <tr>\n",
       "      <td>정통</td>\n",
       "      <td>87.5</td>\n",
       "      <td>87.5</td>\n",
       "      <td>90.000000</td>\n",
       "    </tr>\n",
       "    <tr>\n",
       "      <td>컴공</td>\n",
       "      <td>50.0</td>\n",
       "      <td>70.0</td>\n",
       "      <td>86.666667</td>\n",
       "    </tr>\n",
       "    <tr>\n",
       "      <td>컴멀</td>\n",
       "      <td>70.0</td>\n",
       "      <td>65.0</td>\n",
       "      <td>75.000000</td>\n",
       "    </tr>\n",
       "  </tbody>\n",
       "</table>\n",
       "</div>"
      ],
      "text/plain": [
       "       java    db     python\n",
       "major                       \n",
       "정통     87.5  87.5  90.000000\n",
       "컴공     50.0  70.0  86.666667\n",
       "컴멀     70.0  65.0  75.000000"
      ]
     },
     "execution_count": 150,
     "metadata": {},
     "output_type": "execute_result"
    }
   ],
   "source": [
    "df['major']=['컴공','컴멀','컴공','정통','정통','컴공']\n",
    "print(f.groupby(df.major).mean())\n",
    "print(df.groupby('major').mean())\n",
    "print(df)\n"
   ]
  },
  {
   "cell_type": "code",
   "execution_count": 159,
   "metadata": {},
   "outputs": [
    {
     "name": "stdout",
     "output_type": "stream",
     "text": [
      "   db  java major name  python\n",
      "c  75    80    컴공  홍길동      90\n",
      "a  65    70    컴멀  노현진      75\n",
      "k  60    60    컴공  권윤정      70\n",
      "l  80    85    정통  강서하      80\n",
      "b  95    90    정통  이동관     100\n",
      "f  75    10    컴공  lee     100\n",
      "  name  java  db  python major\n",
      "a  노현진    70  65      75    컴멀\n",
      "b  이동관    90  95     100    정통\n",
      "c  홍길동    80  75      90    컴공\n",
      "f  lee    10  75     100    컴공\n",
      "k  권윤정    60  60      70    컴공\n",
      "l  강서하    85  80      80    정통\n",
      "   python name major  java  db\n",
      "c      90  홍길동    컴공    80  75\n",
      "a      75  노현진    컴멀    70  65\n",
      "k      70  권윤정    컴공    60  60\n",
      "l      80  강서하    정통    85  80\n",
      "b     100  이동관    정통    90  95\n",
      "f     100  lee    컴공    10  75\n",
      "  name  java  db  python major\n",
      "l  강서하    85  80      80    정통\n",
      "k  권윤정    60  60      70    컴공\n",
      "f  lee    10  75     100    컴공\n",
      "c  홍길동    80  75      90    컴공\n",
      "b  이동관    90  95     100    정통\n",
      "a  노현진    70  65      75    컴멀\n"
     ]
    },
    {
     "data": {
      "text/plain": [
       "컴공    3\n",
       "정통    2\n",
       "컴멀    1\n",
       "Name: major, dtype: int64"
      ]
     },
     "execution_count": 159,
     "metadata": {},
     "output_type": "execute_result"
    }
   ],
   "source": [
    "df.index=['c','a','k','l','b','f']\n",
    "print(df.sort_index(axis=1)) #y축\n",
    "print(df.sort_index(axis=0)) #x축\n",
    "print(df.sort_index(axis=1,ascending=False)) #y축\n",
    "print(df.sort_index(axis=0,ascending=False)) #x축\n",
    "#값으로 정렬 (by='필드명')\n",
    "df.sort_values(by=['java','db'],ascending=False)\n",
    "df.major.unique()\n",
    "# column의 각 value 개수 얻기\n",
    "df.major.value_counts()"
   ]
  },
  {
   "cell_type": "code",
   "execution_count": 167,
   "metadata": {},
   "outputs": [
    {
     "data": {
      "text/html": [
       "<div>\n",
       "<style scoped>\n",
       "    .dataframe tbody tr th:only-of-type {\n",
       "        vertical-align: middle;\n",
       "    }\n",
       "\n",
       "    .dataframe tbody tr th {\n",
       "        vertical-align: top;\n",
       "    }\n",
       "\n",
       "    .dataframe thead th {\n",
       "        text-align: right;\n",
       "    }\n",
       "</style>\n",
       "<table border=\"1\" class=\"dataframe\">\n",
       "  <thead>\n",
       "    <tr style=\"text-align: right;\">\n",
       "      <th></th>\n",
       "      <th>name</th>\n",
       "      <th>java</th>\n",
       "      <th>db</th>\n",
       "      <th>python</th>\n",
       "      <th>major</th>\n",
       "    </tr>\n",
       "  </thead>\n",
       "  <tbody>\n",
       "    <tr>\n",
       "      <td>a</td>\n",
       "      <td>노현진</td>\n",
       "      <td>70</td>\n",
       "      <td>65</td>\n",
       "      <td>75</td>\n",
       "      <td>컴멀</td>\n",
       "    </tr>\n",
       "  </tbody>\n",
       "</table>\n",
       "</div>"
      ],
      "text/plain": [
       "  name  java  db  python major\n",
       "a  노현진    70  65      75    컴멀"
      ]
     },
     "execution_count": 167,
     "metadata": {},
     "output_type": "execute_result"
    }
   ],
   "source": [
    "#지정한 열에 입력한 값이 있는지 확인\n",
    "df.major.isin(['컴멀'])\n",
    "df.major.isin(['정통'])\n",
    "#입력한 값이 있는 행 값\n",
    "df.loc[df.major.isin(['컴멀']),:]"
   ]
  },
  {
   "cell_type": "code",
   "execution_count": 168,
   "metadata": {},
   "outputs": [
    {
     "data": {
      "text/html": [
       "<div>\n",
       "<style scoped>\n",
       "    .dataframe tbody tr th:only-of-type {\n",
       "        vertical-align: middle;\n",
       "    }\n",
       "\n",
       "    .dataframe tbody tr th {\n",
       "        vertical-align: top;\n",
       "    }\n",
       "\n",
       "    .dataframe thead th {\n",
       "        text-align: right;\n",
       "    }\n",
       "</style>\n",
       "<table border=\"1\" class=\"dataframe\">\n",
       "  <thead>\n",
       "    <tr style=\"text-align: right;\">\n",
       "      <th></th>\n",
       "      <th>name</th>\n",
       "      <th>java</th>\n",
       "      <th>db</th>\n",
       "      <th>python</th>\n",
       "      <th>major</th>\n",
       "    </tr>\n",
       "  </thead>\n",
       "  <tbody>\n",
       "    <tr>\n",
       "      <td>c</td>\n",
       "      <td>홍길동</td>\n",
       "      <td>80</td>\n",
       "      <td>75</td>\n",
       "      <td>90</td>\n",
       "      <td>컴공</td>\n",
       "    </tr>\n",
       "    <tr>\n",
       "      <td>a</td>\n",
       "      <td>노현진</td>\n",
       "      <td>70</td>\n",
       "      <td>65</td>\n",
       "      <td>75</td>\n",
       "      <td>컴멀</td>\n",
       "    </tr>\n",
       "    <tr>\n",
       "      <td>k</td>\n",
       "      <td>권윤정</td>\n",
       "      <td>60</td>\n",
       "      <td>60</td>\n",
       "      <td>70</td>\n",
       "      <td>컴공</td>\n",
       "    </tr>\n",
       "    <tr>\n",
       "      <td>l</td>\n",
       "      <td>강서하</td>\n",
       "      <td>85</td>\n",
       "      <td>80</td>\n",
       "      <td>80</td>\n",
       "      <td>정통</td>\n",
       "    </tr>\n",
       "    <tr>\n",
       "      <td>b</td>\n",
       "      <td>이동관</td>\n",
       "      <td>90</td>\n",
       "      <td>95</td>\n",
       "      <td>100</td>\n",
       "      <td>정통</td>\n",
       "    </tr>\n",
       "    <tr>\n",
       "      <td>f</td>\n",
       "      <td>lee</td>\n",
       "      <td>10</td>\n",
       "      <td>75</td>\n",
       "      <td>100</td>\n",
       "      <td>컴공</td>\n",
       "    </tr>\n",
       "  </tbody>\n",
       "</table>\n",
       "</div>"
      ],
      "text/plain": [
       "  name  java  db  python major\n",
       "c  홍길동    80  75      90    컴공\n",
       "a  노현진    70  65      75    컴멀\n",
       "k  권윤정    60  60      70    컴공\n",
       "l  강서하    85  80      80    정통\n",
       "b  이동관    90  95     100    정통\n",
       "f  lee    10  75     100    컴공"
      ]
     },
     "execution_count": 168,
     "metadata": {},
     "output_type": "execute_result"
    }
   ],
   "source": [
    "df"
   ]
  },
  {
   "cell_type": "code",
   "execution_count": 170,
   "metadata": {},
   "outputs": [
    {
     "data": {
      "text/plain": [
       "c     90\n",
       "a     75\n",
       "k     70\n",
       "l     85\n",
       "b    100\n",
       "f    100\n",
       "dtype: int64"
      ]
     },
     "execution_count": 170,
     "metadata": {},
     "output_type": "execute_result"
    }
   ],
   "source": [
    "#각 열의 최대값\n",
    "df.max()\n",
    "df.max(axis=1)"
   ]
  },
  {
   "cell_type": "code",
   "execution_count": 171,
   "metadata": {},
   "outputs": [],
   "source": [
    "fnc=lambda x:x.max()-x.min()"
   ]
  },
  {
   "cell_type": "code",
   "execution_count": 172,
   "metadata": {},
   "outputs": [],
   "source": [
    "def fnc1(x):\n",
    "    return x.max()-x.min()"
   ]
  },
  {
   "cell_type": "code",
   "execution_count": 186,
   "metadata": {},
   "outputs": [
    {
     "name": "stdout",
     "output_type": "stream",
     "text": [
      "   java  db  python\n",
      "c    80  75      90\n",
      "a    70  65      75\n",
      "k    60  60      70\n",
      "l    85  80      80\n",
      "b    90  95     100\n",
      "f    10  75     100\n"
     ]
    },
    {
     "data": {
      "text/plain": [
       "java      80\n",
       "db        35\n",
       "python    30\n",
       "dtype: int64"
      ]
     },
     "execution_count": 186,
     "metadata": {},
     "output_type": "execute_result"
    }
   ],
   "source": [
    "#df.apply(fnc,axis=0)\n",
    "#df['java'].apply(fnc,axis=1)\n",
    "\n",
    "df5=df[['java','db','python']]\n",
    "print(df5)\n",
    "df5.apply(fnc,axis=0)\n"
   ]
  }
 ],
 "metadata": {
  "kernelspec": {
   "display_name": "Python 3",
   "language": "python",
   "name": "python3"
  },
  "language_info": {
   "codemirror_mode": {
    "name": "ipython",
    "version": 3
   },
   "file_extension": ".py",
   "mimetype": "text/x-python",
   "name": "python",
   "nbconvert_exporter": "python",
   "pygments_lexer": "ipython3",
   "version": "3.7.4"
  }
 },
 "nbformat": 4,
 "nbformat_minor": 2
}
