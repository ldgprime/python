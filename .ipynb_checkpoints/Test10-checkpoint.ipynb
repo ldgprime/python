{
 "cells": [
  {
   "cell_type": "code",
   "execution_count": 3,
   "metadata": {},
   "outputs": [],
   "source": [
    "#데이터 분석\n",
    "import numpy as np\n",
    "import pandas as pd\n",
    "import matplotlib as mp"
   ]
  },
  {
   "cell_type": "code",
   "execution_count": 6,
   "metadata": {},
   "outputs": [
    {
     "name": "stdout",
     "output_type": "stream",
     "text": [
      "[0.01984649 0.48095462 0.96021197 0.16221982 0.94038269 0.25861568\n",
      " 0.32812505 0.82896115 0.33196745 0.52603485 0.70390794 0.21147619\n",
      " 0.22350741 0.28968633 0.47393572 0.57754754 0.8823566  0.80201173\n",
      " 0.10573986 0.49765179]\n",
      "<class 'numpy.ndarray'>\n"
     ]
    }
   ],
   "source": [
    "data=np.random.rand(20)\n",
    "print(data)\n",
    "print(type(data))"
   ]
  },
  {
   "cell_type": "code",
   "execution_count": 7,
   "metadata": {},
   "outputs": [
    {
     "name": "stdout",
     "output_type": "stream",
     "text": [
      "[1 2 3 4 5]\n",
      "[1, 2, 3, 4, 5]\n"
     ]
    }
   ],
   "source": [
    "a=[1,2,3,4,5]\n",
    "arr1=np.array(a)\n",
    "#numpy.ndarray ,가 없다 넘파이 어레이 보기에는 차이가 크지 않지만 연산에 리스트와 차이가 나타난다\n",
    "print(arr1)\n",
    "#리스트 \n",
    "print(a)"
   ]
  },
  {
   "cell_type": "code",
   "execution_count": 8,
   "metadata": {},
   "outputs": [
    {
     "name": "stdout",
     "output_type": "stream",
     "text": [
      "<class 'pandas.core.series.Series'>\n",
      "0     0.019846\n",
      "1     0.480955\n",
      "2     0.960212\n",
      "3     0.162220\n",
      "4     0.940383\n",
      "5     0.258616\n",
      "6     0.328125\n",
      "7     0.828961\n",
      "8     0.331967\n",
      "9     0.526035\n",
      "10    0.703908\n",
      "11    0.211476\n",
      "12    0.223507\n",
      "13    0.289686\n",
      "14    0.473936\n",
      "15    0.577548\n",
      "16    0.882357\n",
      "17    0.802012\n",
      "18    0.105740\n",
      "19    0.497652\n",
      "dtype: float64\n"
     ]
    }
   ],
   "source": [
    "#시리즈 자료형은 index와 값\n",
    "seri=pd.Series(data)\n",
    "print(type(seri))\n",
    "print(seri)"
   ]
  },
  {
   "cell_type": "code",
   "execution_count": 20,
   "metadata": {},
   "outputs": [
    {
     "name": "stdout",
     "output_type": "stream",
     "text": [
      "[[5.72736227e-01 9.93611835e-01 6.05726124e-04]\n",
      " [2.92390870e-01 8.82734530e-03 9.69929669e-02]\n",
      " [4.36927029e-02 8.52883618e-01 9.00559183e-01]\n",
      " [4.94652995e-01 2.07670355e-01 3.55416110e-01]\n",
      " [3.16443770e-01 5.27357908e-02 2.77746714e-01]\n",
      " [3.33204204e-01 8.47413988e-01 1.99331376e-01]\n",
      " [9.54482915e-01 8.74284726e-01 5.82876942e-01]\n",
      " [6.53027394e-01 5.81556534e-01 2.79513209e-01]\n",
      " [1.15414096e-01 8.76220453e-03 9.15962619e-01]\n",
      " [2.77120309e-01 1.08080850e-01 8.91391822e-01]]\n",
      "<class 'numpy.ndarray'>\n",
      "          A         B         C\n",
      "0  0.572736  0.993612  0.000606\n",
      "1  0.292391  0.008827  0.096993\n",
      "2  0.043693  0.852884  0.900559\n",
      "3  0.494653  0.207670  0.355416\n",
      "4  0.316444  0.052736  0.277747\n",
      "5  0.333204  0.847414  0.199331\n",
      "6  0.954483  0.874285  0.582877\n",
      "7  0.653027  0.581557  0.279513\n",
      "8  0.115414  0.008762  0.915963\n",
      "9  0.277120  0.108081  0.891392\n",
      "<class 'pandas.core.frame.DataFrame'>\n"
     ]
    }
   ],
   "source": [
    "data_set=np.random.rand(10,3)\n",
    "print(data_set)\n",
    "print(type(data_set))\n",
    "\n",
    "df=pd.DataFrame(data_set, columns=['A', 'B', 'C'])\n",
    "print(df)\n",
    "print(type(df))"
   ]
  },
  {
   "cell_type": "code",
   "execution_count": 17,
   "metadata": {},
   "outputs": [
    {
     "data": {
      "text/html": [
       "<div>\n",
       "<style scoped>\n",
       "    .dataframe tbody tr th:only-of-type {\n",
       "        vertical-align: middle;\n",
       "    }\n",
       "\n",
       "    .dataframe tbody tr th {\n",
       "        vertical-align: top;\n",
       "    }\n",
       "\n",
       "    .dataframe thead th {\n",
       "        text-align: right;\n",
       "    }\n",
       "</style>\n",
       "<table border=\"1\" class=\"dataframe\">\n",
       "  <thead>\n",
       "    <tr style=\"text-align: right;\">\n",
       "      <th></th>\n",
       "      <th>A</th>\n",
       "      <th>B</th>\n",
       "      <th>C</th>\n",
       "    </tr>\n",
       "  </thead>\n",
       "  <tbody>\n",
       "    <tr>\n",
       "      <td>0</td>\n",
       "      <td>0.099253</td>\n",
       "      <td>0.121339</td>\n",
       "      <td>0.162024</td>\n",
       "    </tr>\n",
       "    <tr>\n",
       "      <td>1</td>\n",
       "      <td>0.304808</td>\n",
       "      <td>0.891349</td>\n",
       "      <td>0.692186</td>\n",
       "    </tr>\n",
       "    <tr>\n",
       "      <td>2</td>\n",
       "      <td>0.204513</td>\n",
       "      <td>0.347264</td>\n",
       "      <td>0.944311</td>\n",
       "    </tr>\n",
       "    <tr>\n",
       "      <td>3</td>\n",
       "      <td>0.025350</td>\n",
       "      <td>0.372561</td>\n",
       "      <td>0.823545</td>\n",
       "    </tr>\n",
       "    <tr>\n",
       "      <td>4</td>\n",
       "      <td>0.065548</td>\n",
       "      <td>0.416455</td>\n",
       "      <td>0.759279</td>\n",
       "    </tr>\n",
       "    <tr>\n",
       "      <td>5</td>\n",
       "      <td>0.506590</td>\n",
       "      <td>0.825891</td>\n",
       "      <td>0.192032</td>\n",
       "    </tr>\n",
       "    <tr>\n",
       "      <td>6</td>\n",
       "      <td>0.757838</td>\n",
       "      <td>0.955486</td>\n",
       "      <td>0.010892</td>\n",
       "    </tr>\n",
       "    <tr>\n",
       "      <td>7</td>\n",
       "      <td>0.766501</td>\n",
       "      <td>0.750582</td>\n",
       "      <td>0.338147</td>\n",
       "    </tr>\n",
       "    <tr>\n",
       "      <td>8</td>\n",
       "      <td>0.901802</td>\n",
       "      <td>0.755795</td>\n",
       "      <td>0.043686</td>\n",
       "    </tr>\n",
       "    <tr>\n",
       "      <td>9</td>\n",
       "      <td>0.775790</td>\n",
       "      <td>0.130164</td>\n",
       "      <td>0.998313</td>\n",
       "    </tr>\n",
       "  </tbody>\n",
       "</table>\n",
       "</div>"
      ],
      "text/plain": [
       "          A         B         C\n",
       "0  0.099253  0.121339  0.162024\n",
       "1  0.304808  0.891349  0.692186\n",
       "2  0.204513  0.347264  0.944311\n",
       "3  0.025350  0.372561  0.823545\n",
       "4  0.065548  0.416455  0.759279\n",
       "5  0.506590  0.825891  0.192032\n",
       "6  0.757838  0.955486  0.010892\n",
       "7  0.766501  0.750582  0.338147\n",
       "8  0.901802  0.755795  0.043686\n",
       "9  0.775790  0.130164  0.998313"
      ]
     },
     "execution_count": 17,
     "metadata": {},
     "output_type": "execute_result"
    }
   ],
   "source": [
    "df"
   ]
  },
  {
   "cell_type": "code",
   "execution_count": 24,
   "metadata": {},
   "outputs": [
    {
     "name": "stdout",
     "output_type": "stream",
     "text": [
      "[0.01984649 0.48095462 0.96021197 0.16221982 0.94038269 0.25861568\n",
      " 0.32812505 0.82896115 0.33196745 0.52603485 0.70390794 0.21147619\n",
      " 0.22350741 0.28968633 0.47393572 0.57754754 0.8823566  0.80201173\n",
      " 0.10573986 0.49765179]\n",
      "<class 'numpy.ndarray'>\n",
      "(20,)\n",
      "[[5.72736227e-01 9.93611835e-01 6.05726124e-04]\n",
      " [2.92390870e-01 8.82734530e-03 9.69929669e-02]\n",
      " [4.36927029e-02 8.52883618e-01 9.00559183e-01]\n",
      " [4.94652995e-01 2.07670355e-01 3.55416110e-01]\n",
      " [3.16443770e-01 5.27357908e-02 2.77746714e-01]\n",
      " [3.33204204e-01 8.47413988e-01 1.99331376e-01]\n",
      " [9.54482915e-01 8.74284726e-01 5.82876942e-01]\n",
      " [6.53027394e-01 5.81556534e-01 2.79513209e-01]\n",
      " [1.15414096e-01 8.76220453e-03 9.15962619e-01]\n",
      " [2.77120309e-01 1.08080850e-01 8.91391822e-01]]\n",
      "<class 'numpy.ndarray'>\n",
      "(10, 3)\n",
      "0     0.019846\n",
      "1     0.480955\n",
      "2     0.960212\n",
      "3     0.162220\n",
      "4     0.940383\n",
      "5     0.258616\n",
      "6     0.328125\n",
      "7     0.828961\n",
      "8     0.331967\n",
      "9     0.526035\n",
      "10    0.703908\n",
      "11    0.211476\n",
      "12    0.223507\n",
      "13    0.289686\n",
      "14    0.473936\n",
      "15    0.577548\n",
      "16    0.882357\n",
      "17    0.802012\n",
      "18    0.105740\n",
      "19    0.497652\n",
      "dtype: float64\n",
      "<class 'pandas.core.series.Series'>\n",
      "(20,)\n"
     ]
    }
   ],
   "source": [
    "print(data)\n",
    "print(type(data))\n",
    "print(data.shape)\n",
    "print(data_set)\n",
    "print(type(data_set))\n",
    "print(data_set.shape)\n",
    "print(seri)\n",
    "print(type(seri))\n",
    "print(seri.shape)"
   ]
  },
  {
   "cell_type": "code",
   "execution_count": 32,
   "metadata": {},
   "outputs": [
    {
     "data": {
      "text/plain": [
       "<matplotlib.axes._subplots.AxesSubplot at 0x2bcbbfb4fc8>"
      ]
     },
     "execution_count": 32,
     "metadata": {},
     "output_type": "execute_result"
    },
    {
     "data": {
      "image/png": "[encoded data removed]",
      "text/plain": [
       "<Figure size 432x288 with 1 Axes>"
      ]
     },
     "metadata": {
      "needs_background": "light"
     },
     "output_type": "display_data"
    },
    {
     "data": {
      "image/png": "[encoded data removed]",
      "text/plain": [
       "<Figure size 432x288 with 1 Axes>"
      ]
     },
     "metadata": {
      "needs_background": "light"
     },
     "output_type": "display_data"
    },
    {
     "data": {
      "image/png": "[encoded data removed]",
      "text/plain": [
       "<Figure size 432x288 with 1 Axes>"
      ]
     },
     "metadata": {
      "needs_background": "light"
     },
     "output_type": "display_data"
    },
    {
     "data": {
      "image/png": "[encoded data removed]",
      "text/plain": [
       "<Figure size 432x288 with 1 Axes>"
      ]
     },
     "metadata": {
      "needs_background": "light"
     },
     "output_type": "display_data"
    },
    {
     "data": {
      "image/png": "[encoded data removed]",
      "text/plain": [
       "<Figure size 432x288 with 1 Axes>"
      ]
     },
     "metadata": {
      "needs_background": "light"
     },
     "output_type": "display_data"
    },
    {
     "data": {
      "image/png": "[encoded data removed]",
      "text/plain": [
       "<Figure size 432x288 with 1 Axes>"
      ]
     },
     "metadata": {
      "needs_background": "light"
     },
     "output_type": "display_data"
    },
    {
     "data": {
      "image/png": "[encoded data removed]",
      "text/plain": [
       "<Figure size 432x288 with 1 Axes>"
      ]
     },
     "metadata": {
      "needs_background": "light"
     },
     "output_type": "display_data"
    }
   ],
   "source": [
    "df.plot()\n",
    "df.plot(kind=\"bar\")\n",
    "df.plot(kind=\"bar\",stacked=True)\n",
    "df.plot(kind=\"bar\",stacked=False)\n",
    "df.plot(kind=\"barh\")\n",
    "df.plot(kind=\"area\")\n",
    "df.plot(kind=\"area\",stacked=False)\n"
   ]
  },
  {
   "cell_type": "code",
   "execution_count": 61,
   "metadata": {},
   "outputs": [
    {
     "name": "stdout",
     "output_type": "stream",
     "text": [
      "a    0.231661\n",
      "b    0.992676\n",
      "c    0.345621\n",
      "d    0.186346\n",
      "e    0.231566\n",
      "Name: series, dtype: float64\n"
     ]
    },
    {
     "data": {
      "text/plain": [
       "<matplotlib.axes._subplots.AxesSubplot at 0x2bcbbce1c48>"
      ]
     },
     "execution_count": 61,
     "metadata": {},
     "output_type": "execute_result"
    },
    {
     "data": {
      "image/png": "[encoded data removed]",
      "text/plain": [
       "<Figure size 576x360 with 1 Axes>"
      ]
     },
     "metadata": {},
     "output_type": "display_data"
    }
   ],
   "source": [
    "seri2=pd.Series(np.random.rand(5),index=['a','b','c','d','e'], name='series') \n",
    "print(seri2)\n",
    "seri2.plot(kind='pie')\n",
    "           #종류      # %값소수점 둘째자리\n",
    "seri2.plot(kind='pie',autopct='%.2f', fontsize=10 , figsize=(8,5))"
   ]
  },
  {
   "cell_type": "code",
   "execution_count": 63,
   "metadata": {},
   "outputs": [
    {
     "data": {
      "text/plain": [
       "2.5"
      ]
     },
     "execution_count": 63,
     "metadata": {},
     "output_type": "execute_result"
    }
   ],
   "source": [
    "#리스트는 sum 만 가능하다.\n",
    "data1=[1,2,3,4]\n",
    "#sum(data1)\n",
    "#mean(data1)\n",
    "arr1=np.array(data1)\n",
    "arr1.mean()\n"
   ]
  },
  {
   "cell_type": "code",
   "execution_count": 69,
   "metadata": {},
   "outputs": [
    {
     "name": "stdout",
     "output_type": "stream",
     "text": [
      "[[1 2 3]\n",
      " [3 4 5]]\n"
     ]
    }
   ],
   "source": [
    "#크기가 맞지 않다면 리스트로 나타난다.\n",
    "a=[[1,2,3],[3,4,5]]\n",
    "arr2=np.array(a)\n",
    "print(arr2)"
   ]
  },
  {
   "cell_type": "code",
   "execution_count": 67,
   "metadata": {},
   "outputs": [
    {
     "name": "stdout",
     "output_type": "stream",
     "text": [
      "[[1 2 3]\n",
      " [4 5 6]]\n",
      "2.0\n",
      "5.0\n"
     ]
    }
   ],
   "source": [
    "#크기가 맞지 않다면 에러가 나타난다.\n",
    "b=[1,2,3,4,5,6]\n",
    "arr3=np.array(b).reshape(2,3)\n",
    "print(arr3)\n",
    "print(arr3[0].mean())\n",
    "print(arr3[1].mean())\n"
   ]
  },
  {
   "cell_type": "code",
   "execution_count": 71,
   "metadata": {},
   "outputs": [
    {
     "name": "stdout",
     "output_type": "stream",
     "text": [
      "[['kim' 'lee' 'park']\n",
      " ['jang' 'choi' 'noh']]\n"
     ]
    }
   ],
   "source": [
    "name=['kim','lee','park','jang','choi','noh']\n",
    "namearr=np.array(name).reshape(2,3)\n",
    "print(namearr)"
   ]
  },
  {
   "cell_type": "code",
   "execution_count": 77,
   "metadata": {},
   "outputs": [
    {
     "name": "stdout",
     "output_type": "stream",
     "text": [
      "[1. 1. 1. 1. 1. 1. 1. 1. 1. 1.]\n",
      "[[1. 1. 1. 1.]\n",
      " [1. 1. 1. 1.]\n",
      " [1. 1. 1. 1.]]\n",
      "[[1. 1. 1. 1.]\n",
      " [1. 1. 1. 1.]\n",
      " [1. 1. 1. 1.]]\n"
     ]
    }
   ],
   "source": [
    "y1=np.ones(10)\n",
    "print(y1)\n",
    "y2=np.ones([3,4])\n",
    "print(y2)\n",
    "y3=np.ones(12).reshape(3,4)\n",
    "print(y3)"
   ]
  },
  {
   "cell_type": "code",
   "execution_count": 78,
   "metadata": {},
   "outputs": [
    {
     "name": "stdout",
     "output_type": "stream",
     "text": [
      "[0. 0. 0. 0. 0. 0. 0. 0. 0. 0.]\n",
      "[[0. 0. 0. 0.]\n",
      " [0. 0. 0. 0.]\n",
      " [0. 0. 0. 0.]]\n",
      "[[0. 0. 0. 0.]\n",
      " [0. 0. 0. 0.]\n",
      " [0. 0. 0. 0.]]\n"
     ]
    }
   ],
   "source": [
    "x1=np.zeros(10)\n",
    "print(x1)\n",
    "x2=np.zeros([3,4])\n",
    "print(x2)\n",
    "x3=np.zeros(12).reshape(3,4)\n",
    "print(x3)"
   ]
  },
  {
   "cell_type": "code",
   "execution_count": 84,
   "metadata": {},
   "outputs": [
    {
     "name": "stdout",
     "output_type": "stream",
     "text": [
      "12\n",
      "[[2, 12], [3, 13]]\n",
      "[2, 12]\n"
     ]
    }
   ],
   "source": [
    "list1=[[1,11],[2,12],[3,13]]\n",
    "# list의 슬라이싱 방법\n",
    "# print(list1[1,1])\n",
    "print(list1[1][1])\n",
    "print(list1[1:])\n",
    "# 2차원 list는 원하는 값을 슬라이싱 하기 힘들다 zip or for\n",
    "print(list1[:][1])\n",
    "# list1[start:dend:step]    => numpy 배열 사용하자\n"
   ]
  },
  {
   "cell_type": "code",
   "execution_count": 91,
   "metadata": {},
   "outputs": [
    {
     "name": "stdout",
     "output_type": "stream",
     "text": [
      "12\n",
      "12\n",
      "[11 12 13]\n",
      "[1 2 3]\n",
      "[1 3]\n",
      "[11 13]\n"
     ]
    }
   ],
   "source": [
    "list1=[[1,11],[2,12],[3,13]]\n",
    "arr=np.array(list1)\n",
    "#앞쪽이 2차원 뒷쪽이 1차원\n",
    "# print(arr[start:end:step, start:end:step])\n",
    "print(arr[1][1])\n",
    "print(arr[1,1])\n",
    "print(arr[:,1])\n",
    "print(arr[:,0])\n",
    "print(arr[::2,0])\n",
    "print(arr[::2,1])\n"
   ]
  },
  {
   "cell_type": "code",
   "execution_count": 110,
   "metadata": {},
   "outputs": [
    {
     "name": "stdout",
     "output_type": "stream",
     "text": [
      "[-1.00295044 -1.15877348 -0.19207818  0.556675   -1.14370643]\n",
      "[-1.84732749 -0.5396071  -0.96397304 -0.30870494  1.98455082]\n"
     ]
    }
   ],
   "source": [
    "#0을 기준으로 정규분포값\n",
    "x=np.random.randn(5)\n",
    "y=np.random.randn(5)\n",
    "print(x)\n",
    "print(y)"
   ]
  },
  {
   "cell_type": "code",
   "execution_count": 112,
   "metadata": {},
   "outputs": [
    {
     "name": "stdout",
     "output_type": "stream",
     "text": [
      "[-1.84732749 -1.15877348 -0.96397304 -0.30870494 -1.14370643]\n",
      "[-1.00295044 -0.5396071  -0.19207818  0.556675    1.98455082]\n"
     ]
    }
   ],
   "source": [
    "print(np.minimum(x,y))\n",
    "print(np.maximum(x,y))\n"
   ]
  },
  {
   "cell_type": "code",
   "execution_count": 113,
   "metadata": {},
   "outputs": [
    {
     "name": "stdout",
     "output_type": "stream",
     "text": [
      "[-2.85027792 -1.69838058 -1.15605122  0.24797005  0.8408444 ]\n",
      "[ 0.84437705 -0.61916638  0.77189487  0.86537994 -3.12825725]\n",
      "[ 1.85277791  0.6252824   0.18515819 -0.17184832 -2.26974353]\n",
      "[ 0.54291968  2.14743928  0.1992568  -1.8032591  -0.57630493]\n",
      "[ 0.  2.  0. -2. -1.]\n",
      "[-1.00295044 -0.07955928 -0.19207818 -0.06073489  0.8408444 ]\n"
     ]
    }
   ],
   "source": [
    "print(x+y)\n",
    "print(x-y)\n",
    "print(x*y)\n",
    "print(x/y)\n",
    "print(x//y)\n",
    "print(x%y)\n"
   ]
  },
  {
   "cell_type": "code",
   "execution_count": 115,
   "metadata": {},
   "outputs": [
    {
     "data": {
      "text/plain": [
       "array([[ 1,  2,  3,  4],\n",
       "       [ 5,  6,  7,  8],\n",
       "       [ 9, 10, 11, 12],\n",
       "       [13, 14, 15, 16]])"
      ]
     },
     "execution_count": 115,
     "metadata": {},
     "output_type": "execute_result"
    }
   ],
   "source": [
    "     #array+for\n",
    "a=np.arange(1,17).reshape(4,4)\n",
    "a"
   ]
  },
  {
   "cell_type": "code",
   "execution_count": 116,
   "metadata": {},
   "outputs": [
    {
     "name": "stdout",
     "output_type": "stream",
     "text": [
      "[[1.         1.41421356 1.73205081 2.        ]\n",
      " [2.23606798 2.44948974 2.64575131 2.82842712]\n",
      " [3.         3.16227766 3.31662479 3.46410162]\n",
      " [3.60555128 3.74165739 3.87298335 4.        ]]\n"
     ]
    }
   ],
   "source": [
    "#root 루트 만들기\n",
    "print(np.sqrt(a))"
   ]
  },
  {
   "cell_type": "code",
   "execution_count": 121,
   "metadata": {},
   "outputs": [
    {
     "name": "stdout",
     "output_type": "stream",
     "text": [
      "전체 평균 : 8.5\n",
      "전체 합: 136\n",
      "열 합계: [28 32 36 40]\n",
      "행 합계: [10 26 42 58]\n",
      "열 평균: [ 7.  8.  9. 10.]\n",
      "행 평균: [ 2.5  6.5 10.5 14.5]\n"
     ]
    }
   ],
   "source": [
    "#전체 평균\n",
    "print(\"전체 평균 :\",np.mean(a))\n",
    "print(\"전체 합:\" ,np.sum(a))\n",
    "print(\"열 합계:\" ,np.sum(a,axis=0))\n",
    "print(\"행 합계:\" ,np.sum(a,axis=1))\n",
    "print(\"열 평균:\" ,np.mean(a, axis=0))\n",
    "print(\"행 평균:\" ,np.mean(a, axis=1))"
   ]
  },
  {
   "cell_type": "code",
   "execution_count": 122,
   "metadata": {},
   "outputs": [
    {
     "data": {
      "text/plain": [
       "array([[5, 3, 4],\n",
       "       [2, 5, 1],\n",
       "       [7, 6, 9]])"
      ]
     },
     "execution_count": 122,
     "metadata": {},
     "output_type": "execute_result"
    }
   ],
   "source": [
    "b=[[5,3,4],[2,5,1],[7,6,9]]\n",
    "arr_b=np.array(b)\n",
    "arr_b"
   ]
  },
  {
   "cell_type": "code",
   "execution_count": 126,
   "metadata": {},
   "outputs": [
    {
     "name": "stdout",
     "output_type": "stream",
     "text": [
      "[[3 4 5]\n",
      " [1 2 5]\n",
      " [6 7 9]]\n",
      "[[2 3 1]\n",
      " [5 5 4]\n",
      " [7 6 9]]\n",
      "[[3 4 5]\n",
      " [1 2 5]\n",
      " [6 7 9]]\n"
     ]
    }
   ],
   "source": [
    "print(np.sort(arr_b))\n",
    "#열 기준 정렬\n",
    "print(np.sort(arr_b, axis=0))\n",
    "#행 기준 정렬\n",
    "print(np.sort(arr_b, axis=1))\n",
    "#전치행렬\n",
    "arr_b.transpose()"
   ]
  },
  {
   "cell_type": "code",
   "execution_count": 128,
   "metadata": {},
   "outputs": [
    {
     "data": {
      "text/plain": [
       "array([[ 1,  2,  3,  4],\n",
       "       [ 5,  6,  7,  8],\n",
       "       [ 9, 10, 11, 12],\n",
       "       [13, 14, 15, 16],\n",
       "       [17, 18, 19, 20]])"
      ]
     },
     "execution_count": 128,
     "metadata": {},
     "output_type": "execute_result"
    }
   ],
   "source": [
    "arr2=np.arange(1,21).reshape(5,4)\n",
    "arr2"
   ]
  },
  {
   "cell_type": "code",
   "execution_count": 143,
   "metadata": {},
   "outputs": [
    {
     "name": "stdout",
     "output_type": "stream",
     "text": [
      "1\n",
      "[ 4  8 12 16 20]\n",
      "\n",
      "2\n",
      "[ 2 10 18]\n",
      "[ 7 15]\n",
      "\n",
      "3\n",
      "[10 26 42 58 74]\n",
      "[ 2.5  6.5 10.5 14.5 18.5]\n",
      "\n",
      "4\n",
      "[45 50 55 60]\n",
      "[ 9. 10. 11. 12.]\n",
      "\n",
      "5\n",
      "[[ 1  2  3  4]\n",
      " [ 5  6  7  8]\n",
      " [ 9 10 11 12]\n",
      " [13 14 15 16]\n",
      " [17 18 19 20]]\n",
      "\n",
      "6\n",
      "[[17 18 19 20]\n",
      " [13 14 15 16]\n",
      " [ 9 10 11 12]\n",
      " [ 5  6  7  8]\n",
      " [ 1  2  3  4]]\n",
      "[[17 18 19 20]\n",
      " [13 14 15 16]\n",
      " [ 9 10 11 12]\n",
      " [ 5  6  7  8]\n",
      " [ 1  2  3  4]]\n",
      "\n"
     ]
    }
   ],
   "source": [
    "# 1. 모든 행의 3열(index=3) 검색\n",
    "# 2. 홀수행의 2열(index=2) 검색\n",
    "# 3. 행기준 합과 평균구하기\n",
    "# 4. 열기준 합과 평균구하기\n",
    "# 5. 열기준 정렬하기\n",
    "# 6. 열,행기준 역순 정렬하기\n",
    "\n",
    "#1\n",
    "print(1)\n",
    "print(arr2[:,3])\n",
    "print()\n",
    "\n",
    "#2\n",
    "print(2)\n",
    "print(arr2[0:5:2,1])\n",
    "print(arr2[1::2,2])\n",
    "print()\n",
    "#3\n",
    "print(3)\n",
    "print(np.sum(arr2,axis=1))\n",
    "print(np.mean(arr2,axis=1))\n",
    "print()\n",
    "#4\n",
    "print(4)\n",
    "print(np.sum(arr2,axis=0))\n",
    "print(np.mean(arr2,axis=0))\n",
    "print()\n",
    "#5\n",
    "print(5)\n",
    "print(np.sort(arr2,axis=0))\n",
    "print()\n",
    "#6\n",
    "print(6)\n",
    "#행기준 역순 안됨.....\n",
    "print(np.sort(arr2,axis=1)[::-1])\n",
    "#열기준 역순\n",
    "print(np.sort(arr2,axis=0)[::-1]) #역순 정렬은 열기준만 가능\n",
    "print()"
   ]
  },
  {
   "cell_type": "code",
   "execution_count": 144,
   "metadata": {},
   "outputs": [
    {
     "name": "stdout",
     "output_type": "stream",
     "text": [
      "[1 2 3 4]\n"
     ]
    }
   ],
   "source": [
    "n=np.array([1,2,1,3,4,2,1,2,3,4,3,2,1,4,3,2,1,2,3])\n",
    "print(np.unique(n))"
   ]
  },
  {
   "cell_type": "code",
   "execution_count": 147,
   "metadata": {},
   "outputs": [
    {
     "name": "stdout",
     "output_type": "stream",
     "text": [
      "[[5, 3, 4], [2, 5, 1], [7, 6, 9]]\n",
      "[[5 3 4]\n",
      " [2 5 1]\n",
      " [7 6 9]]\n",
      "[[False False False]\n",
      " [False False False]\n",
      " [ True  True  True]]\n",
      "False\n",
      "True\n"
     ]
    }
   ],
   "source": [
    "b=[[5,3,4],[2,5,1],[7,6,9]]\n",
    "arr_b=np.array(b)\n",
    "print(b)\n",
    "print(arr_b)\n",
    "# int 값만 비교 가능\n",
    "# print(b > 5)\n",
    "print(arr_b > 5)\n",
    "print(np.all(arr_b > 5))\n",
    "print(np.any(arr_b > 5))"
   ]
  },
  {
   "cell_type": "code",
   "execution_count": 153,
   "metadata": {},
   "outputs": [
    {
     "name": "stdout",
     "output_type": "stream",
     "text": [
      "[ 0.  5. 10. 15.]\n",
      "(array([ 0.,  5., 10., 15.]), 5.0)\n",
      "[ 0.  5. 10. 15.]\n",
      "[ 0.  5. 10. 15.]\n",
      "[ 0.    3.75  7.5  11.25]\n",
      "[ 10.          21.5443469   46.41588834 100.        ]\n"
     ]
    }
   ],
   "source": [
    "#linspace(start,end, count)\n",
    "c=np.linspace(0,15,4) \n",
    "print(c)\n",
    "c=np.linspace(0,15,4,retstep=True)\n",
    "print(c)\n",
    "c=np.linspace(0,15,4,retstep=False)\n",
    "print(c)\n",
    "c=np.linspace(0,15,4,endpoint=True)\n",
    "print(c)\n",
    "c=np.linspace(0,15,4,endpoint=False)\n",
    "print(c)\n",
    "#10~100사이의 숫자 등간격으로 4개 생성\n",
    "c=np.logspace(1,2,4)#log1010=1 logsub(10)sup(100)\n",
    "print(c)"
   ]
  },
  {
   "cell_type": "code",
   "execution_count": 154,
   "metadata": {},
   "outputs": [],
   "source": [
    "#영화 데이터\n",
    "data=np.loadtxt('data/ratings.dat',delimiter=\"::\",dtype=np.int64)"
   ]
  },
  {
   "cell_type": "code",
   "execution_count": 156,
   "metadata": {},
   "outputs": [
    {
     "name": "stdout",
     "output_type": "stream",
     "text": [
      "[[        1      1193         5 978300760]\n",
      " [        1       661         3 978302109]\n",
      " [        1       914         3 978301968]\n",
      " [        1      3408         4 978300275]\n",
      " [        1      2355         5 978824291]]\n",
      "(1000209, 4)\n"
     ]
    }
   ],
   "source": [
    "print(data[:5,:])\n",
    "print(data.shape)"
   ]
  },
  {
   "cell_type": "code",
   "execution_count": 159,
   "metadata": {},
   "outputs": [
    {
     "name": "stdout",
     "output_type": "stream",
     "text": [
      "3.581564453029317\n"
     ]
    }
   ],
   "source": [
    "mean_rating_total=data[:,2].mean() #np.mean(data[:,2])\n",
    "print(mean_rating_total)"
   ]
  },
  {
   "cell_type": "code",
   "execution_count": 161,
   "metadata": {},
   "outputs": [
    {
     "name": "stdout",
     "output_type": "stream",
     "text": [
      "(6040,)\n",
      "[   1    2    3 ... 6038 6039 6040]\n"
     ]
    }
   ],
   "source": [
    "user_ids=np.unique(data[:,0])\n",
    "print(user_ids.shape)\n",
    "print(user_ids)"
   ]
  },
  {
   "cell_type": "code",
   "execution_count": 170,
   "metadata": {},
   "outputs": [],
   "source": [
    "mean_values=[]\n",
    "for user_id in user_ids:\n",
    "    data_for_user=data[data[:,0]==user_id,:]\n",
    "#     print(data_for_user.shape)\n",
    "#     print(data_for_user)\n",
    "    value=np.mean(data_for_user[:,2])\n",
    "#     print(value)\n",
    "    mean_values.append([user_id,value])\n",
    "\n",
    "mean_arr=np.array(mean_values)\n",
    "#print(mean_arr[:5])\n",
    "\n",
    "np.savetxt('data/result.csv',mean_arr,fmt=\"%.2f\",delimiter=\",\")\n",
    "\n",
    "\n",
    "\n",
    "\n",
    "\n",
    "#print(mean_values[:5])\n",
    "#mean_array=np.array(mean_values,dtype=np.float32)"
   ]
  },
  {
   "cell_type": "code",
   "execution_count": 172,
   "metadata": {},
   "outputs": [
    {
     "name": "stdout",
     "output_type": "stream",
     "text": [
      "(6040, 2)\n",
      "[[1.         4.18867925]\n",
      " [2.         3.71317829]\n",
      " [3.         3.90196078]\n",
      " [4.         4.19047619]\n",
      " [5.         3.14646465]]\n"
     ]
    }
   ],
   "source": [
    "print(np.array(mean_values).shape)\n",
    "mean_arr=np.array(mean_values)\n",
    "print(mean_arr[:5])\n"
   ]
  },
  {
   "cell_type": "code",
   "execution_count": 173,
   "metadata": {},
   "outputs": [],
   "source": [
    "np.savetxt('data/result.csv',mean_arr,fmt=\"%.2f\",delimiter=\",\")"
   ]
  },
  {
   "cell_type": "code",
   "execution_count": 181,
   "metadata": {},
   "outputs": [],
   "source": [
    "movie_ids=np.unique(data[:,1])\n",
    "# print(movie_ids.shape)\n",
    "# print(movie_ids)\n",
    "\n",
    "\n",
    "mean_values=[]\n",
    "for movie_id in movie_ids:\n",
    "    data_for_movie=data[data[:,1]==movie_id,:]\n",
    "#     print(data_for_user.shape)\n",
    "#     print(data_for_user)\n",
    "    value=np.mean(data_for_movie[:,2])\n",
    "#     print(value)\n",
    "    mean_values.append([movie_id,value])\n",
    "\n",
    "mean_arr_movie=np.array(mean_values,dtype=np.float32)\n",
    "#print(mean_arr[:5])\n",
    "\n",
    "np.savetxt('data/result_movies.csv',mean_arr_movie,fmt=\"%.2f\",delimiter=\",\")\n",
    "\n",
    "\n",
    "\n",
    "\n",
    "\n",
    "#print(mean_values[:5])\n",
    "#mean_array=np.array(mean_values,dtype=np.float32)\n"
   ]
  }
 ],
 "metadata": {
  "kernelspec": {
   "display_name": "Python 3",
   "language": "python",
   "name": "python3"
  },
  "language_info": {
   "codemirror_mode": {
    "name": "ipython",
    "version": 3
   },
   "file_extension": ".py",
   "mimetype": "text/x-python",
   "name": "python",
   "nbconvert_exporter": "python",
   "pygments_lexer": "ipython3",
   "version": "3.7.4"
  }
 },
 "nbformat": 4,
 "nbformat_minor": 2
}
