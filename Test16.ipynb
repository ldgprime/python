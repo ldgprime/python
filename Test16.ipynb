{
 "cells": [
  {
   "cell_type": "code",
   "execution_count": 65,
   "metadata": {},
   "outputs": [],
   "source": [
    "import cx_Oracle\n",
    "import pymysql"
   ]
  },
  {
   "cell_type": "code",
   "execution_count": 42,
   "metadata": {},
   "outputs": [],
   "source": [
    "def select_all():\n",
    "    conn=cx_Oracle.connect(\"pgm/1234@localhost:1521/xe\")\n",
    "    cursor=conn.cursor()\n",
    "    sql=\"select * from product\"\n",
    "    cursor.execute(sql)\n",
    "    for row in cursor:\n",
    "        description=row[3].read() #CLOB로 저장된 데이터 읽기\n",
    "        row_list=list(row)\n",
    "        row_list[3]=description\n",
    "        print(row_list)\n",
    "    conn.close()"
   ]
  },
  {
   "cell_type": "code",
   "execution_count": 46,
   "metadata": {},
   "outputs": [],
   "source": [
    "def insert_one():\n",
    "    conn=cx_Oracle.connect(\"pgm/1234@localhost:1521/xe\")\n",
    "    cursor=conn.cursor()\n",
    "    sql=\"insert into product values(:1,:2,:3,:4,:5)\"\n",
    "    data=(4,'레몬',150,'레몬에 포함된 구연산은 피로회복에 좋습니다','lemon.jpg')\n",
    "    cursor.execute(sql,data)\n",
    "    conn.commit()\n",
    "    conn.close()"
   ]
  },
  {
   "cell_type": "code",
   "execution_count": 52,
   "metadata": {},
   "outputs": [],
   "source": [
    "def insert_many():\n",
    "    conn=cx_Oracle.connect(\"pgm/1234@localhost:1521/xe\")\n",
    "    cursor=conn.cursor()\n",
    "    sql=\"insert into product values(:1,:2,:3,:4,:5)\"\n",
    "    items=[\n",
    "        (8,'오렌지',20000,'비타민 C가 풍부함','orange.jgp'),\n",
    "        (9,'키위',20000,'비타민 C가 풍부함','kiwi.jgp'),\n",
    "        (10,'귤',20000,'비타민 C가 풍부함','tangerine.jgp')\n",
    "    ]\n",
    "    #cursor.executemany(sql,items)\n",
    "    for row in items:\n",
    "        cursor.execute(sql,row)\n",
    "        \n",
    "    conn.commit()\n",
    "    conn.close()"
   ]
  },
  {
   "cell_type": "code",
   "execution_count": 56,
   "metadata": {},
   "outputs": [],
   "source": [
    "def delete_product():\n",
    "    conn=cx_Oracle.connect(\"pgm/1234@localhost:1521/xe\")\n",
    "    cursor=conn.cursor()\n",
    "    sql=\"delete from product where product_id=:product_id\"\n",
    "    #sql=\"delete from product where product_id=:1\"\n",
    "    cursor.execute(sql,{'product_id':5})\n",
    "    #cursor.execute(sql,(6))\n",
    "    conn.commit()\n",
    "    conn.close()"
   ]
  },
  {
   "cell_type": "code",
   "execution_count": 59,
   "metadata": {},
   "outputs": [],
   "source": [
    "def update_product():\n",
    "    price=int(input(\"price input: \"))\n",
    "    product_id=int(input(\"product_id input : \"))\n",
    "    conn=cx_Oracle.connect(\"pgm/1234@localhost:1521/xe\")\n",
    "    cursor=conn.cursor()\n",
    "    sql=\"update product set price=:1 where product_id=:2\"\n",
    "    data=(price,product_id)\n",
    "    cursor.execute(sql,data)\n",
    "    conn.commit()\n",
    "    conn.close()"
   ]
  },
  {
   "cell_type": "code",
   "execution_count": 63,
   "metadata": {},
   "outputs": [],
   "source": [
    "def select_group():    \n",
    "    conn=cx_Oracle.connect(\"pgm/1234@localhost:1521/xe\")\n",
    "    cursor=conn.cursor()\n",
    "    sql=\"\"\"select product_name,count(*) cnt,sum(price) sum \n",
    "    from product group by product_name\"\"\"\n",
    "    cursor.execute(sql)\n",
    "    for row in cursor:\n",
    "        print(row)\n",
    "    conn.close()"
   ]
  },
  {
   "cell_type": "code",
   "execution_count": 64,
   "metadata": {},
   "outputs": [
    {
     "name": "stdout",
     "output_type": "stream",
     "text": [
      "('키위', 2, 40000)\n",
      "('사과 ', 1, 10000)\n",
      "(' 배 ', 1, 20000)\n",
      "('오렌지', 1, 20000)\n",
      "('포 도', 1, 5000)\n",
      "('귤', 2, 40000)\n",
      "('레몬', 1, 150)\n"
     ]
    }
   ],
   "source": [
    "#insert_one()\n",
    "#insert_many()\n",
    "#delete_product()\n",
    "#update_product()\n",
    "#select_all()\n",
    "select_group()"
   ]
  },
  {
   "cell_type": "code",
   "execution_count": 68,
   "metadata": {},
   "outputs": [],
   "source": [
    "def mysql_select_all():\n",
    "    conn=pymysql.connect(host='localhost',\n",
    "                         user='pgm',password='1234',\n",
    "                         db='pyboard',charset='utf8')\n",
    "    cursor=conn.cursor()\n",
    "    sql=\"select * from student\"\n",
    "    cursor.execute(sql)\n",
    "    for row in cursor:\n",
    "        print(row)\n",
    "        \n",
    "    conn.close()"
   ]
  },
  {
   "cell_type": "code",
   "execution_count": 74,
   "metadata": {},
   "outputs": [],
   "source": [
    "def mysql_insert_one(t):\n",
    "    conn=pymysql.connect(host='localhost',\n",
    "                         user='pgm',password='1234',\n",
    "                         db='pyboard',charset='utf8')\n",
    "    cursor=conn.cursor()\n",
    "    sql=\"insert into student(name,major,age) values('%s','%s',%s)\"%('a','b',20)\n",
    "    cursor.execute(sql)\n",
    "    conn.commit()\n",
    "    conn.close()"
   ]
  },
  {
   "cell_type": "code",
   "execution_count": 80,
   "metadata": {},
   "outputs": [],
   "source": [
    "def mysql_insert_one2(t):\n",
    "    conn=pymysql.connect(host='localhost',\n",
    "                         user='pgm',password='1234',\n",
    "                         db='pyboard',charset='utf8')\n",
    "    cursor=conn.cursor()\n",
    "    sql=\"insert into student(name,major,age) values(%s,%s,%s)\"\n",
    "    cursor.execute(sql,t)\n",
    "    conn.commit()\n",
    "    conn.close()"
   ]
  },
  {
   "cell_type": "code",
   "execution_count": 91,
   "metadata": {},
   "outputs": [],
   "source": [
    "def mysql_insertmany(itmes):\n",
    "    conn=pymysql.connect(host='localhost',\n",
    "                         user='pgm',password='1234',\n",
    "                         db='pyboard',charset='utf8')\n",
    "    cursor=conn.cursor()\n",
    "    sql=\"insert into student(name,major,age) values(%s,%s,%s)\"\n",
    "    cursor.executemany(sql,itmes)\n",
    "    conn.commit()\n",
    "    conn.close()"
   ]
  },
  {
   "cell_type": "code",
   "execution_count": 95,
   "metadata": {},
   "outputs": [],
   "source": [
    "def mysql_update(data):\n",
    "    conn=pymysql.connect(host='localhost',\n",
    "                         user='pgm',password='1234',\n",
    "                         db='pyboard',charset='utf8')\n",
    "    cursor=conn.cursor()\n",
    "    sql=\"update student set major=%s, age=%s where sno=%s\"\n",
    "    cursor.execute(sql,data)\n",
    "    conn.commit()\n",
    "    conn.close()"
   ]
  },
  {
   "cell_type": "code",
   "execution_count": 101,
   "metadata": {},
   "outputs": [],
   "source": [
    "def mysql_updatemany(items):\n",
    "    conn=pymysql.connect(host='localhost',\n",
    "                         user='pgm',password='1234',\n",
    "                         db='pyboard',charset='utf8')\n",
    "    cursor=conn.cursor()\n",
    "    \n",
    "    sql=\"update student set major=%s, age=%s where sno=%s\"\n",
    "    \n",
    "    cursor.executemany(sql,items)\n",
    "    conn.commit()\n",
    "    conn.close()"
   ]
  },
  {
   "cell_type": "code",
   "execution_count": 103,
   "metadata": {},
   "outputs": [],
   "source": [
    "def mysql_delete(data):\n",
    "    conn=pymysql.connect(host='localhost',\n",
    "                         user='pgm',password='1234',\n",
    "                         db='pyboard',charset='utf8')\n",
    "    cursor=conn.cursor()\n",
    "    sql=\"delete from student where sno=%s\"\n",
    "    cursor.execute(sql,data)\n",
    "    conn.commit()\n",
    "    conn.close()"
   ]
  },
  {
   "cell_type": "code",
   "execution_count": 105,
   "metadata": {},
   "outputs": [],
   "source": [
    "def mysql_deletemany(data):\n",
    "    conn=pymysql.connect(host='localhost',\n",
    "                         user='pgm',password='1234',\n",
    "                         db='pyboard',charset='utf8')\n",
    "    cursor=conn.cursor()\n",
    "    sql=\"delete from student where sno=%s\"\n",
    "    cursor.executemany(sql,data)\n",
    "    conn.commit()\n",
    "    conn.close()"
   ]
  },
  {
   "cell_type": "code",
   "execution_count": 106,
   "metadata": {},
   "outputs": [
    {
     "name": "stdout",
     "output_type": "stream",
     "text": [
      "(4, 'a', 'b', 20)\n",
      "(5, 'kim', '경영', 25)\n",
      "(6, 'kim', '경영', 25)\n",
      "(7, 'lee', '영문', 22)\n",
      "(8, 'choi', 'math', 26)\n"
     ]
    }
   ],
   "source": [
    "items=[('경영',25,1),('영문',22,2),('math',26,3)]\n",
    "#data=('정통',21,1)\n",
    "#mysql_insertmany(items)\n",
    "#mysql_updatemany(items)\n",
    "mysql_deletemany([2,3])\n",
    "mysql_select_all()"
   ]
  },
  {
   "cell_type": "code",
   "execution_count": 113,
   "metadata": {},
   "outputs": [],
   "source": [
    "def books_select_all():\n",
    "    conn=pymysql.connect(host='localhost',\n",
    "                         user='pgm',password='1234',\n",
    "                         db='pyboard',charset='utf8')\n",
    "    cursor=conn.cursor()\n",
    "    sql=\"select * from books\"\n",
    "    cursor.execute(sql)\n",
    "    for row in cursor:\n",
    "        print(row)\n",
    "    conn.close()"
   ]
  },
  {
   "cell_type": "code",
   "execution_count": 115,
   "metadata": {},
   "outputs": [],
   "source": [
    "def books_insertone(data):\n",
    "    conn=pymysql.connect(host='localhost',\n",
    "                         user='pgm',password='1234',\n",
    "                         db='pyboard',charset='utf8')\n",
    "    cursor=conn.cursor()\n",
    "    sql=\"insert into books(title,author,publish) values(%s,%s,%s)\"\n",
    "    cursor.execute(sql,data)\n",
    "    conn.commit()\n",
    "    conn.close()"
   ]
  },
  {
   "cell_type": "code",
   "execution_count": 120,
   "metadata": {},
   "outputs": [],
   "source": [
    "def books_insertmany(items):\n",
    "    conn=pymysql.connect(host='localhost',\n",
    "                         user='pgm',password='1234',\n",
    "                         db='pyboard',charset='utf8')\n",
    "    cursor=conn.cursor()\n",
    "    sql=\"insert into books(title,author,publish) values(%s,%s,%s)\"\n",
    "    cursor.executemany(sql,items)\n",
    "    conn.commit()\n",
    "    conn.close()"
   ]
  },
  {
   "cell_type": "code",
   "execution_count": 122,
   "metadata": {},
   "outputs": [],
   "source": [
    "def books_updatemany(items):\n",
    "    conn=pymysql.connect(host='localhost',\n",
    "                         user='pgm',password='1234',\n",
    "                         db='pyboard',charset='utf8')\n",
    "    cursor=conn.cursor()\n",
    "    sql=\"update books set author=%s, publish=%s where bno=%s\"\n",
    "    cursor.executemany(sql,items)\n",
    "    conn.commit()\n",
    "    conn.close()"
   ]
  },
  {
   "cell_type": "code",
   "execution_count": 124,
   "metadata": {},
   "outputs": [],
   "source": [
    "def books_deletemany(items):\n",
    "    conn=pymysql.connect(host='localhost',\n",
    "                         user='pgm',password='1234',\n",
    "                         db='pyboard',charset='utf8')\n",
    "    cursor=conn.cursor()\n",
    "    sql=\"delete from books where bno=%s\"\n",
    "    cursor.executemany(sql,items)\n",
    "    conn.commit()\n",
    "    conn.close()"
   ]
  },
  {
   "cell_type": "code",
   "execution_count": 125,
   "metadata": {},
   "outputs": [
    {
     "name": "stdout",
     "output_type": "stream",
     "text": [
      "(1, '빅데이터분석', '조준모', '인피니티')\n",
      "(2, '자바프로그래밍', '황기태', '생능')\n",
      "(3, '오라클', '서진수', '생능')\n",
      "(4, 'jsp프로그래밍', '성윤정', '성안당')\n"
     ]
    }
   ],
   "source": [
    "#data=('jsp프로그래밍','성윤정','성안당')\n",
    "items=[('Spring','구멍가게코딩단','남가람북스'),\n",
    "       ('Hadoop','kkk','한빛')]\n",
    "up_items=[\n",
    "    ('박경미','길벗',5),\n",
    "       ('홍길동','영진',6)\n",
    "]\n",
    "#books_insertmany(items)\n",
    "#books_updatemany(up_items)\n",
    "books_deletemany([5,6])\n",
    "books_select_all()"
   ]
  }
 ],
 "metadata": {
  "kernelspec": {
   "display_name": "Python 3",
   "language": "python",
   "name": "python3"
  },
  "language_info": {
   "codemirror_mode": {
    "name": "ipython",
    "version": 3
   },
   "file_extension": ".py",
   "mimetype": "text/x-python",
   "name": "python",
   "nbconvert_exporter": "python",
   "pygments_lexer": "ipython3",
   "version": "3.7.4"
  }
 },
 "nbformat": 4,
 "nbformat_minor": 2
}
