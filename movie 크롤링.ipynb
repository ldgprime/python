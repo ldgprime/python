{
 "cells": [
  {
   "cell_type": "code",
   "execution_count": 29,
   "metadata": {},
   "outputs": [
    {
     "name": "stdout",
     "output_type": "stream",
     "text": [
      "['인비저블맨', '다크 워터스', '1917', '지푸라기라도 잡고 싶은 짐승들', '작은 아씨들', '정직한 후보', '세인트 아가타', '스타 이즈 본', '더 보이 2: 돌아온 브람스', '시원찮은 그녀를 위한 육성방법 피날레', '찬실이는 복도 많지', '작가 미상', '울프 콜', '그랜드 부다페스트 호텔', '젠틀맨', '슬럼독 밀리어네어', '기억의 전쟁', '리암 갤러거', '용길이네 곱창집', '나이브스 아웃', '타오르는 여인의 초상', '비긴 어게인', '레토', '미드나잇 인 파리', '맘마미아!', '숀더쉽 더 무비: 꼬마 외계인 룰라!', '비행', '악몽', '조조 래빗', '네 멋대로 해라: 장 뤽 고다르', '500일의 썸머', '샤인', '노팅 힐', '파라다이스 힐스', '빈폴', '산티아고의 흰 지팡이', '수퍼 소닉', '어바웃 타임', '기생충', '그녀', '어거스트 러쉬', '날씨의 아이', '스킨', '더 울프 오브 월 스트리트', '엠마', '버즈 오브 프레이(할리 퀸의 황홀한 해방)', '스포트라이트', '원스 어폰 어 타임... 인 할리우드', '극장판 미니특공대: 공룡왕 디노', '그린 북', '하트', '신문기자', '결혼 이야기', '겟 아웃', '두 교황', '집에 돌아오면, 언제나 아내가 죽은 척을 하고 있다', '말할 수 없는 비밀', '로마', '이 멋진 세계에 축복을! 붉은 전설', '메멘토', '졸업', '코끼리는 그곳에 있어', '꾸뻬씨의 행복여행', '어느 가족', '인셉션', '히트', '쉰들러 리스트', '스파이더맨: 파 프롬 홈', '문신을 한 신부님', '카잔자키스', '포드 V 페라리', '문라이트', '파이트 클럽', '신비아파트 극장판 하늘도깨비 대 요르문간드', '어메이징 그레이스', '그링고', '존 윅', '아이리시맨', '기도하는 남자', '벌새', '슈윙! 블루 노트 레코드 스토리', '남산의 부장들', '더 테러리스트', '메기', '사마에게', '작은 빛', '클로젯', '걸어도 걸어도', '그렇게 아버지가 된다', '극장판 헬로카봇 : 달나라를 구해줘!', '녹차의 중력', '바닷마을 다이어리', '백두 번째 구름', '성혜의 나라', '세븐', '신의 은총으로', '울지마 톤즈 2 : 슈크란 바바', '윤희에게', '주전장', '태풍이 지나가고', '테이큰', '파리로 가는 길', '해리 포터와 아즈카반의 죄수', '혼 : 공포의 시작', '환상의 빛', '히트맨', '미스 사이공: 25주년 특별 공연', '빌리 엘리어트', '살인의 추억', '싱 스트리트', '캐롤', '트루먼 쇼', '하이, 젝시']\n",
      "113\n"
     ]
    }
   ],
   "source": [
    "from urllib.request import urlopen\n",
    "from bs4 import BeautifulSoup\n",
    "\n",
    "html=urlopen('https://movie.naver.com/movie/running/current.nhn').read()\n",
    "soup=BeautifulSoup(html,'html.parser')\n",
    "movie_names = soup.select('dt.tit a')\n",
    "titles=[]\n",
    "for movie_name in movie_names:\n",
    "    titles.append(movie_name.text)\n",
    "print(titles)\n",
    "print(len(titles))"
   ]
  },
  {
   "cell_type": "code",
   "execution_count": 28,
   "metadata": {},
   "outputs": [
    {
     "name": "stdout",
     "output_type": "stream",
     "text": [
      "['15세 관람가', '12세 관람가', '15세 관람가', '청소년 관람불가', '전체 관람가', '12세 관람가', '청소년 관람불가', '15세 관람가', '15세 관람가', '12세 관람가', '전체 관람가', '청소년 관람불가', '15세 관람가', '15세 관람가', '청소년 관람불가', '15세 관람가', '12세 관람가', '15세 관람가', '15세 관람가', '12세 관람가', '15세 관람가', '15세 관람가', '15세 관람가', '15세 관람가', '12세 관람가', '전체 관람가', '15세 관람가', '청소년 관람불가', '12세 관람가', '15세 관람가', '15세 관람가', '15세 관람가', '12세 관람가', '12세 관람가', '15세 관람가', '전체 관람가', '전체 관람가', '15세 관람가', '15세 관람가', '15세 관람가', '전체 관람가', '15세 관람가', '청소년 관람불가', '청소년 관람불가', '12세 관람가', '15세 관람가', '15세 관람가', '청소년 관람불가', '전체 관람가', '12세 관람가', '청소년 관람불가', '12세 관람가', '15세 관람가', '15세 관람가', '12세 관람가', '12세 관람가', '12세 관람가', '15세 관람가', '15세 관람가', '15세 관람가', '15세 관람가', '12세 관람가', '15세 관람가', '15세 관람가', '12세 관람가', '청소년 관람불가', '15세 관람가', '12세 관람가', '15세 관람가', '12세 관람가', '12세 관람가', '15세 관람가', '청소년 관람불가', '전체 관람가', '전체 관람가', '15세 관람가', '청소년 관람불가', '청소년 관람불가', '15세 관람가', '15세 관람가', '12세 관람가', '15세 관람가', '15세 관람가', '15세 관람가', '15세 관람가', '12세 관람가', '15세 관람가', '전체 관람가', '전체 관람가', '전체 관람가', '전체 관람가', '12세 관람가', '12세 관람가', '12세 관람가', '청소년 관람불가', '15세 관람가', '전체 관람가', '12세 관람가', '전체 관람가', '12세 관람가', '청소년 관람불가', '12세 관람가', '전체 관람가', '12세 관람가', '15세 관람가', '15세 관람가', '15세 관람가', '12세 관람가', '15세 관람가', '15세 관람가', '청소년 관람불가', '12세 관람가', '15세 관람가']\n",
      "113\n"
     ]
    }
   ],
   "source": [
    "ages = soup.select('dt.tit span')\n",
    "permit_ages=[]\n",
    "for age in ages:\n",
    "    permit_ages.append(age.string)\n",
    "print(permit_ages) \n",
    "print(len(permit_ages))"
   ]
  },
  {
   "cell_type": "code",
   "execution_count": 56,
   "metadata": {},
   "outputs": [
    {
     "name": "stdout",
     "output_type": "stream",
     "text": [
      "<dl class=\"info_txt1\">\n",
      "<dt class=\"tit_t1\">개요</dt>\n",
      "<dd>\n",
      "<span class=\"link_txt\">\n",
      "<a href=\"/movie/sdb/browsing/bmovie.nhn?genre=4\">공포</a><!-- N=a:nol.genre,r:1 -->, \r\n",
      "\t\t\t\t\t\t\t\t\r\n",
      "\t\t\t\t\t\t\t\t\t<a href=\"/movie/sdb/browsing/bmovie.nhn?genre=7\">스릴러</a><!-- N=a:nol.genre,r:2 -->\n",
      "</span>\n",
      "<span class=\"split\">|</span>\r\n",
      "\t\t\t\t\t\t\t\t124분\r\n",
      "\t\t\t\t\t\t\t\r\n",
      "\t\t\t\t\t\t\t\r\n",
      "\t\t\t\t\t\t\t\r\n",
      "\t\t\t\t\t\t\t\r\n",
      "\t\t\t\t\t\t\t\t\r\n",
      "\t\t\t\t\t\t\t\t<span class=\"split\">|</span>\r\n",
      "\t\t\t\t\t\t\t\t2020.02.26 개봉\r\n",
      "\t\t\t\t\t\t\t\r\n",
      "\t\t\t\t\t\t</dd>\n",
      "<dt class=\"tit_t2\">감독</dt>\n",
      "<dd>\n",
      "<span class=\"link_txt\">\n",
      "<a href=\"/movie/bi/pi/basic.nhn?code=51988\">리 워넬</a><!-- N=a:nol.director,r:1 -->\n",
      "</span>\n",
      "</dd>\n",
      "<dt class=\"tit_t3\">출연</dt>\n",
      "<dd>\n",
      "<span class=\"link_txt\">\n",
      "<a href=\"/movie/bi/pi/basic.nhn?code=21737\">엘리자베스 모스</a><!-- N=a:nol.actor,r:1 -->\n",
      "</span>\n",
      "</dd>\n",
      "</dl>\n"
     ]
    }
   ],
   "source": [
    "info_txt1=soup.select('.info_txt1')\n",
    "print(info_txt1[0])"
   ]
  },
  {
   "cell_type": "code",
   "execution_count": 74,
   "metadata": {},
   "outputs": [
    {
     "name": "stdout",
     "output_type": "stream",
     "text": [
      "[['공포', '스릴러']]\n"
     ]
    }
   ],
   "source": [
    "movie_genres=[]\n",
    "genres=[]\n",
    "movie_directors=[]\n",
    "movie_acters=[]\n",
    "acters=[]\n",
    "\n",
    "for info in info_txt1:\n",
    "    link_txt=info.select('.link_txt')\n",
    "    \n",
    "    link_txt_a = link_txt[0].select('a')\n",
    "for a in link_txt_a:\n",
    "    genres.append(a.string)\n",
    "movie_genres.append(genres)\n",
    "print(movie_genres)"
   ]
  },
  {
   "cell_type": "code",
   "execution_count": null,
   "metadata": {},
   "outputs": [],
   "source": [
    "import pymysql\n",
    "def image_save(img_url,i):\n",
    "    "
   ]
  },
  {
   "cell_type": "code",
   "execution_count": null,
   "metadata": {},
   "outputs": [],
   "source": [
    "def  story_get(url):\n",
    "    base=\"http://movie.naver.com\"\n",
    "    html=urlopen(base+url)\n",
    "    bs=BeautifulSoup(html,'html.parser')"
   ]
  }
 ],
 "metadata": {
  "kernelspec": {
   "display_name": "Python 3",
   "language": "python",
   "name": "python3"
  },
  "language_info": {
   "codemirror_mode": {
    "name": "ipython",
    "version": 3
   },
   "file_extension": ".py",
   "mimetype": "text/x-python",
   "name": "python",
   "nbconvert_exporter": "python",
   "pygments_lexer": "ipython3",
   "version": "3.7.4"
  }
 },
 "nbformat": 4,
 "nbformat_minor": 2
}
