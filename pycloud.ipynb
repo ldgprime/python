{
 "cells": [
  {
   "cell_type": "code",
   "execution_count": null,
   "metadata": {},
   "outputs": [],
   "source": [
    "from konlpy.tag import Hannanum\n",
    "hannanum=Hannanum()\n",
    "\n",
    "print(hannanum.analyze('코로나19에 세계 최대 삼성 인도 휴대전화 공장도 멈췄다. ㅋㅋ'))\n",
    "#print(hannanum.morphs(\"코로나19에 세계 최대 삼성 인도 휴대전화 공장도 멈췄다\"))]\n",
    "#print(hannanum.nouns('코로나19에 세계 최대 삼성 인도 휴대전화 공장도 멈췄다'))\n",
    "#print(hannanum.pos('코로나19에 세계 최대 삼성 인도 휴대전화 공장도 멈췄다. ㅠㅠ'))"
   ]
  },
  {
   "cell_type": "code",
   "execution_count": null,
   "metadata": {},
   "outputs": [],
   "source": [
    "from konlpy.tag import Kkma\n",
    "kkma = Kkma()\n",
    "print(kkma.pos('코로나19에 세계 최대 삼성 인도 휴대전화 공장도 멈췄다. ㅠㅠ'))"
   ]
  },
  {
   "cell_type": "code",
   "execution_count": null,
   "metadata": {},
   "outputs": [],
   "source": [
    "from konlpy.tag import Okt\n",
    "okt=Okt()\n",
    "print(okt.pos(\"이것도 되나요ㅋㅋㅋ\"))"
   ]
  },
  {
   "cell_type": "code",
   "execution_count": 1,
   "metadata": {},
   "outputs": [
    {
     "name": "stdout",
     "output_type": "stream",
     "text": [
      "pygame 1.9.6\n",
      "Hello from the pygame community. https://www.pygame.org/contribute.html\n"
     ]
    }
   ],
   "source": [
    "from collections import Counter\n",
    "from konlpy.tag import Okt\n",
    "import pytagcloud"
   ]
  },
  {
   "cell_type": "code",
   "execution_count": 4,
   "metadata": {},
   "outputs": [],
   "source": [
    "f=open(\"data/data.txt\",encoding='utf-8')\n",
    "data=f.read()\n",
    "npl=Okt()\n",
    "nouns=npl.nouns(data)\n",
    "count=Counter(nouns)\n",
    "tag=count.most_common(50)\n",
    "taglist=pytagcloud.make_tags(tag,maxsize=80)\n",
    "f.close()"
   ]
  },
  {
   "cell_type": "code",
   "execution_count": 5,
   "metadata": {},
   "outputs": [],
   "source": [
    "pytagcloud.create_tag_image(taglist,'data/wordcloude.jpg',\n",
    "                             size=(900,600),fontname='Korean',\n",
    "                            rectangular=True)"
   ]
  },
  {
   "cell_type": "code",
   "execution_count": 9,
   "metadata": {},
   "outputs": [],
   "source": [
    "from collections import Counter\n",
    "from konlpy.tag import Okt\n",
    "import konlpy.utils\n",
    "import matplotlib.pyplot as plt\n",
    "import matplotlib\n",
    "from matplotlib import font_manager,rc\n",
    "import pytagcloud\n",
    "import webbrowser\n",
    "#import re\n",
    "#import json"
   ]
  },
  {
   "cell_type": "code",
   "execution_count": 64,
   "metadata": {},
   "outputs": [],
   "source": [
    "def show_chart(data):\n",
    "    font_path=\"c:/Windows/fonts/malgun.ttf\"\n",
    "    font_name=font_manager.FontProperties(fname=font_path).get_name()\n",
    "    matplotlib.rc('font', family=font_name)\n",
    "    \n",
    "    keys,values=[],[]\n",
    "    for t in data:\n",
    "        keys.append(t[0])\n",
    "        values.append(t[1])\n",
    "\n",
    "    plt.xlabel('주요 단어')\n",
    "    plt.ylabel('빈도수')\n",
    "    plt.grid(True)\n",
    "    plt.bar(keys,values)\n",
    "    plt.xticks(range(len(keys)), keys, rotation='90')\n",
    "    plt.show()\n",
    "   "
   ]
  },
  {
   "cell_type": "code",
   "execution_count": 55,
   "metadata": {},
   "outputs": [],
   "source": [
    "def pycloud_create(data):\n",
    "    nlp=Okt()\n",
    "    nouns=nlp.nouns(data)\n",
    "    #print(nouns)\n",
    "    count=Counter(nouns)\n",
    "    #print(count)\n",
    "    tag=count.most_common(20)\n",
    "    show_chart(tag)\n",
    "    #taglist=pytagcloud.make_tags(tag,maxsize=100)\n",
    "    #print(taglist)create\n",
    "#     pytagcloud.create_tag_image(taglist,\n",
    "#                                 'data/wordcloud2.jpg',\n",
    "#                                 size=(1024,800),\n",
    "#                                fontname='Korean',\n",
    "#                                rectangular=False)"
   ]
  },
  {
   "cell_type": "code",
   "execution_count": 56,
   "metadata": {},
   "outputs": [],
   "source": [
    "def main():\n",
    "    descriptions=''\n",
    "    filepath='코로나_naver_news.json'\n",
    "    data=konlpy.utils.read_json(filepath,encoding='utf-8')\n",
    "    #print(data)\n",
    "    for item in data:\n",
    "        if 'description' in item.keys():\n",
    "            descriptions+=item['description']\n",
    "    pycloud_create(descriptions)\n",
    "                                                             "
   ]
  },
  {
   "cell_type": "code",
   "execution_count": 65,
   "metadata": {},
   "outputs": [
    {
     "data": {
      "image/png": "[encoded data removed]",
      "text/plain": [
       "<Figure size 432x288 with 1 Axes>"
      ]
     },
     "metadata": {
      "needs_background": "light"
     },
     "output_type": "display_data"
    }
   ],
   "source": [
    "if __name__=='__main__':\n",
    "    main()"
   ]
  }
 ],
 "metadata": {
  "kernelspec": {
   "display_name": "Python 3",
   "language": "python",
   "name": "python3"
  },
  "language_info": {
   "codemirror_mode": {
    "name": "ipython",
    "version": 3
   },
   "file_extension": ".py",
   "mimetype": "text/x-python",
   "name": "python",
   "nbconvert_exporter": "python",
   "pygments_lexer": "ipython3",
   "version": "3.7.4"
  }
 },
 "nbformat": 4,
 "nbformat_minor": 2
}
