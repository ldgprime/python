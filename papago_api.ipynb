{
 "cells": [
  {
   "cell_type": "code",
   "execution_count": 1,
   "metadata": {},
   "outputs": [
    {
     "name": "stdout",
     "output_type": "stream",
     "text": [
      "{\"message\":{\"@type\":\"response\",\"@service\":\"naverservice.nmt.proxy\",\"@version\":\"1.0.0\",\"result\":{\"srcLangType\":\"ko\",\"tarLangType\":\"en\",\"translatedText\":\"Please enter a sentence to\",\"engineType\":\"N2MT\",\"pivot\":null}}}\n"
     ]
    }
   ],
   "source": [
    "# 네이버 Papago NMT API 예제\n",
    "import os\n",
    "import sys\n",
    "import urllib.request\n",
    "client_id = \"QKV3WlPWdsE2tiwsrgDD\"\n",
    "client_secret = \"m63WI5diLg\"\n",
    "encText = urllib.parse.quote(\"번역할 문장을 입력하세요\")\n",
    "data = \"source=ko&target=en&text=\" + encText\n",
    "url = \"https://openapi.naver.com/v1/papago/n2mt\"\n",
    "request = urllib.request.Request(url)\n",
    "request.add_header(\"X-Naver-Client-Id\",client_id)\n",
    "request.add_header(\"X-Naver-Client-Secret\",client_secret)\n",
    "response = urllib.request.urlopen(request, data=data.encode(\"utf-8\"))\n",
    "rescode = response.getcode()\n",
    "if(rescode==200):\n",
    "    response_body = response.read()\n",
    "    print(response_body.decode('utf-8'))\n",
    "else:\n",
    "    print(\"Error Code:\" + rescode)"
   ]
  },
  {
   "cell_type": "code",
   "execution_count": 2,
   "metadata": {},
   "outputs": [
    {
     "name": "stdout",
     "output_type": "stream",
     "text": [
      "{\"message\":{\"@type\":\"response\",\"@service\":\"naverservice.nmt.proxy\",\"@version\":\"1.0.0\",\"result\":{\"srcLangType\":\"en\",\"tarLangType\":\"ko\",\"translatedText\":\"빅 데이터는 기존의 데이터 처리 애플리케이션 소프트웨어에서 다루기에는 너무 크거나 복잡한 데이터 세트를 분석하거나 체계적으로 추출하거나 다른 방법으로 처리하는 방법을 다루는 분야다. 많은 경우의 데이터(행)는 더 큰 통계적 힘을 제공하는 반면, 복잡도가 높은 데이터(속성 또는 열)는 더 높은 거짓 발견률을 초래할 수 있다.[2] 빅 데이터 과제로는 데이터 캡처, 데이터 스토리지, 데이터 분석, 검색, 공유, 전송, 시각화, 쿼리, 업데이트, 정보 개인 정보 보호 및 데이터 소스가 있다. 빅 데이터는 원래 볼륨, 다양성 및 속도라는 세 가지 핵심 개념과 연관되어 있었다. 우리가 빅데이터를 다룰 때, 우리는 샘플을 채취하지 않고 단순히 어떤 일이 일어나는지 관찰하고 추적할 수 있다. 따라서 빅 데이터는 종종 허용 가능한 시간과 가치 내에서 처리할 수 있는 기존 소프트웨어의 용량을 초과하는 크기의 데이터를 포함한다.\",\"engineType\":\"UNDEF_MULTI_SENTENCE\",\"pivot\":null}}}\n"
     ]
    }
   ],
   "source": [
    "# 네이버 Papago NMT API 예제\n",
    "import os\n",
    "import sys\n",
    "import urllib.request\n",
    "client_id = \"QKV3WlPWdsE2tiwsrgDD\"\n",
    "client_secret = \"m63WI5diLg\"\n",
    "s1=\"\"\"\n",
    "Big data is a field that treats ways to analyze, systematically extract information from, or otherwise deal with data sets that are too large or complex to be dealt with by traditional data-processing application software. Data with many cases (rows) offer greater statistical power, while data with higher complexity (more attributes or columns) may lead to a higher false discovery rate.[2] Big data challenges include capturing data, data storage, data analysis, search, sharing, transfer, visualization, querying, updating, information privacy and data source. Big data was originally associated with three key concepts: volume, variety, and velocity. When we handle big data, we may not sample but simply observe and track what happens. Therefore, big data often includes data with sizes that exceed the capacity of traditional software to process within an acceptable time and value.\n",
    "\"\"\"\n",
    "encText = urllib.parse.quote(s1)\n",
    "data = \"source=en&target=ko&text=\" + encText\n",
    "url = \"https://openapi.naver.com/v1/papago/n2mt\"\n",
    "request = urllib.request.Request(url)\n",
    "request.add_header(\"X-Naver-Client-Id\",client_id)\n",
    "request.add_header(\"X-Naver-Client-Secret\",client_secret)\n",
    "response = urllib.request.urlopen(request, data=data.encode(\"utf-8\"))\n",
    "rescode = response.getcode()\n",
    "if(rescode==200):\n",
    "    response_body = response.read()\n",
    "    print(response_body.decode('utf-8'))\n",
    "else:\n",
    "    print(\"Error Code:\" + rescode)"
   ]
  }
 ],
 "metadata": {
  "kernelspec": {
   "display_name": "Python 3",
   "language": "python",
   "name": "python3"
  },
  "language_info": {
   "codemirror_mode": {
    "name": "ipython",
    "version": 3
   },
   "file_extension": ".py",
   "mimetype": "text/x-python",
   "name": "python",
   "nbconvert_exporter": "python",
   "pygments_lexer": "ipython3",
   "version": "3.7.4"
  }
 },
 "nbformat": 4,
 "nbformat_minor": 2
}
