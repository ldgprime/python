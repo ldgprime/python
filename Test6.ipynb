{
 "cells": [
  {
   "cell_type": "code",
   "execution_count": null,
   "metadata": {},
   "outputs": [],
   "source": [
    "#파이썬 스타일 코딩\n",
    "colors=['red','green','blue','yellow']\n",
    "result=\"\"\n",
    "for c in colors:\n",
    "    result += c+', ' \n",
    "print(result)"
   ]
  },
  {
   "cell_type": "code",
   "execution_count": null,
   "metadata": {},
   "outputs": [],
   "source": [
    "colors=['red','green','blue','yellow']\n",
    "result=', '.join(colors)\n",
    "result"
   ]
  },
  {
   "cell_type": "code",
   "execution_count": null,
   "metadata": {},
   "outputs": [],
   "source": [
    "colors=['red','green','blue','yellow']\n",
    "result=' '.join(colors)\n",
    "result"
   ]
  },
  {
   "cell_type": "code",
   "execution_count": null,
   "metadata": {},
   "outputs": [],
   "source": [
    "list_s=result.split() #아무 값도 넣어주지 않으면 공백으로 나누어 리스트로 만든다.\n",
    "list_s"
   ]
  },
  {
   "cell_type": "code",
   "execution_count": null,
   "metadata": {},
   "outputs": [],
   "source": [
    "text=\"red-green-blue\"\n",
    "text_list=text.split('-')\n",
    "text_list"
   ]
  },
  {
   "cell_type": "code",
   "execution_count": null,
   "metadata": {},
   "outputs": [],
   "source": [
    "result=[i for i in range(10)]\n",
    "print(result)\n",
    "result=[i for i in range(10) if i%2 == 0]\n",
    "print(result)\n",
    "result=[i if i%2 == 0 else 10 for i in range(10) ]\n",
    "print(result)\n",
    "\n"
   ]
  },
  {
   "cell_type": "code",
   "execution_count": 3,
   "metadata": {},
   "outputs": [
    {
     "name": "stdout",
     "output_type": "stream",
     "text": [
      "['hw', 'ho', 'hr', 'hl', 'hd', 'ew', 'eo', 'er', 'el', 'ed', 'lw', 'lo', 'lr', 'll', 'ld', 'lw', 'lo', 'lr', 'll', 'ld', 'ow', 'oo', 'or', 'ol', 'od']\n",
      "[10, 20, 30, 40, 50, 60, 70, 80, 90, 11, 21, 31, 41, 51, 61, 71, 81, 91, 12, 22, 32, 42, 52, 62, 72, 82, 92, 13, 23, 33, 43, 53, 63, 73, 83, 93, 14, 24, 34, 44, 54, 64, 74, 84, 94, 15, 25, 35, 45, 55, 65, 75, 85, 95, 16, 26, 36, 46, 56, 66, 76, 86, 96, 17, 27, 37, 47, 57, 67, 77, 87, 97, 18, 28, 38, 48, 58, 68, 78, 88, 98, 19, 29, 39, 49, 59, 69, 79, 89, 99]\n",
      "[10, 20, 30, 40, 50, 60, 70, 80, 90, 11, 21, 31, 41, 51, 61, 71, 81, 91, 12, 22, 32, 42, 52, 62, 72, 82, 92, 13, 23, 33, 43, 53, 63, 73, 83, 93, 14, 24, 34, 44, 54, 64, 74, 84, 94, 15, 25, 35, 45, 55, 65, 75, 85, 95, 16, 26, 36, 46, 56, 66, 76, 86, 96, 17, 27, 37, 47, 57, 67, 77, 87, 97, 18, 28, 38, 48, 58, 68, 78, 88, 98, 19, 29, 39, 49, 59, 69, 79, 89, 99]\n"
     ]
    }
   ],
   "source": [
    "word1=\"hello\"\n",
    "word2=\"world\"\n",
    "\n",
    "result=[i+j for i in word1 for j in word2] #중첩 for문\n",
    "print(result)\n",
    "\n",
    "result=[i+j for i in range(10) for j in range(10,100,10)] #중첩 for문\n",
    "print(result)\n",
    "\n",
    "result=[]\n",
    "for i in range(10):\n",
    "    for j in range(10,100,10):\n",
    "        result.append(i+j)\n",
    "print(result)        \n"
   ]
  },
  {
   "cell_type": "code",
   "execution_count": 7,
   "metadata": {},
   "outputs": [
    {
     "name": "stdout",
     "output_type": "stream",
     "text": [
      "['AC', 'AD', 'BC', 'BD', 'BA', 'CD', 'CA']\n",
      "['AC', 'AD', 'A', 'BC', 'BD', 'BA', 'C', 'CD', 'CA']\n",
      "['AC', 'AD', 'A', 'BC', 'BD', 'BA', 'C', 'CD', 'CA']\n"
     ]
    }
   ],
   "source": [
    "case1=['A','B','C'] #같은 문자 제외\n",
    "case2=['C','D','A']\n",
    "\n",
    "result=[i+j for i in case1 for j in case2 if not(i==j)]\n",
    "print(result)\n",
    "result=[i+j if not(i==j) else i for i in case1 for j in case2 ]\n",
    "print(result)\n",
    "\n",
    "result=[]\n",
    "for i in case1:\n",
    "    for j in case2:\n",
    "        if not(i==j):\n",
    "            result.append(i+j)\n",
    "        else:\n",
    "            result.append(i)\n",
    "print(result)"
   ]
  },
  {
   "cell_type": "code",
   "execution_count": 10,
   "metadata": {},
   "outputs": [
    {
     "name": "stdout",
     "output_type": "stream",
     "text": [
      "['The', 'quick', 'brown', 'fox', 'jumps', 'over', 'the', 'lazy', 'dog']\n",
      "[['THE', 'the', 3], ['QUICK', 'quick', 5], ['BROWN', 'brown', 5], ['FOX', 'fox', 3], ['JUMPS', 'jumps', 5], ['OVER', 'over', 4], ['THE', 'the', 3], ['LAZY', 'lazy', 4], ['DOG', 'dog', 3]]\n",
      "[['파이썬', 3], ['컴프리헨션', 5], ['이차원', 3], ['리스트', 3], ['만들기', 3]]\n"
     ]
    }
   ],
   "source": [
    "words=\"The quick brown fox jumps over the lazy dog\".split()\n",
    "print(words)\n",
    "stuff=[[w.upper(),w.lower(),len(w)] for w in words]\n",
    "print(stuff)\n",
    "\n",
    "words=\"파이썬 컴프리헨션 이차원 리스트 만들기\".split()\n",
    "words_list=[[w,len(w)] for w in words]\n",
    "print(words_list)"
   ]
  },
  {
   "cell_type": "code",
   "execution_count": 12,
   "metadata": {},
   "outputs": [
    {
     "name": "stdout",
     "output_type": "stream",
     "text": [
      "[['AC', 'AD', 'AA'], ['BC', 'BD', 'BA'], ['CC', 'CD', 'CA']]\n",
      "['AC', 'AD', 'AA', 'BC', 'BD', 'BA', 'CC', 'CD', 'CA']\n"
     ]
    }
   ],
   "source": [
    "case1=['A','B','C']\n",
    "case2=['C','D','A']\n",
    "#이차원배열을 만들 때 바깥 for문이 밖으로\n",
    "result=[[i+j for j in case2] for i in case1]\n",
    "print(result)\n",
    "#중첩반복은 바깥 for 문이 안쪽으로\n",
    "result=[i+j for i in case1 for j in case2]\n",
    "print(result)"
   ]
  },
  {
   "cell_type": "code",
   "execution_count": 15,
   "metadata": {},
   "outputs": [
    {
     "name": "stdout",
     "output_type": "stream",
     "text": [
      "0 tic\n",
      "1 tac\n",
      "2 toe\n"
     ]
    }
   ],
   "source": [
    "a=['tic','tac','toe']\n",
    "for i,v in enumerate(a):\n",
    "    print(i,v)"
   ]
  },
  {
   "cell_type": "code",
   "execution_count": 18,
   "metadata": {},
   "outputs": [
    {
     "name": "stdout",
     "output_type": "stream",
     "text": [
      "('a1', 'b1', 'c1')\n",
      "('a2', 'b2', 'c2')\n",
      "('a3', 'b3', 'c3')\n",
      "a1 b1\n",
      "a2 b2\n",
      "a3 b3\n"
     ]
    }
   ],
   "source": [
    "alist=['a1','a2','a3']\n",
    "blist=['b1','b2','b3']\n",
    "clist=['c1','c2','c3']\n",
    "for i in zip(alist,blist,clist):\n",
    "    print(i) #튜플을 만들어서 줌\n",
    "    \n",
    "for a,b in zip(alist,blist):\n",
    "    print(a,b)"
   ]
  },
  {
   "cell_type": "code",
   "execution_count": 23,
   "metadata": {},
   "outputs": [
    {
     "name": "stdout",
     "output_type": "stream",
     "text": [
      "111\n",
      "37.0\n",
      "222\n",
      "74.0\n",
      "333\n",
      "111.0\n",
      "444\n",
      "148.0\n",
      "[37.0, 74.0, 111.0, 148.0]\n"
     ]
    }
   ],
   "source": [
    "A=[1,2,3,4]\n",
    "B=[10,20,30,40]\n",
    "C=[100,200,300,400]\n",
    "\n",
    "result=[]\n",
    "for i in zip(A,B,C):\n",
    "    print(sum(i))\n",
    "    print(sum(i)/3)\n",
    "    result.append(sum(i)/3)\n",
    "print(result)\n",
    "    "
   ]
  },
  {
   "cell_type": "code",
   "execution_count": 26,
   "metadata": {},
   "outputs": [
    {
     "name": "stdout",
     "output_type": "stream",
     "text": [
      "5\n",
      "5\n",
      "5\n",
      "6\n",
      "6\n"
     ]
    }
   ],
   "source": [
    "def f(x,y):\n",
    "    return x+y\n",
    "print(f(1,4))\n",
    "\n",
    "f=lambda x,y:x+y\n",
    "print(f(1,4))\n",
    "\n",
    "print((lambda x,y:x+y)(1,4))\n",
    "\n",
    "f=lambda x:x+1\n",
    "print(f(5))\n",
    "\n",
    "print((lambda x:x+1)(5))"
   ]
  },
  {
   "cell_type": "code",
   "execution_count": 27,
   "metadata": {},
   "outputs": [
    {
     "name": "stdout",
     "output_type": "stream",
     "text": [
      "5\n",
      "9\n",
      "1.5\n"
     ]
    },
    {
     "ename": "TypeError",
     "evalue": "<lambda>() takes 1 positional argument but 2 were given",
     "output_type": "error",
     "traceback": [
      "\u001b[1;31m---------------------------------------------------------------------------\u001b[0m",
      "\u001b[1;31mTypeError\u001b[0m                                 Traceback (most recent call last)",
      "\u001b[1;32m<ipython-input-27-07daf1cdbee3>\u001b[0m in \u001b[0;36m<module>\u001b[1;34m\u001b[0m\n\u001b[0;32m      5\u001b[0m \u001b[0mf\u001b[0m\u001b[1;33m=\u001b[0m\u001b[1;32mlambda\u001b[0m \u001b[0mx\u001b[0m\u001b[1;33m:\u001b[0m\u001b[0mx\u001b[0m\u001b[1;33m/\u001b[0m\u001b[1;36m2\u001b[0m\u001b[1;33m\u001b[0m\u001b[1;33m\u001b[0m\u001b[0m\n\u001b[0;32m      6\u001b[0m \u001b[0mprint\u001b[0m\u001b[1;33m(\u001b[0m\u001b[0mf\u001b[0m\u001b[1;33m(\u001b[0m\u001b[1;36m3\u001b[0m\u001b[1;33m)\u001b[0m\u001b[1;33m)\u001b[0m\u001b[1;33m\u001b[0m\u001b[1;33m\u001b[0m\u001b[0m\n\u001b[1;32m----> 7\u001b[1;33m \u001b[0mprint\u001b[0m\u001b[1;33m(\u001b[0m\u001b[0mf\u001b[0m\u001b[1;33m(\u001b[0m\u001b[1;36m3\u001b[0m\u001b[1;33m,\u001b[0m\u001b[1;36m5\u001b[0m\u001b[1;33m)\u001b[0m\u001b[1;33m)\u001b[0m\u001b[1;33m\u001b[0m\u001b[1;33m\u001b[0m\u001b[0m\n\u001b[0m",
      "\u001b[1;31mTypeError\u001b[0m: <lambda>() takes 1 positional argument but 2 were given"
     ]
    }
   ],
   "source": [
    "f= lambda x,y:x+y\n",
    "print(f(1,4))\n",
    "f=lambda x:x**2\n",
    "print(f(3))\n",
    "f=lambda x:x/2\n",
    "print(f(3))\n",
    "print(f(3,5))"
   ]
  },
  {
   "cell_type": "code",
   "execution_count": null,
   "metadata": {},
   "outputs": [],
   "source": [
    "def sum(a,b,*c):\n",
    "    print(a,b,*c)\n",
    "sum(1,2,3)\n",
    "sum(1,2,3,4,5)"
   ]
  }
 ],
 "metadata": {
  "kernelspec": {
   "display_name": "Python 3",
   "language": "python",
   "name": "python3"
  },
  "language_info": {
   "codemirror_mode": {
    "name": "ipython",
    "version": 3
   },
   "file_extension": ".py",
   "mimetype": "text/x-python",
   "name": "python",
   "nbconvert_exporter": "python",
   "pygments_lexer": "ipython3",
   "version": "3.7.4"
  }
 },
 "nbformat": 4,
 "nbformat_minor": 2
}
