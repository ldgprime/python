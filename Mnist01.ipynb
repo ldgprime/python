{
 "cells": [
  {
   "cell_type": "code",
   "execution_count": 4,
   "metadata": {},
   "outputs": [
    {
     "name": "stdout",
     "output_type": "stream",
     "text": [
      "Extracting MNIST_data/train-images-idx3-ubyte.gz\n",
      "Extracting MNIST_data/train-labels-idx1-ubyte.gz\n",
      "Extracting MNIST_data/t10k-images-idx3-ubyte.gz\n",
      "Extracting MNIST_data/t10k-labels-idx1-ubyte.gz\n"
     ]
    },
    {
     "data": {
      "text/plain": [
       "Datasets(train=<tensorflow.contrib.learn.python.learn.datasets.mnist.DataSet object at 0x0000025C1A57BB48>, validation=<tensorflow.contrib.learn.python.learn.datasets.mnist.DataSet object at 0x0000025C0D644D08>, test=<tensorflow.contrib.learn.python.learn.datasets.mnist.DataSet object at 0x0000025C1A5ED188>)"
      ]
     },
     "execution_count": 4,
     "metadata": {},
     "output_type": "execute_result"
    }
   ],
   "source": [
    "import tensorflow.compat.v1 as tf\n",
    "# tf.disable_v2.behavior()\n",
    "import matplotlib.pyplot as plt\n",
    "import random\n",
    "\n",
    "tf.set_random_seed(777)\n",
    "\n",
    "from tensorflow.examples.tutorials.mnist import input_data\n",
    "\n",
    "mnist = input_data.read_data_sets(\"MNIST_data/\",one_hot=True)\n",
    "mnist"
   ]
  },
  {
   "cell_type": "code",
   "execution_count": 5,
   "metadata": {},
   "outputs": [],
   "source": [
    "nb_classes = 10\n",
    "\n",
    "X = tf.placeholder(tf.float32,[None,784])\n",
    "Y = tf.placeholder(tf.float32,[None, nb_classes])\n",
    "\n",
    "W = tf.Variable(tf.random_normal([784,nb_classes]))\n",
    "b = tf.Variable(tf.random_normal([nb_classes]))\n",
    "\n",
    "hypothesis = tf.nn.softmax(tf.matmul(X, W) + b)\n",
    "\n",
    "cost = tf.reduce_mean(-tf.reduce_sum(Y * tf.log(hypothesis), axis = 1))\n",
    "train = tf.train.GradientDescentOptimizer(learning_rate=0.1).minimize(cost)"
   ]
  },
  {
   "cell_type": "code",
   "execution_count": 9,
   "metadata": {},
   "outputs": [
    {
     "name": "stdout",
     "output_type": "stream",
     "text": [
      "Epoch: 0001, Cost: 02.828842\n",
      "Epoch: 0002, Cost: 01.059527\n",
      "Epoch: 0003, Cost: 00.836893\n",
      "Epoch: 0004, Cost: 00.733463\n",
      "Epoch: 0005, Cost: 00.669854\n",
      "Epoch: 0006, Cost: 00.624950\n",
      "Epoch: 0007, Cost: 00.590789\n",
      "Epoch: 0008, Cost: 00.563838\n",
      "Epoch: 0009, Cost: 00.541437\n",
      "Epoch: 0010, Cost: 00.522437\n",
      "Epoch: 0011, Cost: 00.506818\n",
      "Epoch: 0012, Cost: 00.492626\n",
      "Epoch: 0013, Cost: 00.479920\n",
      "Epoch: 0014, Cost: 00.469152\n",
      "Epoch: 0015, Cost: 00.458583\n",
      "Learning finished\n",
      "Accuracy: 0.896\n",
      "Label: [2]\n",
      "Prediction: [2]\n"
     ]
    },
    {
     "data": {
      "image/png": "[encoded data removed]",
      "text/plain": [
       "<Figure size 432x288 with 1 Axes>"
      ]
     },
     "metadata": {
      "needs_background": "light"
     },
     "output_type": "display_data"
    }
   ],
   "source": [
    "is_correct = tf.equal(tf.argmax(hypothesis, 1), tf.argmax(Y,1))\n",
    "accuracy = tf.reduce_mean(tf.cast(is_correct,tf.float32))\n",
    "\n",
    "num_epochs = 15\n",
    "batch_size = 100\n",
    "num_iterations = int(mnist.train.num_examples / batch_size)\n",
    "\n",
    "with tf.Session() as sess:\n",
    "    sess.run(tf.global_variables_initializer())\n",
    "    for epoch in range(num_epochs):\n",
    "        avg_cost=0\n",
    "        \n",
    "        for i in range(num_iterations):\n",
    "            batch_xs, batch_ys = mnist.train.next_batch(batch_size)\n",
    "            _,cost_val = sess.run([train, cost], feed_dict={X:batch_xs, Y:batch_ys})\n",
    "            avg_cost += cost_val / num_iterations\n",
    "        \n",
    "        print(\"Epoch: {:04d}, Cost: {:09f}\".format(epoch + 1, avg_cost))\n",
    "    print(\"Learning finished\")\n",
    "    \n",
    "    print(\"Accuracy:\",accuracy.eval(session=sess,feed_dict={X:mnist.test.images, Y: mnist.test.labels}))\n",
    "    \n",
    "    r= random.randint(0, mnist.test.num_examples - 1)\n",
    "    print(\"Label:\", sess.run(tf.argmax(mnist.test.labels[r:r+1],1)))\n",
    "    print(\"Prediction:\",sess.run(tf.argmax(hypothesis, 1), feed_dict={X: mnist.test.images[r:r+1]}))\n",
    "    \n",
    "    plt.imshow(\n",
    "        mnist.test.images[r:r+1].reshape(28,28),\n",
    "        cmap=\"Greys\",\n",
    "        interpolation=\"nearest\",\n",
    "    )\n",
    "    plt.show()"
   ]
  }
 ],
 "metadata": {
  "kernelspec": {
   "display_name": "Python 3",
   "language": "python",
   "name": "python3"
  },
  "language_info": {
   "codemirror_mode": {
    "name": "ipython",
    "version": 3
   },
   "file_extension": ".py",
   "mimetype": "text/x-python",
   "name": "python",
   "nbconvert_exporter": "python",
   "pygments_lexer": "ipython3",
   "version": "3.7.4"
  }
 },
 "nbformat": 4,
 "nbformat_minor": 2
}
